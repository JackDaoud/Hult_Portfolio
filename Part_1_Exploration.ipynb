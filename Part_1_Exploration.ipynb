{
 "cells": [
  {
   "cell_type": "markdown",
   "metadata": {},
   "source": [
    "# Apprentice Chef - Exploration\n",
    "\n",
    "> *by Jack Daoud, February 11th 2021*\n",
    "\n",
    "# Setup"
   ]
  },
  {
   "cell_type": "code",
   "execution_count": null,
   "metadata": {
    "code_folding": [
     0
    ]
   },
   "outputs": [],
   "source": [
    "# Set up environment with libraries & data\n",
    "\n",
    "##############################################################################\n",
    "# Import libraries\n",
    "\n",
    "import pandas as pd                     # data sceince essentials\n",
    "import matplotlib.pyplot as plt         # essential graphical output\n",
    "import seaborn as sns                   # enhanced visualizations\n",
    "import numpy as np                      # mathematical essentials\n",
    "from tqdm.notebook import tqdm          # progress bars\n",
    "import time                             # time essentials\n",
    "\n",
    "# Set Pandas print options\n",
    "pd.set_option('display.max_rows', 500)\n",
    "pd.set_option('display.max_columns', 500)\n",
    "pd.set_option('display.width', 1000)\n",
    "\n",
    "##############################################################################\n",
    "# Import data\n",
    "\n",
    "# Specify file name\n",
    "file_data = './_data/Apprentice_Chef_Dataset.xlsx'\n",
    "\n",
    "# Read file into Python\n",
    "chefs = pd.read_excel(io     = file_data,\n",
    "                      header = 0)\n",
    "\n",
    "##############################################################################\n",
    "# Fix data\n",
    "\n",
    "# Rename LARGEST_ORDER_SIZE to AVG_MEALS_ORDERED\n",
    "chefs.rename(columns={'LARGEST_ORDER_SIZE':'AVG_MEALS_ORDERED'}, inplace=True)\n",
    "\n",
    "# Print dimensions of data\n",
    "print(f\"\"\"\n",
    "Size of Original Dataset\n",
    "------------------------\n",
    "Observations: {chefs.shape[0]}\n",
    "Features:     {chefs.shape[1]}\n",
    "\"\"\")"
   ]
  },
  {
   "cell_type": "markdown",
   "metadata": {},
   "source": [
    "# Variables & Description\n",
    "\n",
    "#### Continuous\n",
    "- `REVENUE`: Total revenue generated from each customer. Note that at times discounts are applied due to special circumstances, but this is extremely rare and not recorded in a separate column.\n",
    "- `AVG_TIME_PER_SITE_VISIT`: Average time each customer spent per website or mobile app visit.\n",
    "- `TOTAL_MEALS_ORDERED`: Total number of meals ordered by each customer. Customers can order several meals at one time.\n",
    "- `AVG_PREP_VID_TIME`: Average time in seconds meal prep instruction video was was playing.\n",
    "- `TOTAL_PHOTOS_VIEWED`: Total number of clicks on photos across all website or mobile app visits.\n",
    "\n",
    "#### Interval/Count\n",
    "\n",
    "- `UNIQUE_MEALS_PURCH`: Number of unique meal sets ordered by each customer.\n",
    "- `CONTACTS_W_CUSTOMER_SERVICE`: Number of times each customer made contact with customer service. This number does not include rating meal sets or completing satisfaction surveys.\n",
    "- `PRODUCT_CATEGORIES_VIEWED`: Total number of meal categories viewed (vegan, etc.).\n",
    "- `CANCELLATIONS_BEFORE_NOON`: Number of meals canceled BEFORE 12:00 PM (noon) as per cancelation policy.\n",
    "- `CANCELLATIONS_AFTER_NOON`: Number of meals canceled AFTER 12:00 PM (noon) as per cancelation policy.\n",
    "- `MOBILE_LOGINS`: Total number of logins to the mobile platform.\n",
    "- `PC_LOGINS`: Total number of logins to the website.\n",
    "- `WEEKLY_PLAN`: Number of weeks customer subscribed to the weekly plan discount promotion.\n",
    "- `EARLY_DELIVERIES`: Total meal deliveries that arrived early.\n",
    "- `LATE_DELIVERIES`: Total meal deliveries that arrived late.\n",
    "- `MASTER_CLASSES_ATTENDED`: Number of times each customer attended a master cooking class (1 class per quarter).\n",
    "- `MEDIAN_MEAL_RATING`: Median rating of meal sets by each customer\n",
    "- `AVG_MEALS_ORDERED`: Average number of meals ordered per customer.\n",
    "- `AVG_CLICKS_PER_VISIT`: Average number of clicks per site or mobile app visit\n",
    "\n",
    "\n",
    "\n",
    "#### Categorical\n",
    "- `CROSS_SELL_SUCCESS`: Success of the cross-sell promotion (1 = yes, 0 = no).\n",
    "- `MOBILE_NUMBER`: Indicates whether the registered phone number of a custmer is mobile or landline (1 = mobile, 0 = landline).\n",
    "- `TASTES_AND_PREFERENCES`: Customer specified their tastes and preferences in their profile (optional).\n",
    "- `PACKAGE_LOCKER`: Customer's residence/building has a package locker service or package room.\n",
    "- `REFRIGERATED_LOCKER`: Package locker has refrigerated compartments.\n",
    "\n",
    "#### Personal Identification Information (PII)\n",
    "- `NAME`\n",
    "- `EMAIL`\n",
    "- `FIRST_NAME`\n",
    "- `LAST_NAME`"
   ]
  },
  {
   "cell_type": "markdown",
   "metadata": {},
   "source": [
    "# Exploration\n",
    "\n",
    "## Response Variable"
   ]
  },
  {
   "cell_type": "code",
   "execution_count": null,
   "metadata": {
    "code_folding": [
     0
    ],
    "scrolled": false
   },
   "outputs": [],
   "source": [
    "# Plot original distribution of Revenue\n",
    "\n",
    "# Create histogram\n",
    "sns.displot(data   = chefs,\n",
    "            x      = 'REVENUE',\n",
    "            height = 5,\n",
    "            aspect = 2)\n",
    "\n",
    "# Label title & axis\n",
    "plt.title(label   = 'Original Distribution of Revenue')\n",
    "plt.xlabel(xlabel = 'Revenue')\n",
    "plt.ylabel(ylabel = 'Count')\n",
    "\n",
    "# Display plot\n",
    "plt.show()"
   ]
  },
  {
   "cell_type": "code",
   "execution_count": null,
   "metadata": {
    "code_folding": [
     0
    ]
   },
   "outputs": [],
   "source": [
    "# Plot logarithmic distribution of Revenue\n",
    "\n",
    "# log transforming REVENUE and saving it to the dataset\n",
    "chefs['log_REVENUE'] = np.log10(chefs['REVENUE'])\n",
    "\n",
    "# Plot original distribution of Revenue\n",
    "\n",
    "# Create histogram\n",
    "sns.displot(data   = chefs,\n",
    "            x      = 'log_REVENUE',\n",
    "            height = 5,\n",
    "            aspect = 2)\n",
    "\n",
    "# Label title & axis\n",
    "plt.title(label   = 'Original Distribution of Revenue')\n",
    "plt.xlabel(xlabel = 'Revenue')\n",
    "plt.ylabel(ylabel = 'Count')\n",
    "\n",
    "# Display plot\n",
    "plt.show()"
   ]
  },
  {
   "cell_type": "code",
   "execution_count": null,
   "metadata": {
    "code_folding": [
     0
    ]
   },
   "outputs": [],
   "source": [
    "# Plot correlation coefficients of \"REVENUE\" with other variables:\n",
    "\n",
    "plt.figure(figsize=(15,8))\n",
    "\n",
    "ax = chefs.corr()['REVENUE'] \\\n",
    "          .sort_values(ascending = False)\\\n",
    "          .round(2)\\\n",
    "          .plot(kind = 'bar', color = 'darkblue', alpha = 0.1)\n",
    "\n",
    "ax.set_title('Correlations of Variables with Revenue')\n",
    "ax.set_xlabel('Variables')\n",
    "ax.set_ylabel('Correlation Coefficients')\n",
    "\n",
    "#for p in ax.patches:\n",
    "#    ax.annotate(str(p.get_height()), (p.get_x(), p.get_height()))\n",
    "    \n",
    "# Annotate plot with values\n",
    "for p in ax.patches:\n",
    "    ax.annotate(format(p.get_height(), ',.2f'),\n",
    "                (p.get_x() + p.get_width() / 2., p.get_height()),\n",
    "                ha='center',\n",
    "                va='center',\n",
    "                xytext=(0, 8),\n",
    "                textcoords='offset points')"
   ]
  },
  {
   "cell_type": "markdown",
   "metadata": {},
   "source": [
    "<br><br>\n",
    "\n",
    "## Explanatory Variables\n",
    "\n",
    "### Continuous "
   ]
  },
  {
   "cell_type": "code",
   "execution_count": null,
   "metadata": {
    "code_folding": [
     0
    ],
    "scrolled": false
   },
   "outputs": [],
   "source": [
    "# Plot scatter plots for continuous variables\n",
    "\n",
    "continuous_variables = ['AVG_TIME_PER_SITE_VISIT', \n",
    "                        'AVG_PREP_VID_TIME', \n",
    "                        'TOTAL_PHOTOS_VIEWED',\n",
    "                        'TOTAL_MEALS_ORDERED']\n",
    "\n",
    "# Define function to plot distributions of variables\n",
    "def scatterplot(data, y_variable, x_variable):\n",
    "    \"\"\"\n",
    "    Plot scatterplots of continuous variables against REVENUE\n",
    "    \"\"\"\n",
    "    fig, ax = plt.subplots(1)\n",
    "    fig.set_size_inches(16,4)\n",
    "    fig.suptitle(\"Scatterplot of REVENUE & \" + x_variable, fontsize=14)\n",
    "    sns.scatterplot(data=data, x=x_variable, y=y_variable)\n",
    "    plt.show()\n",
    "    \n",
    "    print(\"Descriptive Statistics: \\n\",\n",
    "          data[x_variable].describe())\n",
    "    \n",
    "# Loop through each continuous variable in our data set and run the predefined function\n",
    "for col in chefs.columns:\n",
    "    if col in continuous_variables:\n",
    "        scatterplot(data = chefs, y_variable = 'REVENUE', x_variable = col)"
   ]
  },
  {
   "cell_type": "markdown",
   "metadata": {},
   "source": [
    "<br><br>\n",
    "\n",
    "### Integer / Count"
   ]
  },
  {
   "cell_type": "code",
   "execution_count": null,
   "metadata": {
    "code_folding": [
     0
    ],
    "scrolled": false
   },
   "outputs": [],
   "source": [
    "# Plot box plots for integer / count variables\n",
    "\n",
    "count_variables = ['UNIQUE_MEALS_PURCH', \n",
    "                   'CONTACTS_W_CUSTOMER_SERVICE', \n",
    "                   'PRODUCT_CATEGORIES_VIEWED',\n",
    "                   'CANCELLATIONS_BEFORE_NOON',\n",
    "                   'CANCELLATIONS_AFTER_NOON',\n",
    "                   'MOBILE_LOGINS',\n",
    "                   'PC_LOGINS',\n",
    "                   'WEEKLY_PLAN',\n",
    "                   'EARLY_DELIVERIES',\n",
    "                   'LATE_DELIVERIES',\n",
    "                   'MASTER_CLASSES_ATTENDED',\n",
    "                   'MEDIAN_MEAL_RATING',\n",
    "                   'AVG_MEALS_ORDERED',\n",
    "                   'AVG_CLICKS_PER_VISIT']\n",
    "\n",
    "# Define function to plot distributions of variables\n",
    "def boxplot(data, y_variable, x_variable):\n",
    "    \"\"\"\n",
    "    Plot boxplots of count/integer variables against REVENUE\n",
    "    \"\"\"\n",
    "    fig, ax = plt.subplots(1)\n",
    "    fig.set_size_inches(16,4)\n",
    "    fig.suptitle(\"Boxplot of REVENUE & \" + x_variable, fontsize=14)\n",
    "    sns.boxplot(data=data, x=x_variable, y=y_variable)\n",
    "    plt.show()\n",
    "    \n",
    "    print(\"Descriptive Statistics: \\n\",\n",
    "          data[x_variable].describe(),\n",
    "          \"\\nCounts: \\n\",\n",
    "          data[x_variable].value_counts(normalize = False).sort_index(),\n",
    "          \"------------------------------------------------------------------------------------\\n\\n\\n\",\n",
    "          sep = '\\n')\n",
    "    \n",
    "# Loop through each continuous variable in our data set and run the predefined function\n",
    "for col in chefs.columns:\n",
    "    if col in count_variables:\n",
    "        boxplot(data = chefs, y_variable = 'log_REVENUE', x_variable = col)"
   ]
  },
  {
   "cell_type": "markdown",
   "metadata": {},
   "source": [
    "# Transformation Checks"
   ]
  },
  {
   "cell_type": "code",
   "execution_count": null,
   "metadata": {
    "code_folding": [
     0
    ]
   },
   "outputs": [],
   "source": [
    "# Function to plot 4 boxplots of variables & their log versions\n",
    "\n",
    "def boxplot_log(data, response, explanatory):\n",
    "    \n",
    "    log_response    = np.log10(data[response])\n",
    "    log_explanatory = np.log10(data[explanatory])\n",
    "    \n",
    "    # setting figure size\n",
    "    fig, ax = plt.subplots(figsize = (15, 10))\n",
    "\n",
    "\n",
    "    ## Plot 1: Original X, Original Y ##\n",
    "    plt.subplot(2, 2, 1)\n",
    "\n",
    "    sns.boxplot(x     = explanatory,\n",
    "                y     = response,\n",
    "                data  = data)\n",
    "\n",
    "\n",
    "    # titles and labels\n",
    "    plt.title(label   = 'Original X, Original Y')\n",
    "    plt.xlabel(xlabel = explanatory)\n",
    "    plt.ylabel(ylabel = response)\n",
    "\n",
    "\n",
    "\n",
    "    ## Plot 2: Log X, Original Y ##\n",
    "    plt.subplot(2, 2, 2)\n",
    "    sns.boxplot(x     = log_explanatory,\n",
    "                y     = response,\n",
    "                data  = data)\n",
    "\n",
    "\n",
    "    # titles and labels\n",
    "    plt.title(label   = 'Log X, Original Y')\n",
    "    plt.xlabel(xlabel = explanatory)\n",
    "    plt.ylabel(ylabel = response)\n",
    "\n",
    "\n",
    "    ## Plot 3: Original X, Log Y ##\n",
    "    plt.subplot(2, 2, 3)\n",
    "    sns.boxplot(x     = explanatory,\n",
    "                y     = log_response,\n",
    "                data  = data)\n",
    "\n",
    "\n",
    "    # titles and labels\n",
    "    plt.title(label   = 'Original X, Log Y')\n",
    "    plt.xlabel(xlabel = explanatory)\n",
    "    plt.ylabel(ylabel = response)\n",
    "\n",
    "\n",
    "    ## Plot 4: Log X, Log Y ##\n",
    "    plt.subplot(2, 2, 4)\n",
    "    sns.boxplot(x     = log_explanatory,\n",
    "                y     = log_response,\n",
    "                data  = data)\n",
    "\n",
    "\n",
    "    # titles and labels\n",
    "    plt.title(label   = 'Log X, Log Y')\n",
    "    plt.xlabel(xlabel = explanatory)\n",
    "    plt.ylabel(ylabel = response)\n",
    "\n",
    "\n",
    "    ## displaying the visuals ##\n",
    "    plt.tight_layout()\n",
    "    plt.show()"
   ]
  },
  {
   "cell_type": "code",
   "execution_count": null,
   "metadata": {
    "scrolled": false
   },
   "outputs": [],
   "source": [
    "boxplot_log(chefs, 'REVENUE', 'MEDIAN_MEAL_RATING')"
   ]
  },
  {
   "cell_type": "markdown",
   "metadata": {},
   "source": [
    "<br><br>\n",
    "\n",
    "## Correlations"
   ]
  },
  {
   "cell_type": "code",
   "execution_count": null,
   "metadata": {
    "code_folding": [
     0
    ]
   },
   "outputs": [],
   "source": [
    "# HASHED OUT Calculate and plot correlation coefficients\n",
    "\n",
    "# Create correlation matrix\n",
    "#corr = chefs.corr(method = 'pearson').round(decimals = 2)\n",
    "\n",
    "# Set figure size\n",
    "#fig, ax = plt.subplots(figsize=(20,12))\n",
    "\n",
    "# Plot lower triangle and remove diagonal\n",
    "#mask = np.zeros_like(corr)\n",
    "#mask[np.triu_indices_from(mask)] = True    \n",
    "\n",
    "# Develop heatmap plot\n",
    "#sns.heatmap(data       = corr, # the correlation matrix\n",
    "#            cmap       = 'cividis',     \n",
    "#            robust     = True,\n",
    "#            square     = True,          \n",
    "#            annot      = True,                 \n",
    "#            linewidths = 0.25,\n",
    "#            mask       = mask, \n",
    "#            annot_kws={\"fontsize\":10})\n",
    "\n",
    "\n",
    "# Title & display plot\n",
    "#ax.set_title(\"Correlation Coefficients for Vairables\")\n",
    "#plt.show()"
   ]
  },
  {
   "cell_type": "code",
   "execution_count": null,
   "metadata": {
    "code_folding": [
     0
    ]
   },
   "outputs": [],
   "source": [
    "# HASHED OUT Avoid Multicollinearity\n",
    "\n",
    "# Filter out variable with correlation of > 0.8\n",
    "\n",
    "# Code adapted from:\n",
    "# https://towardsdatascience.com/feature-selection-correlation-and-p-value-da8921bfb3cf\n",
    "\n",
    "# Create an boolean array of our columns and set their values to True\n",
    "#columns = np.full((corr.shape[0],), True, dtype=bool)\n",
    "\n",
    "# Loop over variables\n",
    "#for variable_1 in range(corr.shape[0]):\n",
    "    \n",
    "    # Loop over variables again\n",
    "#    for variable_2 in range(variable_1 + 1, corr.shape[0]):\n",
    "        \n",
    "        # If the correlation b/w variable 1 & 2 is equal to or greater than 0.8\n",
    "#        if corr.iloc[variable_1, variable_2] >= 0.8:\n",
    "            \n",
    "            # Set the boolean of that variable to False\n",
    "#            if columns[variable_2]:\n",
    "#                columns[variable_2] = False\n",
    "                \n",
    "# Finalized list of variables with no multicollinearity                \n",
    "#selected_columns = chefs.columns[columns]\n",
    "\n",
    "# Remove variables that are highly correlated\n",
    "#chefs = chefs[selected_columns]\n",
    "\n",
    "# Add log_REVENUE again because it was removed\n",
    "#chefs['log_REVENUE'] = np.log10(chefs['REVENUE'])"
   ]
  }
 ],
 "metadata": {
  "kernelspec": {
   "display_name": "Python 3",
   "language": "python",
   "name": "python3"
  },
  "language_info": {
   "codemirror_mode": {
    "name": "ipython",
    "version": 3
   },
   "file_extension": ".py",
   "mimetype": "text/x-python",
   "name": "python",
   "nbconvert_exporter": "python",
   "pygments_lexer": "ipython3",
   "version": "3.8.5"
  },
  "toc": {
   "base_numbering": 1,
   "nav_menu": {},
   "number_sections": false,
   "sideBar": true,
   "skip_h1_title": false,
   "title_cell": "Table of Contents",
   "title_sidebar": "Contents",
   "toc_cell": false,
   "toc_position": {},
   "toc_section_display": true,
   "toc_window_display": true
  },
  "varInspector": {
   "cols": {
    "lenName": 16,
    "lenType": 16,
    "lenVar": 40
   },
   "kernels_config": {
    "python": {
     "delete_cmd_postfix": "",
     "delete_cmd_prefix": "del ",
     "library": "var_list.py",
     "varRefreshCmd": "print(var_dic_list())"
    },
    "r": {
     "delete_cmd_postfix": ") ",
     "delete_cmd_prefix": "rm(",
     "library": "var_list.r",
     "varRefreshCmd": "cat(var_dic_list()) "
    }
   },
   "types_to_exclude": [
    "module",
    "function",
    "builtin_function_or_method",
    "instance",
    "_Feature"
   ],
   "window_display": false
  }
 },
 "nbformat": 4,
 "nbformat_minor": 4
}
