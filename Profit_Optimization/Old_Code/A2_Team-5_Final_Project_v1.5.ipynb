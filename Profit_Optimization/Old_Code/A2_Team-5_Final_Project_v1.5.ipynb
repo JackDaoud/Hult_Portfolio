{
 "cells": [
  {
   "cell_type": "markdown",
   "id": "bound-bangladesh",
   "metadata": {
    "ExecuteTime": {
     "end_time": "2021-03-26T00:01:18.103553Z",
     "start_time": "2021-03-26T00:01:18.096395Z"
    }
   },
   "source": [
    "<hr style=\"height:.9px;border:none;color:#333;background-color:#333;\" />\n",
    "<hr style=\"height:.9px;border:none;color:#333;background-color:#333;\" />\n",
    "<br><br><br><br><br>\n",
    "<u><b><font size = 6>A2: Team Project OJ </f></b></u><br><br>\n",
    "<b><font size = 5> Data Optimization - DAT-5304 </f></b>\n",
    "<br><br>\n",
    "<b>Authors</b>          : Carolina Novello Moreira, Jack Daoud & Max Lembke <br>\n",
    "<b>Date Created</b> : 03/24/2021<br>\n",
    "<br><br><br><br><br>\n",
    "<hr style=\"height:.9px;border:none;color:#333;background-color:#333;\" />\n",
    "<hr style=\"height:.9px;border:none;color:#333;background-color:#333;\" />\n",
    "<br>\n",
    "\n",
    "\n",
    "<b><font size = 5> Instructions </f></b>\n",
    "\n",
    "This option involves using one of the two real-world datasets that I posted on Canvas. These datasets have information on Unit Sales, Prices, and Gross Margins for several SKU’s (Stock Keeping Units). The OJ Data is from Dominik’s Grocery Store in Chicago. The Milk Dataset is from Peru. Both have weekly data for multiple years. Using this data, you should advise management as to what they should do. Your advice could include marketing strategies (feature and display in OJ Dataset or Loyalty Card usage in Milk Dataset). Some suggestions or ideas are to: \n",
    "\n",
    "1.\tEstimate Quantity Demanded as a function of price (and similar prices) using a Log Transformation. You can also include marketing strategies in your regression.\n",
    "2.\tCombine Gross Margin information to advise the firm on maximizing profits. To avoid sales cannibalization, simultaneously include multiple products. Depending on how you set this up, you might be able to use Solver in Excel to fin the optimal strategy. It is a NLP.\n",
    "3.\tThe estimates of margins and demand are only estimates. Perform Monte Carlo analysis to simulate different strategies even if your estimate is not perfect (draw the regression coefficients from a normal with mean = estimate and standard deviation = standard error). Report on the results from these simulations."
   ]
  },
  {
   "cell_type": "markdown",
   "id": "indonesian-cycling",
   "metadata": {},
   "source": [
    "# Set-up "
   ]
  },
  {
   "cell_type": "code",
   "execution_count": 1,
   "id": "married-breach",
   "metadata": {
    "ExecuteTime": {
     "end_time": "2021-03-25T23:57:35.343946Z",
     "start_time": "2021-03-25T23:57:33.627416Z"
    }
   },
   "outputs": [],
   "source": [
    "# import packages \n",
    "import pandas as pd #pandas \n",
    "import numpy  as np #numpy \n",
    "from numpy import arange # for ranges with floats\n",
    "import math # to be able to use exp()\n",
    "from pulp import * #pulp everything \n",
    "import statsmodels.formula.api as smf # predictive modeling with nice outputs\n",
    "from sklearn.linear_model import LinearRegression\n",
    "from sklearn import metrics\n",
    "from regressors import stats\n",
    "\n",
    "# set options \n",
    "pd.set_option(\"display.max_rows\", 999)\n",
    "pd.set_option(\"display.max_columns\", 50)\n",
    "\n",
    "# importing file \n",
    "df = pd.read_excel('OJ_Data.xlsx')"
   ]
  },
  {
   "cell_type": "code",
   "execution_count": 2,
   "id": "thorough-burner",
   "metadata": {
    "ExecuteTime": {
     "end_time": "2021-03-25T23:57:35.350907Z",
     "start_time": "2021-03-25T23:57:35.345381Z"
    },
    "code_folding": []
   },
   "outputs": [],
   "source": [
    "# helper functions \n",
    "\n",
    "# make binary function \n",
    "def make_binary(df):\n",
    "    \n",
    "    for col in df.columns:\n",
    "        \n",
    "        if 'feat' in col \\\n",
    "        or 'disp' in col:\n",
    "            \n",
    "            for index, value in df.iterrows():\n",
    "                \n",
    "                if df.loc[index, col] >= 0.5:\n",
    "                    df.loc[index, col] = 1\n",
    "                else:\n",
    "                    df.loc[index, col] = 0\n",
    "        \n",
    "            df[col] = df[col].astype(int)\n",
    "\n",
    "# rev and profit function \n",
    "def get_rev_and_profit(df):\n",
    "\n",
    "    # create Revenue columns for each SKU\n",
    "    for i in range(1,6):\n",
    "        df['revenue' + str(i)] = 0\n",
    "     \n",
    "    \n",
    "    # compute Revenue using price x sales\n",
    "    for index, value in df.iterrows():\n",
    "        for i in range(1,6):\n",
    "            df.loc[index, 'revenue' + str(i)] \\\n",
    "            = df.loc[index, 'price' + str(i)] * df.loc[index, 'sales' + str(i)]\n",
    "            \n",
    "            df['revenue'+str(i)] = df['revenue' + str(i)].round(2)\n",
    "     \n",
    "    \n",
    "    # create Profit columns for each SKU\n",
    "    for i in range(1,6):\n",
    "        df['profit' + str(i)] = 0\n",
    "     \n",
    "    \n",
    "    # compute Profit using revenue x gross margin\n",
    "    for index, value in df.iterrows():\n",
    "        for i in range(1,6):\n",
    "            df.loc[index, 'profit' + str(i)] = \\\n",
    "            df.loc[index, 'revenue' + str(i)] * df.loc[index, 'grmar' + str(i)]\n",
    "            \n",
    "            df['profit' + str(i)] = df['profit' + str(i)].round(2)"
   ]
  },
  {
   "cell_type": "code",
   "execution_count": 3,
   "id": "million-desktop",
   "metadata": {
    "ExecuteTime": {
     "end_time": "2021-03-25T23:57:36.099624Z",
     "start_time": "2021-03-25T23:57:35.357896Z"
    }
   },
   "outputs": [],
   "source": [
    "# data cleaning \n",
    "\n",
    "# calling make binary function \n",
    "make_binary(df)\n",
    "\n",
    "# calc. rev and profits function \n",
    "get_rev_and_profit(df)\n",
    "\n",
    "\n",
    "# log transformations \n",
    "\n",
    "# price\n",
    "df['log_price1'] = np.log10(df['price1'])\n",
    "df['log_price2'] = np.log10(df['price2'])\n",
    "df['log_price3'] = np.log10(df['price3'])\n",
    "df['log_price4'] = np.log10(df['price4'])\n",
    "df['log_price5'] = np.log10(df['price5'])\n",
    "\n",
    "# sales\n",
    "df['log_sales1'] = np.log10(df['sales1'])\n",
    "df['log_sales2'] = np.log10(df['sales2'])\n",
    "df['log_sales3'] = np.log10(df['sales3'])\n",
    "df['log_sales4'] = np.log10(df['sales4'])\n",
    "df['log_sales5'] = np.log10(df['sales5'])"
   ]
  },
  {
   "cell_type": "markdown",
   "id": "scheduled-stocks",
   "metadata": {},
   "source": [
    "# Part 1: Regression "
   ]
  },
  {
   "cell_type": "markdown",
   "id": "lightweight-court",
   "metadata": {},
   "source": [
    "## Product 1: Tropicana Premium 64 oz"
   ]
  },
  {
   "cell_type": "code",
   "execution_count": 4,
   "id": "intelligent-replication",
   "metadata": {
    "ExecuteTime": {
     "end_time": "2021-03-25T23:57:36.129054Z",
     "start_time": "2021-03-25T23:57:36.101266Z"
    },
    "scrolled": false
   },
   "outputs": [
    {
     "name": "stdout",
     "output_type": "stream",
     "text": [
      "                            OLS Regression Results                            \n",
      "==============================================================================\n",
      "Dep. Variable:             log_sales1   R-squared:                       0.794\n",
      "Model:                            OLS   Adj. R-squared:                  0.781\n",
      "Method:                 Least Squares   F-statistic:                     59.46\n",
      "Date:                Sat, 27 Mar 2021   Prob (F-statistic):           3.56e-34\n",
      "Time:                        11:49:16   Log-Likelihood:                 57.156\n",
      "No. Observations:                 116   AIC:                            -98.31\n",
      "Df Residuals:                     108   BIC:                            -76.28\n",
      "Df Model:                           7                                         \n",
      "Covariance Type:            nonrobust                                         \n",
      "==============================================================================\n",
      "                 coef    std err          t      P>|t|      [0.025      0.975]\n",
      "------------------------------------------------------------------------------\n",
      "Intercept      1.4345      0.482      2.977      0.004       0.479       2.390\n",
      "log_price1    -2.6540      0.232    -11.432      0.000      -3.114      -2.194\n",
      "log_price2     0.1441      0.317      0.455      0.650      -0.483       0.772\n",
      "log_price3     0.5562      0.185      3.008      0.003       0.190       0.923\n",
      "log_price4    -0.0630      0.202     -0.311      0.756      -0.464       0.338\n",
      "log_price5     0.0250      0.157      0.160      0.874      -0.286       0.336\n",
      "disp1         -0.0114      0.039     -0.289      0.773      -0.089       0.067\n",
      "feat1          0.2797      0.042      6.640      0.000       0.196       0.363\n",
      "==============================================================================\n",
      "Omnibus:                        5.601   Durbin-Watson:                   1.733\n",
      "Prob(Omnibus):                  0.061   Jarque-Bera (JB):                8.622\n",
      "Skew:                           0.010   Prob(JB):                       0.0134\n",
      "Kurtosis:                       4.335   Cond. No.                         123.\n",
      "==============================================================================\n",
      "\n",
      "Warnings:\n",
      "[1] Standard Errors assume that the covariance matrix of the errors is correctly specified.\n"
     ]
    }
   ],
   "source": [
    "# step 1: build a model\n",
    "lm_best = smf.ols(formula =  \"\"\"log_sales1 ~ log_price1 +\n",
    "                                        log_price2 +\n",
    "                                        log_price3 +\n",
    "                                        log_price4 +\n",
    "                                        log_price5 +\n",
    "                                        disp1 +\n",
    "                                        feat1\"\"\",\n",
    "                                        data = df)\n",
    "\n",
    "\n",
    "# step 2: fit the model based on the data\n",
    "results_1 = lm_best.fit()\n",
    "\n",
    "# step 3: analyze the summary output\n",
    "print(results_1.summary())"
   ]
  },
  {
   "cell_type": "code",
   "execution_count": 8,
   "id": "mexican-pension",
   "metadata": {},
   "outputs": [
    {
     "name": "stdout",
     "output_type": "stream",
     "text": [
      "                            OLS Regression Results                            \n",
      "==============================================================================\n",
      "Dep. Variable:             log_sales1   R-squared:                       0.793\n",
      "Model:                            OLS   Adj. R-squared:                  0.788\n",
      "Method:                 Least Squares   F-statistic:                     143.2\n",
      "Date:                Sat, 27 Mar 2021   Prob (F-statistic):           3.51e-38\n",
      "Time:                        11:50:18   Log-Likelihood:                 56.954\n",
      "No. Observations:                 116   AIC:                            -105.9\n",
      "Df Residuals:                     112   BIC:                            -94.89\n",
      "Df Model:                           3                                         \n",
      "Covariance Type:            nonrobust                                         \n",
      "==============================================================================\n",
      "                 coef    std err          t      P>|t|      [0.025      0.975]\n",
      "------------------------------------------------------------------------------\n",
      "Intercept      1.3661      0.323      4.224      0.000       0.725       2.007\n",
      "log_price1    -2.6048      0.172    -15.182      0.000      -2.945      -2.265\n",
      "log_price3     0.5597      0.178      3.146      0.002       0.207       0.912\n",
      "feat1          0.2771      0.040      6.864      0.000       0.197       0.357\n",
      "==============================================================================\n",
      "Omnibus:                        5.437   Durbin-Watson:                   1.718\n",
      "Prob(Omnibus):                  0.066   Jarque-Bera (JB):                8.103\n",
      "Skew:                          -0.053   Prob(JB):                       0.0174\n",
      "Kurtosis:                       4.290   Cond. No.                         57.8\n",
      "==============================================================================\n",
      "\n",
      "Warnings:\n",
      "[1] Standard Errors assume that the covariance matrix of the errors is correctly specified.\n"
     ]
    }
   ],
   "source": [
    "# Re-running the the regression without variables with p-values above 0.05\n",
    "\n",
    "# step 1: build a model\n",
    "lm_best = smf.ols(formula =  \"\"\"log_sales1 ~ log_price1 +\n",
    "                                        log_price3 +\n",
    "                                        feat1\"\"\",\n",
    "                                        data = df)\n",
    "\n",
    "\n",
    "# step 2: fit the model based on the data\n",
    "results_1 = lm_best.fit()\n",
    "\n",
    "# step 3: analyze the summary output\n",
    "print(results_1.summary())"
   ]
  },
  {
   "cell_type": "markdown",
   "id": "studied-poland",
   "metadata": {},
   "source": [
    "## Product 2: Tropicana Premium 96 oz"
   ]
  },
  {
   "cell_type": "code",
   "execution_count": 13,
   "id": "sweet-budget",
   "metadata": {},
   "outputs": [
    {
     "name": "stdout",
     "output_type": "stream",
     "text": [
      "                            OLS Regression Results                            \n",
      "==============================================================================\n",
      "Dep. Variable:             log_sales2   R-squared:                       0.558\n",
      "Model:                            OLS   Adj. R-squared:                  0.530\n",
      "Method:                 Least Squares   F-statistic:                     19.51\n",
      "Date:                Sat, 27 Mar 2021   Prob (F-statistic):           1.15e-16\n",
      "Time:                        11:52:24   Log-Likelihood:                 108.06\n",
      "No. Observations:                 116   AIC:                            -200.1\n",
      "Df Residuals:                     108   BIC:                            -178.1\n",
      "Df Model:                           7                                         \n",
      "Covariance Type:            nonrobust                                         \n",
      "==============================================================================\n",
      "                 coef    std err          t      P>|t|      [0.025      0.975]\n",
      "------------------------------------------------------------------------------\n",
      "Intercept      2.2913      0.317      7.225      0.000       1.663       2.920\n",
      "log_price1     0.3283      0.112      2.933      0.004       0.106       0.550\n",
      "log_price2    -1.5455      0.242     -6.395      0.000      -2.025      -1.066\n",
      "log_price3     0.0490      0.119      0.411      0.682      -0.187       0.286\n",
      "log_price4    -0.0348      0.133     -0.262      0.794      -0.299       0.229\n",
      "log_price5    -0.1156      0.101     -1.143      0.256      -0.316       0.085\n",
      "disp2          0.0162      0.025      0.644      0.521      -0.034       0.066\n",
      "feat2          0.1296      0.031      4.159      0.000       0.068       0.191\n",
      "==============================================================================\n",
      "Omnibus:                        0.793   Durbin-Watson:                   1.237\n",
      "Prob(Omnibus):                  0.673   Jarque-Bera (JB):                0.375\n",
      "Skew:                           0.008   Prob(JB):                        0.829\n",
      "Kurtosis:                       3.278   Cond. No.                         131.\n",
      "==============================================================================\n",
      "\n",
      "Warnings:\n",
      "[1] Standard Errors assume that the covariance matrix of the errors is correctly specified.\n"
     ]
    }
   ],
   "source": [
    "# step 1: build a model\n",
    "lm_best = smf.ols(formula =  \"\"\"log_sales2 ~ log_price1 +\n",
    "                                        log_price2 +\n",
    "                                        log_price3 +\n",
    "                                        log_price4 +\n",
    "                                        log_price5 +\n",
    "                                        disp2 +\n",
    "                                        feat2\"\"\",\n",
    "                                        data = df)\n",
    "\n",
    "\n",
    "# step 2: fit the model based on the data\n",
    "results_2 = lm_best.fit()\n",
    "\n",
    "# step 3: analyze the summary output\n",
    "print(results_2.summary())"
   ]
  },
  {
   "cell_type": "code",
   "execution_count": 12,
   "id": "nominated-joseph",
   "metadata": {
    "ExecuteTime": {
     "end_time": "2021-03-25T23:57:36.158677Z",
     "start_time": "2021-03-25T23:57:36.130499Z"
    },
    "scrolled": false
   },
   "outputs": [
    {
     "name": "stdout",
     "output_type": "stream",
     "text": [
      "                            OLS Regression Results                            \n",
      "==============================================================================\n",
      "Dep. Variable:             log_sales2   R-squared:                       0.551\n",
      "Model:                            OLS   Adj. R-squared:                  0.539\n",
      "Method:                 Least Squares   F-statistic:                     45.79\n",
      "Date:                Sat, 27 Mar 2021   Prob (F-statistic):           2.17e-19\n",
      "Time:                        11:51:46   Log-Likelihood:                 107.09\n",
      "No. Observations:                 116   AIC:                            -206.2\n",
      "Df Residuals:                     112   BIC:                            -195.2\n",
      "Df Model:                           3                                         \n",
      "Covariance Type:            nonrobust                                         \n",
      "==============================================================================\n",
      "                 coef    std err          t      P>|t|      [0.025      0.975]\n",
      "------------------------------------------------------------------------------\n",
      "Intercept      2.3198      0.257      9.011      0.000       1.810       2.830\n",
      "log_price1     0.3234      0.109      2.977      0.004       0.108       0.539\n",
      "log_price2    -1.6456      0.206     -7.975      0.000      -2.054      -1.237\n",
      "feat2          0.1360      0.030      4.576      0.000       0.077       0.195\n",
      "==============================================================================\n",
      "Omnibus:                        1.509   Durbin-Watson:                   1.261\n",
      "Prob(Omnibus):                  0.470   Jarque-Bera (JB):                1.031\n",
      "Skew:                           0.089   Prob(JB):                        0.597\n",
      "Kurtosis:                       3.426   Cond. No.                         74.6\n",
      "==============================================================================\n",
      "\n",
      "Warnings:\n",
      "[1] Standard Errors assume that the covariance matrix of the errors is correctly specified.\n"
     ]
    }
   ],
   "source": [
    "# Re-running the the regression without variables with p-values above 0.05\n",
    "\n",
    "# step 1: build a model\n",
    "lm_best = smf.ols(formula =  \"\"\"log_sales2 ~ log_price1 +\n",
    "                                        log_price2 +\n",
    "                                        feat2\"\"\",\n",
    "                                        data = df)\n",
    "\n",
    "\n",
    "# step 2: fit the model based on the data\n",
    "results_2 = lm_best.fit()\n",
    "\n",
    "# step 3: analyze the summary output\n",
    "print(results_2.summary())"
   ]
  },
  {
   "cell_type": "markdown",
   "id": "final-terminal",
   "metadata": {},
   "source": [
    "## Product 3: Topicana 64 oz"
   ]
  },
  {
   "cell_type": "code",
   "execution_count": 14,
   "id": "jewish-improvement",
   "metadata": {
    "ExecuteTime": {
     "end_time": "2021-03-25T23:57:36.184171Z",
     "start_time": "2021-03-25T23:57:36.160861Z"
    },
    "scrolled": false
   },
   "outputs": [
    {
     "name": "stdout",
     "output_type": "stream",
     "text": [
      "                            OLS Regression Results                            \n",
      "==============================================================================\n",
      "Dep. Variable:             log_sales3   R-squared:                       0.712\n",
      "Model:                            OLS   Adj. R-squared:                  0.694\n",
      "Method:                 Least Squares   F-statistic:                     38.20\n",
      "Date:                Sat, 27 Mar 2021   Prob (F-statistic):           1.85e-26\n",
      "Time:                        11:53:24   Log-Likelihood:                -30.148\n",
      "No. Observations:                 116   AIC:                             76.30\n",
      "Df Residuals:                     108   BIC:                             98.32\n",
      "Df Model:                           7                                         \n",
      "Covariance Type:            nonrobust                                         \n",
      "==============================================================================\n",
      "                 coef    std err          t      P>|t|      [0.025      0.975]\n",
      "------------------------------------------------------------------------------\n",
      "Intercept      2.3313      1.077      2.164      0.033       0.196       4.467\n",
      "log_price1     1.1542      0.364      3.168      0.002       0.432       1.876\n",
      "log_price2     1.0704      0.662      1.618      0.109      -0.241       2.382\n",
      "log_price3    -4.4184      0.474     -9.324      0.000      -5.358      -3.479\n",
      "log_price4     1.4386      0.457      3.151      0.002       0.534       2.344\n",
      "log_price5     0.0745      0.333      0.224      0.824      -0.586       0.735\n",
      "disp3          0.0879      0.074      1.186      0.238      -0.059       0.235\n",
      "feat3          0.4271      0.074      5.787      0.000       0.281       0.573\n",
      "==============================================================================\n",
      "Omnibus:                       11.283   Durbin-Watson:                   1.641\n",
      "Prob(Omnibus):                  0.004   Jarque-Bera (JB):               13.336\n",
      "Skew:                           0.578   Prob(JB):                      0.00127\n",
      "Kurtosis:                       4.192   Cond. No.                         130.\n",
      "==============================================================================\n",
      "\n",
      "Warnings:\n",
      "[1] Standard Errors assume that the covariance matrix of the errors is correctly specified.\n"
     ]
    }
   ],
   "source": [
    "# step 1: build a model\n",
    "lm_best = smf.ols(formula =  \"\"\"log_sales3 ~ log_price1 +\n",
    "                                        log_price2 +\n",
    "                                        log_price3 +\n",
    "                                        log_price4 +\n",
    "                                        log_price5 +\n",
    "                                        disp3 +\n",
    "                                        feat3\"\"\",\n",
    "                                        data = df)\n",
    "\n",
    "\n",
    "# step 2: fit the model based on the data\n",
    "results_3 = lm_best.fit()\n",
    "\n",
    "# step 3: analyze the summary output\n",
    "print(results_3.summary())"
   ]
  },
  {
   "cell_type": "code",
   "execution_count": 17,
   "id": "living-penguin",
   "metadata": {},
   "outputs": [
    {
     "name": "stdout",
     "output_type": "stream",
     "text": [
      "                            OLS Regression Results                            \n",
      "==============================================================================\n",
      "Dep. Variable:             log_sales3   R-squared:                       0.701\n",
      "Model:                            OLS   Adj. R-squared:                  0.690\n",
      "Method:                 Least Squares   F-statistic:                     65.13\n",
      "Date:                Sat, 27 Mar 2021   Prob (F-statistic):           3.04e-28\n",
      "Time:                        11:56:00   Log-Likelihood:                -32.340\n",
      "No. Observations:                 116   AIC:                             74.68\n",
      "Df Residuals:                     111   BIC:                             88.45\n",
      "Df Model:                           4                                         \n",
      "Covariance Type:            nonrobust                                         \n",
      "==============================================================================\n",
      "                 coef    std err          t      P>|t|      [0.025      0.975]\n",
      "------------------------------------------------------------------------------\n",
      "Intercept      0.8873      0.795      1.116      0.267      -0.689       2.463\n",
      "log_price1     1.3119      0.355      3.700      0.000       0.609       2.014\n",
      "log_price3    -4.5504      0.421    -10.799      0.000      -5.385      -3.715\n",
      "log_price4     1.4529      0.450      3.229      0.002       0.561       2.344\n",
      "feat3          0.4545      0.073      6.263      0.000       0.311       0.598\n",
      "==============================================================================\n",
      "Omnibus:                       11.423   Durbin-Watson:                   1.569\n",
      "Prob(Omnibus):                  0.003   Jarque-Bera (JB):               13.989\n",
      "Skew:                           0.566   Prob(JB):                     0.000917\n",
      "Kurtosis:                       4.270   Cond. No.                         76.0\n",
      "==============================================================================\n",
      "\n",
      "Warnings:\n",
      "[1] Standard Errors assume that the covariance matrix of the errors is correctly specified.\n"
     ]
    }
   ],
   "source": [
    "# Re-running the the regression without variables with p-values above 0.05\n",
    "\n",
    "# step 1: build a model\n",
    "lm_best = smf.ols(formula =  \"\"\"log_sales3 ~ log_price1 +\n",
    "                                        log_price3 +\n",
    "                                        log_price4 +\n",
    "                                        feat3\"\"\",\n",
    "                                        data = df)\n",
    "\n",
    "\n",
    "# step 2: fit the model based on the data\n",
    "results_3 = lm_best.fit()\n",
    "\n",
    "# step 3: analyze the summary output\n",
    "print(results_3.summary())"
   ]
  },
  {
   "cell_type": "markdown",
   "id": "enhanced-sally",
   "metadata": {},
   "source": [
    "## Product 4: Minute Maid 64 oz"
   ]
  },
  {
   "cell_type": "code",
   "execution_count": 18,
   "id": "brown-croatia",
   "metadata": {
    "ExecuteTime": {
     "end_time": "2021-03-25T23:57:36.236357Z",
     "start_time": "2021-03-25T23:57:36.215904Z"
    },
    "scrolled": false
   },
   "outputs": [
    {
     "name": "stdout",
     "output_type": "stream",
     "text": [
      "                            OLS Regression Results                            \n",
      "==============================================================================\n",
      "Dep. Variable:             log_sales4   R-squared:                       0.752\n",
      "Model:                            OLS   Adj. R-squared:                  0.736\n",
      "Method:                 Least Squares   F-statistic:                     46.70\n",
      "Date:                Sat, 27 Mar 2021   Prob (F-statistic):           7.43e-30\n",
      "Time:                        11:56:37   Log-Likelihood:                 22.112\n",
      "No. Observations:                 116   AIC:                            -28.22\n",
      "Df Residuals:                     108   BIC:                            -6.194\n",
      "Df Model:                           7                                         \n",
      "Covariance Type:            nonrobust                                         \n",
      "==============================================================================\n",
      "                 coef    std err          t      P>|t|      [0.025      0.975]\n",
      "------------------------------------------------------------------------------\n",
      "Intercept      2.7515      0.709      3.879      0.000       1.346       4.157\n",
      "log_price1     0.5407      0.243      2.228      0.028       0.060       1.022\n",
      "log_price2     0.2397      0.423      0.567      0.572      -0.598       1.078\n",
      "log_price3     0.6079      0.261      2.328      0.022       0.090       1.125\n",
      "log_price4    -2.7045      0.390     -6.935      0.000      -3.478      -1.931\n",
      "log_price5     0.5532      0.212      2.613      0.010       0.134       0.973\n",
      "disp4          0.0829      0.057      1.442      0.152      -0.031       0.197\n",
      "feat4          0.3769      0.057      6.646      0.000       0.265       0.489\n",
      "==============================================================================\n",
      "Omnibus:                       31.249   Durbin-Watson:                   1.827\n",
      "Prob(Omnibus):                  0.000   Jarque-Bera (JB):               68.303\n",
      "Skew:                           1.064   Prob(JB):                     1.47e-15\n",
      "Kurtosis:                       6.099   Cond. No.                         134.\n",
      "==============================================================================\n",
      "\n",
      "Warnings:\n",
      "[1] Standard Errors assume that the covariance matrix of the errors is correctly specified.\n"
     ]
    }
   ],
   "source": [
    "# step 1: build a model\n",
    "lm_best = smf.ols(formula =  \"\"\"log_sales4 ~ log_price1 +\n",
    "                                        log_price2 +\n",
    "                                        log_price3 +\n",
    "                                        log_price4 +\n",
    "                                        log_price5 +\n",
    "                                        disp4 +\n",
    "                                        feat4\"\"\",\n",
    "                                        data = df)\n",
    "\n",
    "\n",
    "# step 2: fit the model based on the data\n",
    "results_4 = lm_best.fit()\n",
    "\n",
    "# step 3: analyze the summary output\n",
    "print(results_4.summary())"
   ]
  },
  {
   "cell_type": "code",
   "execution_count": 19,
   "id": "particular-amendment",
   "metadata": {},
   "outputs": [
    {
     "name": "stdout",
     "output_type": "stream",
     "text": [
      "                            OLS Regression Results                            \n",
      "==============================================================================\n",
      "Dep. Variable:             log_sales4   R-squared:                       0.746\n",
      "Model:                            OLS   Adj. R-squared:                  0.734\n",
      "Method:                 Least Squares   F-statistic:                     64.56\n",
      "Date:                Sat, 27 Mar 2021   Prob (F-statistic):           3.93e-31\n",
      "Time:                        11:58:09   Log-Likelihood:                 20.766\n",
      "No. Observations:                 116   AIC:                            -29.53\n",
      "Df Residuals:                     110   BIC:                            -13.01\n",
      "Df Model:                           5                                         \n",
      "Covariance Type:            nonrobust                                         \n",
      "==============================================================================\n",
      "                 coef    std err          t      P>|t|      [0.025      0.975]\n",
      "------------------------------------------------------------------------------\n",
      "Intercept      2.0994      0.560      3.748      0.000       0.989       3.210\n",
      "log_price1     0.5280      0.238      2.219      0.029       0.056       1.000\n",
      "log_price3     0.6078      0.260      2.334      0.021       0.092       1.124\n",
      "log_price4    -2.9775      0.320     -9.316      0.000      -3.611      -2.344\n",
      "log_price5     0.5801      0.208      2.786      0.006       0.167       0.993\n",
      "feat4          0.4071      0.054      7.607      0.000       0.301       0.513\n",
      "==============================================================================\n",
      "Omnibus:                       31.767   Durbin-Watson:                   1.753\n",
      "Prob(Omnibus):                  0.000   Jarque-Bera (JB):               67.851\n",
      "Skew:                           1.094   Prob(JB):                     1.85e-15\n",
      "Kurtosis:                       6.041   Cond. No.                         95.5\n",
      "==============================================================================\n",
      "\n",
      "Warnings:\n",
      "[1] Standard Errors assume that the covariance matrix of the errors is correctly specified.\n"
     ]
    }
   ],
   "source": [
    "# Re-running the the regression without variables with p-values above 0.05\n",
    "\n",
    "# step 1: build a model\n",
    "lm_best = smf.ols(formula =  \"\"\"log_sales4 ~ log_price1 +\n",
    "                                        log_price3 +\n",
    "                                        log_price4 +\n",
    "                                        log_price5 +\n",
    "                                        feat4\"\"\",\n",
    "                                        data = df)\n",
    "\n",
    "\n",
    "# step 2: fit the model based on the data\n",
    "results_4 = lm_best.fit()\n",
    "\n",
    "# step 3: analyze the summary output\n",
    "print(results_4.summary())"
   ]
  },
  {
   "cell_type": "markdown",
   "id": "matched-google",
   "metadata": {},
   "source": [
    "## Product 5: Dominick's 64 oz"
   ]
  },
  {
   "cell_type": "code",
   "execution_count": 20,
   "id": "loved-colleague",
   "metadata": {
    "ExecuteTime": {
     "end_time": "2021-03-25T23:57:36.236357Z",
     "start_time": "2021-03-25T23:57:36.215904Z"
    },
    "scrolled": false
   },
   "outputs": [
    {
     "name": "stdout",
     "output_type": "stream",
     "text": [
      "                            OLS Regression Results                            \n",
      "==============================================================================\n",
      "Dep. Variable:             log_sales5   R-squared:                       0.667\n",
      "Model:                            OLS   Adj. R-squared:                  0.646\n",
      "Method:                 Least Squares   F-statistic:                     30.94\n",
      "Date:                Sat, 27 Mar 2021   Prob (F-statistic):           4.05e-23\n",
      "Time:                        12:04:48   Log-Likelihood:                -21.400\n",
      "No. Observations:                 116   AIC:                             58.80\n",
      "Df Residuals:                     108   BIC:                             80.83\n",
      "Df Model:                           7                                         \n",
      "Covariance Type:            nonrobust                                         \n",
      "==============================================================================\n",
      "                 coef    std err          t      P>|t|      [0.025      0.975]\n",
      "------------------------------------------------------------------------------\n",
      "Intercept     -0.2585      0.941     -0.275      0.784      -2.123       1.606\n",
      "log_price1     0.0985      0.336      0.293      0.770      -0.567       0.764\n",
      "log_price2    -1.6637      0.611     -2.722      0.008      -2.875      -0.452\n",
      "log_price3     1.0508      0.365      2.876      0.005       0.327       1.775\n",
      "log_price4     1.1025      0.397      2.778      0.006       0.316       1.889\n",
      "log_price5    -3.2416      0.352     -9.219      0.000      -3.939      -2.545\n",
      "disp5          0.1224      0.063      1.958      0.053      -0.002       0.246\n",
      "feat5          0.2862      0.067      4.256      0.000       0.153       0.420\n",
      "==============================================================================\n",
      "Omnibus:                        4.625   Durbin-Watson:                   1.679\n",
      "Prob(Omnibus):                  0.099   Jarque-Bera (JB):                4.684\n",
      "Skew:                          -0.270   Prob(JB):                       0.0962\n",
      "Kurtosis:                       3.823   Cond. No.                         123.\n",
      "==============================================================================\n",
      "\n",
      "Warnings:\n",
      "[1] Standard Errors assume that the covariance matrix of the errors is correctly specified.\n"
     ]
    }
   ],
   "source": [
    "# step 1: build a model\n",
    "lm_best = smf.ols(formula =  \"\"\"log_sales5 ~ log_price1 +\n",
    "                                        log_price2 +\n",
    "                                        log_price3 +\n",
    "                                        log_price4 +\n",
    "                                        log_price5 +\n",
    "                                        disp5 +\n",
    "                                        feat5\"\"\",\n",
    "                                        data = df)\n",
    "\n",
    "\n",
    "# step 2: fit the model based on the data\n",
    "results_5 = lm_best.fit()\n",
    "\n",
    "# step 3: analyze the summary output\n",
    "print(results_5.summary())"
   ]
  },
  {
   "cell_type": "code",
   "execution_count": 21,
   "id": "practical-diesel",
   "metadata": {},
   "outputs": [
    {
     "name": "stdout",
     "output_type": "stream",
     "text": [
      "                            OLS Regression Results                            \n",
      "==============================================================================\n",
      "Dep. Variable:             log_sales5   R-squared:                       0.667\n",
      "Model:                            OLS   Adj. R-squared:                  0.649\n",
      "Method:                 Least Squares   F-statistic:                     36.39\n",
      "Date:                Sat, 27 Mar 2021   Prob (F-statistic):           6.66e-24\n",
      "Time:                        12:04:53   Log-Likelihood:                -21.446\n",
      "No. Observations:                 116   AIC:                             56.89\n",
      "Df Residuals:                     109   BIC:                             76.17\n",
      "Df Model:                           6                                         \n",
      "Covariance Type:            nonrobust                                         \n",
      "==============================================================================\n",
      "                 coef    std err          t      P>|t|      [0.025      0.975]\n",
      "------------------------------------------------------------------------------\n",
      "Intercept     -0.2921      0.930     -0.314      0.754      -2.135       1.551\n",
      "log_price2    -1.6261      0.595     -2.733      0.007      -2.806      -0.447\n",
      "log_price3     1.0544      0.364      2.900      0.005       0.334       1.775\n",
      "log_price4     1.1239      0.389      2.893      0.005       0.354       1.894\n",
      "log_price5    -3.2319      0.349     -9.272      0.000      -3.923      -2.541\n",
      "disp5          0.1240      0.062      1.999      0.048       0.001       0.247\n",
      "feat5          0.2871      0.067      4.291      0.000       0.154       0.420\n",
      "==============================================================================\n",
      "Omnibus:                        4.516   Durbin-Watson:                   1.680\n",
      "Prob(Omnibus):                  0.105   Jarque-Bera (JB):                4.471\n",
      "Skew:                          -0.274   Prob(JB):                        0.107\n",
      "Kurtosis:                       3.790   Cond. No.                         113.\n",
      "==============================================================================\n",
      "\n",
      "Warnings:\n",
      "[1] Standard Errors assume that the covariance matrix of the errors is correctly specified.\n"
     ]
    }
   ],
   "source": [
    "# Re-running the the regression without variables with p-values above 0.05\n",
    "\n",
    "# step 1: build a model\n",
    "lm_best_opt = smf.ols(formula =  \"\"\"log_sales5 ~ log_price2 +\n",
    "                                        log_price3 +\n",
    "                                        log_price4 +\n",
    "                                        log_price5 +\n",
    "                                        disp5 +\n",
    "                                        feat5\"\"\",\n",
    "                                        data = df)\n",
    "\n",
    "\n",
    "# step 2: fit the model based on the data\n",
    "results_5_opt = lm_best_opt.fit()\n",
    "\n",
    "# step 3: analyze the summary output\n",
    "print(results_5_opt.summary())"
   ]
  },
  {
   "cell_type": "markdown",
   "id": "featured-supervisor",
   "metadata": {},
   "source": [
    "## Marketing Strategies\n",
    "\n",
    "\n",
    "Bla bla bla"
   ]
  },
  {
   "cell_type": "markdown",
   "id": "magnetic-product",
   "metadata": {},
   "source": [
    "# Part 2: Non-linear Programming"
   ]
  },
  {
   "cell_type": "code",
   "execution_count": null,
   "id": "interpreted-judge",
   "metadata": {},
   "outputs": [],
   "source": [
    "\n",
    "\n",
    "\n",
    "\n",
    "\n",
    "\n",
    "\n"
   ]
  },
  {
   "cell_type": "markdown",
   "id": "worthy-waste",
   "metadata": {},
   "source": [
    "# Part 3: Monte Carlo"
   ]
  },
  {
   "cell_type": "markdown",
   "id": "broadband-carbon",
   "metadata": {},
   "source": [
    "## Product 1 "
   ]
  },
  {
   "cell_type": "code",
   "execution_count": null,
   "id": "sexual-charter",
   "metadata": {
    "ExecuteTime": {
     "end_time": "2021-03-25T23:57:38.568029Z",
     "start_time": "2021-03-25T23:57:36.238188Z"
    }
   },
   "outputs": [],
   "source": [
    "# week 1\n",
    "\n",
    "# note: we used the log values here from DF for week 1 \n",
    "price1 = -1.242699\n",
    "price2 = -1.219593\n",
    "price3 = -1.529718\n",
    "price4 = -1.330509\n",
    "price5 = -1.604783\n",
    "disp1 = 0\n",
    "feat1 = 0\n",
    "\n",
    "# set up parameters\n",
    "\n",
    "# intercept \n",
    "i1_mu = results_1.params[0]   # coefficient from regression\n",
    "i1_sigma = results_1.bse[0]   # standard error from regression\n",
    "\n",
    "# price 1 \n",
    "p1_mu = results_1.params[1]   # coefficient from regression\n",
    "p1_sigma = results_1.bse[1]   # standard error from regression\n",
    "\n",
    "# price 2 \n",
    "p2_mu = results_1.params[2]   # coefficient from regression\n",
    "p2_sigma = results_1.bse[2]   # standard error from regression\n",
    "\n",
    "# price 3\n",
    "p3_mu = results_1.params[3]   # coefficient from regression\n",
    "p3_sigma = results_1.bse[3]   # standard error from regression\n",
    "\n",
    "# price 4 \n",
    "p4_mu = results_1.params[4]\n",
    "p4_sigma = results_1.bse[4]\n",
    "\n",
    "# price 5 \n",
    "p5_mu = results_1.params[5]   # coefficient from regression\n",
    "p5_sigma = results_1.bse[5]   # standard error from regression\n",
    "\n",
    "# disp 1 \n",
    "dp1_mu = results_1.params[6]  # coefficient from regression\n",
    "dp1_sigma = results_1.bse[6]  # standard error from regression\n",
    "\n",
    "# feat 1\n",
    "f1_mu = results_1.params[7]   # coefficient from regression\n",
    "f1_sigma = results_1.bse[7]   # standard error from regression\n",
    "\n",
    "i1 = results_1.params[0]\n",
    "\n",
    "# set up Simulation parameters\n",
    "np.random.seed(42)  # fix the random seed for reproducibility \n",
    "number_sims = 100_000\n",
    "\n",
    "all_stats = [] # Save results from each sim here\n",
    "\n",
    "# begin Simulation Loop\n",
    "for i in range(number_sims):\n",
    "    p1 = np.random.normal(p1_mu, p1_sigma)\n",
    "    p2 = np.random.normal(p2_mu, p2_sigma)\n",
    "    p3 = np.random.normal(p3_mu, p3_sigma)\n",
    "    p4 = np.random.normal(p4_mu, p4_sigma)\n",
    "    p5 = np.random.normal(p5_mu, p5_sigma)\n",
    "    dp1 = np.random.normal(dp1_mu, dp1_sigma)\n",
    "    f1 = np.random.normal(f1_mu, f1_sigma)\n",
    "    #i1 = np.random.normal(i1_mu, i1_sigma)\n",
    "    demand = i1 + price1*p1 + price2*p2 + price3*p3 + price4*p4 \\\n",
    "                + price5*p5 + dp1 * disp1 + f1* feat1 \n",
    "    \n",
    "    all_stats.append([p1,p2,p3,p4,p5,dp1,f1,i1,demand])\n",
    "                    \n",
    "# save results in the results dataframe\n",
    "results_df = pd.DataFrame.from_records(all_stats, \n",
    "                                       columns=['p1','p2','p3','p4','p5',\n",
    "                                                'dp1','f1','i1','demand'])\n",
    "\n",
    "# plot results\n",
    "results_df['demand'].plot(kind='hist', title=\"demand\");"
   ]
  },
  {
   "cell_type": "code",
   "execution_count": null,
   "id": "underlying-nomination",
   "metadata": {},
   "outputs": [],
   "source": [
    "# set up \"known\" parameters based on information given about the SKUs:\n",
    "oz_1 = 64\n",
    "oz_2 = 96\n",
    "oz_3 = 64\n",
    "oz_4 = 64\n",
    "oz_5 = 64\n",
    "\n",
    "# set up \"known\" parameters based historical averages (without log transformation):\n",
    "grmar1_avg = df['grmar1'].mean()\n",
    "grmar2_avg = df['grmar2'].mean()\n",
    "grmar3_avg = df['grmar3'].mean()\n",
    "grmar4_avg = df['grmar4'].mean()\n",
    "grmar5_avg = df['grmar5'].mean()\n",
    "\n",
    "# set up \"known\" parameters based on log of historical averages:\n",
    "price1_avg_log = np.log10(df['price1'].mean())\n",
    "price2_avg_log = np.log10(df['price2'].mean())\n",
    "price3_avg_log = np.log10(df['price3'].mean())\n",
    "price4_avg_log = np.log10(df['price4'].mean())\n",
    "price5_avg_log = np.log10(df['price5'].mean())\n",
    "\n",
    "\n",
    "\n",
    "\n",
    "\n",
    "\n",
    "\n",
    "\n",
    "\n",
    "\n",
    "\n",
    "\n",
    "\n",
    "\n",
    "\n",
    "\n",
    "# set up random draw parameters for coefficients - SKU5 \n",
    "\n",
    "# intercept \n",
    "intercept_mu = results_5_opt.params[0] # coefficient from regression\n",
    "intercept_sigma = results_5_opt.bse[0] # standard error from regression\n",
    "\n",
    "# price SKU2\n",
    "B1_mu = results_5.params[1]      # coefficient from regression\n",
    "B1_sigma = results_5.bse[1]      # standard error from regression\n",
    "\n",
    "# price SKU3\n",
    "B2_mu = results_5_opt.params[2]  # coefficient from regression\n",
    "B2_sigma = results_5.bse[2]      # standard error from regression\n",
    "\n",
    "# price SKU4\n",
    "B3_mu = results_5_opt.params[3]  # coefficient from regression\n",
    "B3_sigma = results_5.bse[3]      # standard error from regression\n",
    "\n",
    "# price SKU5\n",
    "B4_mu = results_5_opt.params[4]  # coefficient from regression\n",
    "B4_sigma = results_5.bse[4]      # standard error from regression\n",
    "\n",
    "# disp SKU5\n",
    "B5 = results_5_opt.params[5]     # coefficient from regression\n",
    "B5_sigma = results_5.bse[5]      # standard error from regression\n",
    "\n",
    "# feat5 SKU5\n",
    "B6 = results_5_opt.params[6]     # coefficient from regression\n",
    "B5_sigma = results_5.bse[6]      # standard error from regression\n",
    "\n",
    "# set up Simulation parameters\n",
    "np.random.seed(42)  # fix the random seed for reproducibility \n",
    "\n",
    "number_sims = 1_000\n",
    "\n",
    "# Store price5 stats here\n",
    "p5_stats = [] \n",
    "\n",
    "for P in arange(0.01546875, 0.03890625,0.001):\n",
    "\n",
    "# Store results from each simulation here\n",
    "    all_stats = [] \n",
    "\n",
    "    # Begin Simulation Loop\n",
    "    for i in range(number_sims):\n",
    "        intercept = np.random.normal(intercept_mu, intercept_sigma)\n",
    "        B1 = np.random.normal(B1_mu, B1_sigma)\n",
    "        B2 = np.random.normal(B2_mu, B2_sigma)   \n",
    "        B3 = np.random.normal(B3_mu, B3_sigma) \n",
    "        B4 = np.random.normal(B4_mu, B4_sigma)\n",
    "        B5 = np.random.normal(B5_mu, B5_sigma)\n",
    "        B6 = np.random.normal(B6_mu, B6_sigma)\n",
    "        sales_5 = math.exp(intercept + B1*price2_avg_log + B2*price3_avg_log + B3*price4_avg_log + B4*(np.log10(P)) + B5*disp5 + B6*feat5) # number of units sold (sales is given in units)\n",
    "        revenue_5 = sales_5 * oz_5 * P\n",
    "        profits_5 = revenue_5 * grmar5_avg\n",
    "        all_stats.append([B4, sales_5, revenue_5, profits_5])\n",
    "\n",
    "    # Save results in the results dataframe\n",
    "    results_df = pd.DataFrame.from_records(all_stats, columns=['price5_coefficient', 'units_sold_5', 'revenue_5','profits_5']) \n",
    "    \n",
    "    # \n",
    "    p5_stats.append([P,results_df['revenue_5'].mean(),results_df['profits_5'].mean()])\n",
    "\n",
    "p5_results_df = pd.DataFrame.from_records(p5_stats, columns=['price_per_oz','revenue','profits'])\n",
    "\n",
    "# Chaeck results\n",
    "p5_results_df \n",
    "\n",
    "# Create a graph with price/oz on the horizontal axis and profits on the vertical axis.\n",
    "p5_results_df.plot.scatter(x=\"price_per_oz\", y=\"profits\")"
   ]
  },
  {
   "cell_type": "markdown",
   "id": "endangered-player",
   "metadata": {},
   "source": [
    "# Questions\n",
    "\n",
    "- Can we drop a product from our analysis if it's p-value is high with all other products i.e. it's negligible in pricing strategies\n",
    "\n",
    "- Simulate y-intercept? \n",
    "\n",
    "    - 3.755434255431918 with simulated i \n",
    "    - 3.751853051891881 without simulated i \n",
    "\n"
   ]
  }
 ],
 "metadata": {
  "kernelspec": {
   "display_name": "Python 3",
   "language": "python",
   "name": "python3"
  },
  "language_info": {
   "codemirror_mode": {
    "name": "ipython",
    "version": 3
   },
   "file_extension": ".py",
   "mimetype": "text/x-python",
   "name": "python",
   "nbconvert_exporter": "python",
   "pygments_lexer": "ipython3",
   "version": "3.8.5"
  },
  "toc": {
   "base_numbering": 1,
   "nav_menu": {},
   "number_sections": false,
   "sideBar": true,
   "skip_h1_title": false,
   "title_cell": "Table of Contents",
   "title_sidebar": "Contents",
   "toc_cell": false,
   "toc_position": {
    "height": "calc(100% - 180px)",
    "left": "10px",
    "top": "150px",
    "width": "165px"
   },
   "toc_section_display": true,
   "toc_window_display": false
  },
  "varInspector": {
   "cols": {
    "lenName": 16,
    "lenType": 16,
    "lenVar": 40
   },
   "kernels_config": {
    "python": {
     "delete_cmd_postfix": "",
     "delete_cmd_prefix": "del ",
     "library": "var_list.py",
     "varRefreshCmd": "print(var_dic_list())"
    },
    "r": {
     "delete_cmd_postfix": ") ",
     "delete_cmd_prefix": "rm(",
     "library": "var_list.r",
     "varRefreshCmd": "cat(var_dic_list()) "
    }
   },
   "types_to_exclude": [
    "module",
    "function",
    "builtin_function_or_method",
    "instance",
    "_Feature"
   ],
   "window_display": false
  }
 },
 "nbformat": 4,
 "nbformat_minor": 5
}
