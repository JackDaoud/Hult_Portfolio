{
 "cells": [
  {
   "cell_type": "markdown",
   "id": "sensitive-mentor",
   "metadata": {},
   "source": [
    "# Unsupervised Analysis Project\n",
    "> *By Team 13: Jack Daoud, Natalia Gomez Aycardi, Selin Immel*\n",
    ">\n",
    "> *February 22nd, 2021*\n",
    "\n",
    "## Introduction \n",
    "\n",
    "<b><font size=\"+1\"><center>Windows or Mac?</center></font></b>\n",
    "\n",
    "<img src = './_images/design/windows-mac-logo.png' width = 350>\n",
    "\n",
    "Countless consumers have pondered this question when preparing to buy a new computer. As a result, Apple (AAPL) and Microsoft (MSFT) have been rigorously researching several aspects of consumer buying behavior in regards to the decision making behind this question. Both firms have commissioned research and analysis teams to study aspects such as system architecture, security, and overall performance.\n",
    "\n",
    "Recently, Apple has decided to approach this question from the perspective of the Big Five personality traits as well as the Hult DNA. As such, your team has been commissioned to run an analysis on these factors.\n",
    "\n",
    "<br>\n",
    "\n",
    "<hr style=\"height:.9px;border:none;color:#333;background-color:#333;\" />\n",
    "\n",
    "<br>\n",
    "\n",
    "<b><font size=\"+1\"><center>Big Five</center></font></b>\n",
    "\n",
    "According to Rothmann & Coetzer, \"researchers agree that almost all personality measures could be categorized according to the five-factor model of personality\", which is also referred to as the big five personality dimensions (2003). \n",
    "\n",
    "This theory uses semantic associations in order to describe aspects of a humans personality. For example, someone who is described as \"the life of a party\" can be categorized as *extroverted*. This is one of the the big five dimensions, which are also known as the OCEAN model:\n",
    "\n",
    "1. **O**penness to experience (inventive/curious vs. consistent/cautious)\n",
    "2. **C**onscientiousness (efficient/organized vs. easy-going/careless)\n",
    "3. **E**xtroversion (outgoing/energetic vs. solitary/reserved)\n",
    "4. **A**greeableness (friendly/compassionate vs. challenging/detached)\n",
    "5. **N**euroticism (sensitive/nervous vs. secure/confident)\n",
    "\n",
    "<img src = \"./_images/design/big_five.png\" width = 350>\n",
    "\n",
    "<br>\n",
    "\n",
    "<hr style=\"height:.9px;border:none;color:#333;background-color:#333;\" />\n",
    "\n",
    "<br>\n",
    "\n",
    "<b><font size=\"+1\"><center>Hult DNA</center></font></b>\n",
    "\n",
    "The Hult DNA is a set of aspirations for the professional development of global minded business students as well as a tool to assist the alignment of their skills with future employers needs. \"The foundation of the model is an extensive study by Hult Labs of over 100 of the world’s leading employers, supplemented by research from Hult and Ashridge researchers and data from Burning Glass Technologies that identify the skill gaps that keep job seekers and employers apart\" (Hult, 2018).\n",
    "\n",
    "The Hult DNA encompasses three critical competencies:\n",
    "\n",
    "<img src = \"./_images/design/hult_dna.png\" width = 550>\n",
    "\n",
    "Each competency is described by employers in terms of 9 specific behavioral skills that can be measured and developed:\n",
    "\n",
    "<img src = \"./_images/design/hult_dna_components.png\" width = 550>\n",
    "\n",
    "<br>\n",
    "\n",
    "<br>\n",
    "\n",
    "<hr style=\"height:.9px;border:none;color:#333;background-color:#333;\" />\n",
    "\n",
    "\n",
    "<br>\n",
    "\n",
    "<br>\n",
    "\n",
    "\n",
    "## Data Wrangling & Exploration\n",
    "\n",
    "Text here\n",
    "\n",
    "\n",
    "<br>\n",
    "\n",
    "<hr style=\"height:.9px;border:none;color:#333;background-color:#333;\" />\n",
    "\n",
    "<br>\n",
    "\n",
    "## Principal Component Analysis\n",
    "\n",
    "<br><br>\n",
    "\n",
    "### Big Five\n",
    "\n",
    "\n",
    "Text here\n",
    "\n",
    "\n",
    "<img src = \"./_images/analysis/factor_loadings_big5.png\" width = 1000>\n",
    "\n",
    "<br><br>\n",
    "\n",
    "### Hult DNA\n",
    "\n",
    "Text here\n",
    "\n",
    "\n",
    "<img src = \"./_images/analysis/factor_loadings_hult.png\" width = 1000>\n",
    "\n",
    "<br>\n",
    "\n",
    "<hr style=\"height:.9px;border:none;color:#333;background-color:#333;\" />\n",
    "\n",
    "<br>\n",
    "\n",
    "## Cluster Segmentation\n",
    "\n",
    "Text here\n",
    "\n",
    "<br> <br>\n",
    "\n",
    "<hr style=\"height:.9px;border:none;color:#333;background-color:#333;\" />\n",
    "\n",
    "<br>\n",
    "\n",
    "## Demographic Analysis\n",
    "\n",
    "Text here\n",
    "\n",
    "\n",
    "<br> <br>\n",
    "\n",
    "<hr style=\"height:.9px;border:none;color:#333;background-color:#333;\" />\n",
    "\n",
    "<br>\n",
    "\n",
    "\n",
    "# Setup\n",
    "\n",
    "<b><font size=\"+1\">Packages, Data, & User-defined Functions</font></b>"
   ]
  },
  {
   "cell_type": "code",
   "execution_count": 1,
   "id": "directed-sense",
   "metadata": {
    "ExecuteTime": {
     "end_time": "2021-02-19T20:05:14.868712Z",
     "start_time": "2021-02-19T20:05:13.830876Z"
    },
    "code_folding": []
   },
   "outputs": [],
   "source": [
    "# Packages, data, & user-defined functions\n",
    "\n",
    "########################################\n",
    "# importing packages\n",
    "########################################\n",
    "import numpy             as np                   # mathematical essentials\n",
    "import pandas            as pd                   # data science essentials\n",
    "import matplotlib.pyplot as plt                  # fundamental data visualization\n",
    "import seaborn           as sns                  # enhanced visualization\n",
    "import re\n",
    "\n",
    "\n",
    "from sklearn.preprocessing   import StandardScaler      # standard scaler\n",
    "from sklearn.decomposition   import PCA                 # pca\n",
    "from sklearn.manifold        import TSNE                # t-SNE\n",
    "from sklearn.datasets        import load_digits         # digits dataset\n",
    "from scipy.cluster.hierarchy import dendrogram, linkage # dendrograms\n",
    "from sklearn.cluster         import KMeans              # k-means clustering\n",
    "\n",
    "\n",
    "\n",
    "########################################\n",
    "# loading data and setting display options\n",
    "########################################\n",
    "# loading data\n",
    "df         = pd.read_excel('./_data/survey_data.xlsx')\n",
    "country_df = pd.read_csv('./_data/continents.csv')\n",
    "\n",
    "# separate survey data into 3 sets\n",
    "big5_df         = df.iloc[:, 1:51]            # big five survey questions\n",
    "hult_df         = df.iloc[:, 51:72]           # hult dna survey questions\n",
    "demographics_df = df.iloc[:, 72:79]           # respondents demographic data\n",
    "country_df      = country_df.iloc[:, [0,5]]   # contients & country data\n",
    "\n",
    "\n",
    "# setting print options\n",
    "pd.set_option('display.max_rows', 500)\n",
    "pd.set_option('display.max_columns', 500)\n",
    "pd.set_option('display.width', 1000)\n",
    "pd.set_option('display.max_colwidth', 100)"
   ]
  },
  {
   "cell_type": "code",
   "execution_count": 2,
   "id": "civilian-pointer",
   "metadata": {
    "ExecuteTime": {
     "end_time": "2021-02-19T20:05:14.879913Z",
     "start_time": "2021-02-19T20:05:14.870431Z"
    },
    "code_folding": [
     0
    ]
   },
   "outputs": [],
   "source": [
    "# User-defined functions\n",
    "\n",
    "\n",
    "########################################\n",
    "# pca_plotter\n",
    "########################################\n",
    "# optional color scheme\n",
    "colors_lst = [\"#476A2A\", \"#7851B8\", \"#BD3430\", \"#4A2D4E\", \"#875525\",\n",
    "              \"#A83683\", \"#4E655E\", \"#853541\", \"#3A3120\", \"#535D8E\"]\n",
    "\n",
    "\n",
    "# pca_plotter\n",
    "def pca_plotter(bunch,\n",
    "                colors  = None,\n",
    "                x_label = \"First principal component\",\n",
    "                y_label = \"Second principal component\"):\n",
    "    \"\"\"\n",
    "PARAMETERS\n",
    "----------\n",
    "bunch        : Bunch object to be used in PCA\n",
    "colors       : color coding for target labels, default None\n",
    "x_label      : x-label for PC 0, default \"First principal component\"\n",
    "y_label      : y-label for PC 1, default \"Second principal component\"\n",
    "\"\"\"\n",
    "\n",
    "    # INSTANTIATING a PCA object\n",
    "    pca = PCA(n_components = 2,\n",
    "              random_state = 219)\n",
    "\n",
    "\n",
    "    # FITTING and TRANSFORMING the data\n",
    "    dataset_pca = pca.fit_transform(bunch.data)\n",
    "\n",
    "    \n",
    "    # setting figure options\n",
    "    plt.figure(figsize=(10, 10))\n",
    "    plt.xlim(dataset_pca[:, 0].min(), dataset_pca[:, 0].max())\n",
    "    plt.ylim(dataset_pca[:, 1].min(), dataset_pca[:, 1].max())\n",
    "\n",
    "\n",
    "    # data vizualization\n",
    "    for i in range(len(bunch.data)):\n",
    "\n",
    "        plt.text(dataset_pca[i, 0],\n",
    "                 dataset_pca[i, 1],\n",
    "                 str(bunch.target[i]),\n",
    "                 color = colors[bunch.target[i]],\n",
    "                 fontdict={'weight': 'bold', 'size': 9})\n",
    "\n",
    "    plt.xlabel(xlabel = x_label)\n",
    "    plt.ylabel(ylabel = y_label)\n",
    "    plt.show()\n",
    "\n",
    "    \n",
    "    \n",
    "    \n",
    "    \n",
    "########################################\n",
    "# tsne_plotter\n",
    "########################################\n",
    "# optional color scheme\n",
    "colors_lst = [\"#476A2A\", \"#7851B8\", \"#BD3430\", \"#4A2D4E\", \"#875525\",\n",
    "              \"#A83683\", \"#4E655E\", \"#853541\", \"#3A3120\", \"#535D8E\"]\n",
    "\n",
    "\n",
    "# tsne_plotter\n",
    "def tsne_plotter(bunch,\n",
    "                 colors  = None,\n",
    "                 x_label = \"t-SNE feature 0\",\n",
    "                 y_label = \"t-SNE feature 1\"):\n",
    "    \"\"\"\n",
    "PARAMETERS\n",
    "----------\n",
    "bunch        : Bunch object to be used in TSNE\n",
    "colors       : color coding for target labels, default None\n",
    "x_label      : x-label for t-SNE feature 0, default \"t-SNE feature 0\"\n",
    "y_label      : y-label for t-SNE feature 1, default \"t-SNE feature 1\"\n",
    "\"\"\"\n",
    "    \n",
    "    # INSTANTIATING a PCA object\n",
    "    tsne = TSNE(random_state = 219)\n",
    "\n",
    "    \n",
    "    # FITTING and TRANSFORMING the data\n",
    "    dataset_tsne = tsne.fit_transform(bunch.data)\n",
    "\n",
    "    \n",
    "    # setting figure options\n",
    "    plt.figure(figsize=(10, 10))\n",
    "    plt.xlim(dataset_tsne[:, 0].min(), dataset_tsne[:, 0].max() + 1)\n",
    "    plt.ylim(dataset_tsne[:, 1].min(), dataset_tsne[:, 1].max() + 1)\n",
    "\n",
    "    \n",
    "    # data vizualization\n",
    "    for i in range(len(bunch.data)):\n",
    "\n",
    "        plt.text(dataset_tsne[i, 0],\n",
    "                 dataset_tsne[i, 1],\n",
    "                 str(bunch.target[i]),\n",
    "                 color    = colors[bunch.target[i]],\n",
    "                 fontdict = {'weight': 'bold', 'size': 9})\n",
    "\n",
    "    plt.xlabel(xlabel = x_label)\n",
    "    plt.ylabel(ylabel = y_label)\n",
    "    plt.show()\n",
    "    \n",
    "    \n",
    "    \n",
    "    \n",
    "    \n",
    "########################################\n",
    "# scree_plot\n",
    "########################################\n",
    "def scree_plot(pca_object, export = False):\n",
    "    # building a scree plot\n",
    "\n",
    "    # setting plot size\n",
    "    fig, ax = plt.subplots(figsize=(10, 8))\n",
    "    features = range(pca_object.n_components_)\n",
    "\n",
    "\n",
    "    # developing a scree plot\n",
    "    plt.plot(features,\n",
    "             pca_object.explained_variance_ratio_,\n",
    "             linewidth = 2,\n",
    "             marker = 'o',\n",
    "             markersize = 10,\n",
    "             markeredgecolor = 'black',\n",
    "             markerfacecolor = 'grey')\n",
    "\n",
    "\n",
    "    # setting more plot options\n",
    "    plt.title('Scree Plot')\n",
    "    plt.xlabel('PCA feature')\n",
    "    plt.ylabel('Explained Variance')\n",
    "    plt.xticks(features)\n",
    "\n",
    "    if export == True:\n",
    "    \n",
    "        # exporting the plot\n",
    "        plt.savefig('./analysis_images/top_customers_correlation_scree_plot.png')\n",
    "        \n",
    "    # displaying the plot\n",
    "    plt.show()\n",
    "    \n",
    "\n",
    "    \n",
    "    \n",
    "    \n",
    "########################################\n",
    "# inertia\n",
    "########################################\n",
    "def interia_plot(data, max_clust = 50):\n",
    "    \"\"\"\n",
    "PARAMETERS\n",
    "----------\n",
    "data      : DataFrame, data from which to build clusters. Dataset should be scaled\n",
    "max_clust : int, maximum of range for how many clusters to check interia, default 50\n",
    "    \"\"\"\n",
    "\n",
    "    ks = range(1, max_clust)\n",
    "    inertias = []\n",
    "\n",
    "\n",
    "    for k in ks:\n",
    "        # INSTANTIATING a kmeans object\n",
    "        model = KMeans(n_clusters = k)\n",
    "\n",
    "\n",
    "        # FITTING to the data\n",
    "        model.fit(data)\n",
    "\n",
    "\n",
    "        # append each inertia to the list of inertias\n",
    "        inertias.append(model.inertia_)\n",
    "\n",
    "\n",
    "\n",
    "    # plotting ks vs inertias\n",
    "    fig, ax = plt.subplots(figsize = (12, 8))\n",
    "    plt.plot(ks, inertias, '-o')\n",
    "\n",
    "\n",
    "    # labeling and displaying the plot\n",
    "    plt.xlabel('number of clusters, k')\n",
    "    plt.ylabel('inertia')\n",
    "    plt.xticks(ks)\n",
    "    plt.show()"
   ]
  },
  {
   "cell_type": "markdown",
   "id": "chronic-renewal",
   "metadata": {},
   "source": [
    "<br>\n",
    "<hr style=\"height:.9px;border:none;color:#333;background-color:#333;\" />\n",
    "<br>\n",
    "\n",
    "# Wrangling & Cleaning\n",
    "\n",
    "## Demographic Data\n",
    "\n",
    "\n"
   ]
  },
  {
   "cell_type": "code",
   "execution_count": 3,
   "id": "difficult-running",
   "metadata": {
    "ExecuteTime": {
     "end_time": "2021-02-19T20:05:25.769782Z",
     "start_time": "2021-02-19T20:05:22.345Z"
    },
    "code_folding": []
   },
   "outputs": [],
   "source": [
    "#country_df.columns = ['Nationality', 'Region']\n",
    "# country_df\n",
    "# demographics_df"
   ]
  },
  {
   "cell_type": "code",
   "execution_count": 4,
   "id": "modern-christianity",
   "metadata": {
    "ExecuteTime": {
     "end_time": "2021-02-19T20:05:15.179224Z",
     "start_time": "2021-02-19T20:05:14.902872Z"
    },
    "code_folding": []
   },
   "outputs": [],
   "source": [
    "# Demographic data\n",
    "\n",
    "# Rename columns for ease of reference\n",
    "demographics_df.columns = ['Current Laptop', \n",
    "                           'Future Laptop', \n",
    "                           'Program',\n",
    "                           'Age',\n",
    "                           'Gender',\n",
    "                           'Nationality',\n",
    "                           'Ethnicity']\n",
    "\n",
    "\n",
    "\n",
    "##############################################################################\n",
    "# Clean Nationality\n",
    "\n",
    "\n",
    "# Capitalize all strings\n",
    "demographics_df['Nationality'] = \\\n",
    "    demographics_df['Nationality'].str.capitalize()\n",
    "\n",
    "# Loop over each row in the demographics dataframe\n",
    "for index, column in demographics_df.iterrows():\n",
    "\n",
    "    if 'and' in demographics_df.loc[index, 'Nationality'].lower() \\\n",
    "    or '/'   in demographics_df.loc[index, 'Nationality'].lower():\n",
    "        demographics_df.loc[index, 'Nationality'] = 'Mixed'    \n",
    "    \n",
    "    \n",
    "    elif 'korea' in demographics_df.loc[index, 'Nationality'].lower():\n",
    "        demographics_df.loc[index, 'Nationality'] = 'Korean'\n",
    "   \n",
    "\n",
    "    elif 'china' in demographics_df.loc[index, 'Nationality'].lower():\n",
    "        demographics_df.loc[index, 'Nationality'] = 'Chinese'\n",
    "      \n",
    "    \n",
    "    elif 'usa' in demographics_df.loc[index, 'Nationality'].lower(): \n",
    "        demographics_df.loc[index, 'Nationality'] = 'American'\n",
    "    \n",
    "    \n",
    "    elif 'ecuador' in demographics_df.loc[index, 'Nationality'].lower():\n",
    "        demographics_df.loc[index, 'Nationality'] = 'Ecuadorian'\n",
    "    \n",
    "    \n",
    "    elif 'brazil' in demographics_df.loc[index, 'Nationality'].lower():\n",
    "        demographics_df.loc[index, 'Nationality'] = 'Brazilian'\n",
    "     \n",
    "    \n",
    "    elif 'india' in demographics_df.loc[index, 'Nationality'].lower():\n",
    "        demographics_df.loc[index, 'Nationality'] = 'Indian'\n",
    "     \n",
    "    \n",
    "    elif 'colombia' in demographics_df.loc[index, 'Nationality'].lower():\n",
    "        demographics_df.loc[index, 'Nationality'] = 'Colombian'\n",
    "     \n",
    "    \n",
    "    elif 'indonesia' in demographics_df.loc[index, 'Nationality'].lower():\n",
    "        demographics_df.loc[index, 'Nationality'] = 'Indonesian'\n",
    "     \n",
    "    \n",
    "    elif 'russia' in demographics_df.loc[index, 'Nationality'].lower():\n",
    "        demographics_df.loc[index, 'Nationality'] = 'Russian'\n",
    "      \n",
    "    \n",
    "    elif 'spain' in demographics_df.loc[index, 'Nationality'].lower():\n",
    "        demographics_df.loc[index, 'Nationality'] = 'Spanish'\n",
    "\n",
    "        \n",
    "    elif 'germany' in demographics_df.loc[index, 'Nationality'].lower():\n",
    "        demographics_df.loc[index, 'Nationality'] = 'German'\n",
    "        \n",
    "        \n",
    "    elif 'philippines' in demographics_df.loc[index, 'Nationality'].lower() \\\n",
    "    or 'filipino' in demographics_df.loc[index, 'Nationality'].lower():\n",
    "        demographics_df.loc[index, 'Nationality'] = 'Filipino'\n",
    "      \n",
    "    \n",
    "    elif 'nigeria' in demographics_df.loc[index, 'Nationality'].lower():\n",
    "        demographics_df.loc[index, 'Nationality'] = 'Nigerian'\n",
    "        \n",
    "        \n",
    "    elif 'canada' in demographics_df.loc[index, 'Nationality'].lower():\n",
    "        demographics_df.loc[index, 'Nationality'] = 'Canadian'  \n",
    "        \n",
    "        \n",
    "    elif 'peru' in demographics_df.loc[index, 'Nationality'].lower():\n",
    "        demographics_df.loc[index, 'Nationality'] = 'Peruvian' \n",
    "       \n",
    "    \n",
    "    elif 'japan' in demographics_df.loc[index, 'Nationality'].lower():\n",
    "        demographics_df.loc[index, 'Nationality'] = 'Japanese'         \n",
    "    \n",
    "    \n",
    "    elif 'congo' in demographics_df.loc[index, 'Nationality'].lower():\n",
    "        demographics_df.loc[index, 'Nationality'] = 'Congolese'          \n",
    "        \n",
    " \n",
    "    elif 'czech' in demographics_df.loc[index, 'Nationality'].lower():\n",
    "        demographics_df.loc[index, 'Nationality'] = 'Czechian'\n",
    "        \n",
    "        \n",
    "    elif 'dominican' in demographics_df.loc[index, 'Nationality'].lower():\n",
    "        demographics_df.loc[index, 'Nationality'] = 'Dominican'\n",
    "        \n",
    "\n",
    "    elif 'mauritius' in demographics_df.loc[index, 'Nationality'].lower():\n",
    "        demographics_df.loc[index, 'Nationality'] = 'Mauritian'   \n",
    "        \n",
    "        \n",
    "    elif 'panama' in demographics_df.loc[index, 'Nationality'].lower():\n",
    "        demographics_df.loc[index, 'Nationality'] = 'Panamanian'\n",
    "        \n",
    "        \n",
    "    elif 'taiwan' in demographics_df.loc[index, 'Nationality'].lower():\n",
    "        demographics_df.loc[index, 'Nationality'] = 'Taiwanese'\n",
    "        \n",
    "        \n",
    "    elif 'belarus' in demographics_df.loc[index, 'Nationality'].lower():\n",
    "        demographics_df.loc[index, 'Nationality'] = 'Belarusian'\n",
    "        \n",
    "        \n",
    "        \n",
    "##############################################################################\n",
    "# New column translating Nationality into Region\n",
    "\n",
    "# Instantiate new column\n",
    "demographics_df['Region'] = 0\n",
    "\n",
    "# Loop over each row in the demographics dataframe\n",
    "for index, column in demographics_df.iterrows():\n",
    "    \n",
    "    if 'swiss' in demographics_df.loc[index, 'Nationality'].lower():\n",
    "        demographics_df.loc[index, 'Region'] = 'Europe'\n",
    "        \n",
    "        \n",
    "    elif 'ghanaian' in demographics_df.loc[index, 'Nationality'].lower():\n",
    "        demographics_df.loc[index, 'Region'] = 'Africa'\n",
    "        \n",
    "        \n",
    "    elif 'pakistani' in demographics_df.loc[index, 'Nationality'].lower():\n",
    "        demographics_df.loc[index, 'Region'] = 'Asia'\n",
    "        \n",
    "        \n",
    "    elif 'portuguese' in demographics_df.loc[index, 'Nationality'].lower():\n",
    "        demographics_df.loc[index, 'Region'] = 'Europe'\n",
    "        \n",
    "        \n",
    "    elif 'british' in demographics_df.loc[index, 'Nationality'].lower():\n",
    "        demographics_df.loc[index, 'Region'] = 'Europe'\n",
    "        \n",
    "    \n",
    "    elif 'kyrgyz' in demographics_df.loc[index, 'Nationality'].lower():\n",
    "        demographics_df.loc[index, 'Region'] = 'Asia'\n",
    "        \n",
    "    \n",
    "    elif 'belgian' in demographics_df.loc[index, 'Nationality'].lower():\n",
    "        demographics_df.loc[index, 'Region'] = 'Europe'\n",
    "        \n",
    "        \n",
    "    elif 'kenyan' in demographics_df.loc[index, 'Nationality'].lower():\n",
    "        demographics_df.loc[index, 'Region'] = 'Africa'\n",
    "        \n",
    "        \n",
    "    elif 'ukrainian' in demographics_df.loc[index, 'Nationality'].lower():\n",
    "        demographics_df.loc[index, 'Region'] = 'Europe'\n",
    "        \n",
    "        \n",
    "    elif 'venezuelan' in demographics_df.loc[index, 'Nationality'].lower():\n",
    "        demographics_df.loc[index, 'Region'] = 'Americas'\n",
    "        \n",
    "        \n",
    "    elif 'belarusian' in demographics_df.loc[index, 'Nationality'].lower():\n",
    "        demographics_df.loc[index, 'Region'] = 'Europe'\n",
    "        \n",
    "    \n",
    "    elif 'taiwanese' in demographics_df.loc[index, 'Nationality'].lower():\n",
    "        demographics_df.loc[index, 'Region'] = 'Asia'\n",
    "        \n",
    "    \n",
    "    elif 'vietnamese' in demographics_df.loc[index, 'Nationality'].lower():\n",
    "        demographics_df.loc[index, 'Region'] = 'Asia'\n",
    "        \n",
    "        \n",
    "    elif 'norwegian' in demographics_df.loc[index, 'Nationality'].lower():\n",
    "        demographics_df.loc[index, 'Region'] = 'Europe'\n",
    "        \n",
    "        \n",
    "    elif 'mexican' in demographics_df.loc[index, 'Nationality'].lower():\n",
    "        demographics_df.loc[index, 'Region'] = 'Americas'\n",
    "        \n",
    "        \n",
    "    elif 'turkish' in demographics_df.loc[index, 'Nationality'].lower():\n",
    "        demographics_df.loc[index, 'Region'] = 'Asia'\n",
    "        \n",
    "        \n",
    "    elif 'italian' in demographics_df.loc[index, 'Nationality'].lower():\n",
    "        demographics_df.loc[index, 'Region'] = 'Europe' \n",
    "    \n",
    "    \n",
    "    elif 'thai' in demographics_df.loc[index, 'Nationality'].lower():\n",
    "        demographics_df.loc[index, 'Region'] = 'Asia'\n",
    "    \n",
    "    \n",
    "    elif 'costarrican' in demographics_df.loc[index, 'Nationality'].lower():\n",
    "        demographics_df.loc[index, 'Region'] = 'Americas' \n",
    "\n",
    "        \n",
    "    elif 'mixed' in demographics_df.loc[index, 'Nationality'].lower():\n",
    "        demographics_df.loc[index, 'Region'] = 'Mixed'    \n",
    "    \n",
    "    \n",
    "    elif 'korean' in demographics_df.loc[index, 'Nationality'].lower():\n",
    "        demographics_df.loc[index, 'Region'] = 'Asia'\n",
    "      \n",
    "    \n",
    "    elif 'chinese' in demographics_df.loc[index, 'Nationality'].lower():\n",
    "        demographics_df.loc[index, 'Region'] = 'Asia'\n",
    "      \n",
    "    \n",
    "    elif 'america' in demographics_df.loc[index, 'Nationality'].lower(): \n",
    "        demographics_df.loc[index, 'Region'] = 'Americas'\n",
    "    \n",
    "    \n",
    "    elif 'ecuadorian' in demographics_df.loc[index, 'Nationality'].lower():\n",
    "        demographics_df.loc[index, 'Region'] = 'Americas'\n",
    "    \n",
    "    \n",
    "    elif 'brazilian' in demographics_df.loc[index, 'Nationality'].lower():\n",
    "        demographics_df.loc[index, 'Region'] = 'Americas'\n",
    "     \n",
    "    \n",
    "    elif 'indian' in demographics_df.loc[index, 'Nationality'].lower():\n",
    "        demographics_df.loc[index, 'Region'] = 'Asia'\n",
    "     \n",
    "    \n",
    "    elif 'colombian' in demographics_df.loc[index, 'Nationality'].lower():\n",
    "        demographics_df.loc[index, 'Region'] = 'Americas'\n",
    "     \n",
    "    \n",
    "    elif 'indonesian' in demographics_df.loc[index, 'Nationality'].lower():\n",
    "        demographics_df.loc[index, 'Region'] = 'Asia'\n",
    "     \n",
    "    \n",
    "    elif 'russian' in demographics_df.loc[index, 'Nationality'].lower():\n",
    "        demographics_df.loc[index, 'Region'] = 'Europe'\n",
    "      \n",
    "    \n",
    "    elif 'spanish' in demographics_df.loc[index, 'Nationality'].lower():\n",
    "        demographics_df.loc[index, 'Region'] = 'Europe'\n",
    "\n",
    "        \n",
    "    elif 'german' in demographics_df.loc[index, 'Nationality'].lower():\n",
    "        demographics_df.loc[index, 'Region'] = 'Europe'\n",
    "        \n",
    "        \n",
    "    elif 'filipino' in demographics_df.loc[index, 'Nationality'].lower():\n",
    "        demographics_df.loc[index, 'Region'] = 'Asia'\n",
    "      \n",
    "    \n",
    "    elif 'nigerian' in demographics_df.loc[index, 'Nationality'].lower():\n",
    "        demographics_df.loc[index, 'Region'] = 'Africa'\n",
    "        \n",
    "        \n",
    "    elif 'canadian' in demographics_df.loc[index, 'Nationality'].lower():\n",
    "        demographics_df.loc[index, 'Region'] = 'Americas'  \n",
    "        \n",
    "        \n",
    "    elif 'peruvian' in demographics_df.loc[index, 'Nationality'].lower():\n",
    "        demographics_df.loc[index, 'Region'] = 'Americas' \n",
    "       \n",
    "    \n",
    "    elif 'japanese' in demographics_df.loc[index, 'Nationality'].lower():\n",
    "        demographics_df.loc[index, 'Region'] = 'Asia'         \n",
    "    \n",
    "    \n",
    "    elif 'congolese' in demographics_df.loc[index, 'Nationality'].lower():\n",
    "        demographics_df.loc[index, 'Region'] = 'Africa'          \n",
    "        \n",
    " \n",
    "    elif 'czechian' in demographics_df.loc[index, 'Nationality'].lower():\n",
    "        demographics_df.loc[index, 'Region'] = 'Europe'\n",
    "        \n",
    "        \n",
    "    elif 'dominican' in demographics_df.loc[index, 'Nationality'].lower():\n",
    "        demographics_df.loc[index, 'Region'] = 'Americas'\n",
    "        \n",
    "\n",
    "    elif 'mauritian' in demographics_df.loc[index, 'Nationality'].lower():\n",
    "        demographics_df.loc[index, 'Region'] = 'Africa'   \n",
    "        \n",
    "        \n",
    "    elif 'panamanian' in demographics_df.loc[index, 'Nationality'].lower():\n",
    "        demographics_df.loc[index, 'Region'] = 'Americas'\n",
    "        \n",
    "        \n",
    "    elif 'prefer not to answer' in demographics_df.loc[index, 'Nationality'].lower():\n",
    "        demographics_df.loc[index, 'Region'] = 'Prefer not to answer'\n",
    "        \n",
    "        \n",
    "        \n",
    "# Replace \"Windows laptop\" with \"Windows\"\n",
    "demographics_df['Current Laptop'].replace('Windows laptop',\n",
    "                                          'Windows',\n",
    "                                          inplace = True)\n",
    "\n",
    "demographics_df['Future Laptop'].replace('Windows laptop',\n",
    "                                         'Windows',\n",
    "                                         inplace = True)\n",
    "\n",
    "\n",
    "\n",
    "##############################################################################\n",
    "# Clean Program\n",
    "\n",
    "# Loop through each value in each row\n",
    "for index, column in demographics_df.iterrows():\n",
    "    \n",
    "    # Substitute business analytics with shorthand\n",
    "    demographics_df.loc[index, 'Program'] = \\\n",
    "        re.sub(r'Business Analytics', 'MsBA', demographics_df.loc[index, 'Program'])\n",
    "\n",
    "    # Substitute disruptive innovation with shorthand    \n",
    "    demographics_df.loc[index, 'Program'] = \\\n",
    "        re.sub(r'Disruptive innovation', 'MDI', demographics_df.loc[index, 'Program'])\n",
    "    \n",
    "    # Remove one year because it's already implied\n",
    "    demographics_df.loc[index, 'Program'] = \\\n",
    "        re.sub(r'One year MsBA', 'MsBA', demographics_df.loc[index, 'Program'])\n",
    "    \n",
    "\n",
    "    \n",
    "##############################################################################\n",
    "# Clean Ethnicity\n",
    "    \n",
    "# Loop through each value in each row\n",
    "for index, column in demographics_df.iterrows():\n",
    "    \n",
    "    # Group white and middle eastern into white\n",
    "    demographics_df.loc[index, 'Ethnicity'] = \\\n",
    "        re.sub(r'White / Caucasian|Middle Eastern',\n",
    "               'White', demographics_df.loc[index, 'Ethnicity'])\n",
    "\n",
    "    # Group west and east asian into asian\n",
    "    demographics_df.loc[index, 'Ethnicity'] = \\\n",
    "        re.sub(r'Far east Asian|West Asian / Indian', \n",
    "               'Asian', demographics_df.loc[index, 'Ethnicity'])\n",
    "    \n",
    "    # Rename native american based on the US census race grouping\n",
    "    demographics_df.loc[index, 'Ethnicity'] = \\\n",
    "        re.sub(r'Native American', 'American Indian', demographics_df.loc[index, 'Ethnicity'])\n",
    "\n",
    "\n",
    "    \n",
    "    \n",
    "##############################################################################\n",
    "# Bucketize Age\n",
    "    \n",
    "\n",
    "# Placeholder\n",
    "demographics_df['Age Range'] = ''\n",
    "\n",
    "# Loop through each value in each row\n",
    "for index, column in demographics_df.iterrows():\n",
    "    \n",
    "    if demographics_df.loc[index, 'Age'] >= 40:\n",
    "        demographics_df.loc[index, 'Age Range'] = '40s'\n",
    "        \n",
    "    elif demographics_df.loc[index, 'Age'] >= 30:\n",
    "        demographics_df.loc[index, 'Age Range'] = '30s'\n",
    "        \n",
    "    elif demographics_df.loc[index, 'Age'] >= 20:\n",
    "        demographics_df.loc[index, 'Age Range'] = '20s'\n",
    "    \n",
    "# Check cleaned data\n",
    "#demographics_df"
   ]
  },
  {
   "cell_type": "markdown",
   "id": "coral-repair",
   "metadata": {},
   "source": [
    "<br>\n",
    "<br>\n",
    "\n",
    "## Big Five Data"
   ]
  },
  {
   "cell_type": "code",
   "execution_count": 6,
   "id": "contemporary-brook",
   "metadata": {
    "ExecuteTime": {
     "end_time": "2021-02-19T20:05:15.184824Z",
     "start_time": "2021-02-19T20:05:15.180471Z"
    },
    "code_folding": [
     0
    ],
    "scrolled": true
   },
   "outputs": [],
   "source": [
    "# Match questions with traits & rename columns\n",
    "\n",
    "#############################\n",
    "# Personality abbreviations\n",
    "#############################\n",
    "# EXT - Questions to measure Extroversion.\n",
    "# AGR - Questions to measure Agreeableness\n",
    "# CSN - Questions to measure Conscientiousness\n",
    "# EST - Questions to measure Neuroticism\n",
    "# OPN - Questions to measure Openness to Experience\n",
    "\n",
    "\n",
    "# Create dictionary of questions to personality\n",
    "questions_traits = {\n",
    "    \n",
    "    \"Am the life of the party\"                                   : 'EXT1',\n",
    "    \"Feel little concern for others\"                             : 'AGR1',\n",
    "    \"Am always prepared\"                                         : 'CSN1',\n",
    "    \"Get stressed out easily\"                                    : 'EST1',\n",
    "    \"Have a rich vocabulary\"                                     : 'OPN1',\n",
    "    \n",
    "    \"Don't talk a lot\"                                           : 'EXT2',\n",
    "    \"Am interested in people\"                                    : 'AGR2',\n",
    "    \"Leave my belongings around\"                                 : 'CSN2',\n",
    "    \"Am relaxed most of the time\"                                : 'EST2',\n",
    "    \"Have difficulty understanding abstract ideas\"               : 'OPN2',\n",
    "    \n",
    "    \"Feel comfortable around people\"                             : 'EXT3',\n",
    "    \"Insult people\"                                              : 'AGR3',\n",
    "    \"Pay attention to details\"                                   : 'CSN3',\n",
    "    \"Worry about things\"                                         : 'EST3',\n",
    "    \"Have a vivid imagination\"                                   : 'OPN3',\n",
    "    \n",
    "    \"Keep in the background\"                                     : 'EXT4',\n",
    "    \"Sympathize with others' feelings\"                           : 'AGR4',\n",
    "    \"Make a mess of things\"                                      : 'CSN4',\n",
    "    \"Seldom feel blue\"                                           : 'EST4',\n",
    "    \"Am not interested in abstract ideas\"                        : 'OPN4',\n",
    "    \n",
    "    \"Start conversations\"                                        : 'EXT5',\n",
    "    \"Am not interested in other people's problems\"               : 'AGR5',\n",
    "    \"Get chores done right away\"                                 : 'CSN5',\n",
    "    \"Am easily disturbed\"                                        : 'EST5',\n",
    "    \"Have excellent ideas\"                                       : 'OPN5',\n",
    "    \n",
    "    \"Have little to say\"                                         : 'EXT6',\n",
    "    \"Have a soft heart\"                                          : 'AGR6',\n",
    "    \"Often forget to put things back in their proper place\"      : 'CSN6',\n",
    "    \"Get upset easily\"                                           : 'EST6',\n",
    "    \"Do not have a good imagination\"                             : 'OPN6',\n",
    "    \n",
    "    \"Talk to a lot of different people at parties\"               : 'EXT7',\n",
    "    \"Am not really interested in others\"                         : 'AGR7',\n",
    "    \"Like order\"                                                 : 'CSN7',\n",
    "    \"Change my mood a lot\"                                       : 'EST7',\n",
    "    \"Am quick to understand things\"                              : 'OPN7',\n",
    "    \n",
    "    \"Don't like to draw attention to myself\"                     : 'EXT8',\n",
    "    \"Take time out for others\"                                   : 'AGR8',\n",
    "    \"Shirk my duties\"                                            : 'CSN8',\n",
    "    \"Have frequent mood swings\"                                  : 'EST8',\n",
    "    \"Use difficult words\"                                        : 'OPN8',\n",
    "    \n",
    "    \"Don't mind being the center of attention\"                   : 'EXT9',\n",
    "    \"Feel others' emotions\"                                      : 'AGR9',\n",
    "    \"Follow a schedule\"                                          : 'CSN9',\n",
    "    \"Get irritated easily\"                                       : 'EST9',\n",
    "    \"Spend time reflecting on things\"                            : 'OPN9',\n",
    "    \n",
    "    \"Am quiet around strangers\"                                  : 'EXT10',\n",
    "    \"Make people feel at ease\"                                   : 'AGR10',\n",
    "    \"Am exacting in my work\"                                     : 'CSN10',\n",
    "    \"Often feel blue\"                                            : 'EST10',\n",
    "    \"Am full of ideas\"                                           : 'OPN10'\n",
    "}\n",
    "\n",
    "\n",
    "# Rename columns\n",
    "big5_df.rename(columns = questions_traits, inplace = True)\n",
    "\n",
    "# Check cleaned data\n",
    "# big5_df"
   ]
  },
  {
   "cell_type": "code",
   "execution_count": 7,
   "id": "norman-nepal",
   "metadata": {
    "ExecuteTime": {
     "end_time": "2021-02-19T20:05:15.189706Z",
     "start_time": "2021-02-19T20:05:15.186122Z"
    },
    "code_folding": [
     0
    ]
   },
   "outputs": [],
   "source": [
    "# Identification of reversals\n",
    "\n",
    "\n",
    "# positive questions that add to the trait\n",
    "positive_questions = [ \n",
    "    'EXT1','EXT3','EXT5','EXT7','EXT9',                       # EXT 5\n",
    "    'EST1','EST3','EST5','EST6','EST7','EST8','EST9','EST10', # EST 8\n",
    "    'AGR2','AGR4','AGR6','AGR8','AGR9','AGR10',               # AGR 6\n",
    "    'CSN1','CSN3','CSN5','CSN7','CSN9','CSN10',               # CSN 6\n",
    "    'OPN1','OPN3','OPN5','OPN7','OPN8','OPN9','OPN10',        # OPN 7\n",
    "]\n",
    "\n",
    "# negative questions that substract from the trait\n",
    "negative_questions = [ \n",
    "    'EXT2','EXT4','EXT6','EXT8','EXT10',                      # EXT 5\n",
    "    'EST2','EST4',                                            # EST 2\n",
    "    'AGR1','AGR3','AGR5','AGR7',                              # AGR 4\n",
    "    'CSN2','CSN4','CSN6','CSN8',                              # CSN 4\n",
    "    'OPN2','OPN4','OPN6',                                     # OPN 3\n",
    "]\n",
    "\n",
    "\n",
    "# dictionary of each question and its reversal\n",
    "crosscheck_questions = {\n",
    "    \n",
    "    # Extroversion\n",
    "    'EXT1' : 'EXT2',\n",
    "    'EXT3' : 'EXT4',\n",
    "    'EXT5' : 'EXT6',\n",
    "    'EXT7' : 'EXT8',\n",
    "    'EXT9' : 'EXT10',\n",
    "    \n",
    "    # Agreeableness\n",
    "    'AGR2' : 'AGR1',\n",
    "    'AGR4' : 'AGR3',\n",
    "    'AGR6' : 'AGR5',\n",
    "    'AGR8' : 'AGR7',\n",
    "    \n",
    "    # Conscientiousness\n",
    "    'CSN1' : 'CSN2',\n",
    "    'CSN3' : 'CSN4',\n",
    "    'CSN5' : 'CSN6',\n",
    "    'CSN7' : 'CSN8',\n",
    "    \n",
    "    # Neuroticism\n",
    "    'EST1' : 'EST2',\n",
    "    'EST4' : 'EST10',\n",
    "    \n",
    "    # Openness\n",
    "    'OPN1' : 'OPN2',\n",
    "    'OPN3' : 'OPN4',\n",
    "    'OPN5' : 'OPN6'\n",
    "    \n",
    "}"
   ]
  },
  {
   "cell_type": "code",
   "execution_count": 8,
   "id": "sized-forest",
   "metadata": {
    "ExecuteTime": {
     "end_time": "2021-02-19T20:05:15.431310Z",
     "start_time": "2021-02-19T20:05:15.193246Z"
    },
    "code_folding": [
     0
    ]
   },
   "outputs": [],
   "source": [
    "# Check validity of survey responses & drop invalid ones\n",
    "\n",
    "\n",
    "\n",
    "##############################################################################\n",
    "# Flag invalid responses\n",
    "\n",
    "# Loop over column names of Big 5 DF\n",
    "for column_name in big5_df.columns:\n",
    "    \n",
    "    # Loop over keys and values of Crosscheck Questions dict\n",
    "    for key, value in crosscheck_questions.items():\n",
    "        \n",
    "        # If column from DF is in the keys of the dict\n",
    "        if column_name in key:\n",
    "            \n",
    "            # Create a new column of the key-value pair as a placeholder for flag\n",
    "            big5_df[key + ' & ' + value] = 0\n",
    "            \n",
    "            # Loop over each row\n",
    "            for index, column in big5_df.iterrows():\n",
    "                \n",
    "                # If the values in each column match\n",
    "                # Exclude the neutral answers\n",
    "                if big5_df.loc[index, key] == big5_df.loc[index, value] \\\n",
    "                & big5_df.loc[index, key] != 3:\n",
    "                    \n",
    "                    # Flag the row\n",
    "                    big5_df.loc[index, key + ' & ' + value] = 1\n",
    "    \n",
    "    \n",
    "    \n",
    "##############################################################################\n",
    "# Sum flags\n",
    "\n",
    "# Save list of flag column names\n",
    "#flag_columns = big5_df.iloc[:,50:].columns\n",
    "\n",
    "# Print each flag column\n",
    "#for flag in flag_columns:\n",
    "#    print(f\"big5_df['{flag}'] + \\\\\")\n",
    "    \n",
    "# Sum the flags\n",
    "big5_df['FLAG_SUM']=big5_df['EXT1 & EXT2'] + \\\n",
    "                    big5_df['CSN1 & CSN2'] + \\\n",
    "                    big5_df['EST1 & EST2'] + \\\n",
    "                    big5_df['OPN1 & OPN2'] + \\\n",
    "                    big5_df['AGR2 & AGR1'] + \\\n",
    "                    big5_df['EXT3 & EXT4'] + \\\n",
    "                    big5_df['CSN3 & CSN4'] + \\\n",
    "                    big5_df['OPN3 & OPN4'] + \\\n",
    "                    big5_df['AGR4 & AGR3'] + \\\n",
    "                    big5_df['EST4 & EST10'] + \\\n",
    "                    big5_df['EXT5 & EXT6'] + \\\n",
    "                    big5_df['CSN5 & CSN6'] + \\\n",
    "                    big5_df['OPN5 & OPN6'] + \\\n",
    "                    big5_df['AGR6 & AGR5'] + \\\n",
    "                    big5_df['EXT7 & EXT8'] + \\\n",
    "                    big5_df['CSN7 & CSN8'] + \\\n",
    "                    big5_df['AGR8 & AGR7'] + \\\n",
    "                    big5_df['EXT9 & EXT10']\n",
    "\n",
    "\n",
    "\n",
    "##############################################################################\n",
    "# Remove invalid survey responses\n",
    "\n",
    "# There are a total of 18 validity checks in the form of reversal questions.\n",
    "\n",
    "# If a respondent answers with identical scores for more than half of those\n",
    "# questions (9 or more), then than respondents submission will be considered \n",
    "# invalid and they will be dropped from the analysis\n",
    "\n",
    "\n",
    "# Check for natural cutoff of number of invalid responses\n",
    "big5_df.loc[:, 'FLAG_SUM'].value_counts()\n",
    "\n",
    "# How many will we cut off with 6 or greater flags? = 16\n",
    "len(big5_df.loc[big5_df['FLAG_SUM'] > 5, :])\n",
    "\n",
    "\n",
    "# Save index of respondents to drop\n",
    "respondents_to_drop = big5_df.loc[big5_df['FLAG_SUM'] > 5, :].index"
   ]
  },
  {
   "cell_type": "code",
   "execution_count": 9,
   "id": "based-semester",
   "metadata": {
    "ExecuteTime": {
     "end_time": "2021-02-19T20:05:15.451105Z",
     "start_time": "2021-02-19T20:05:15.433527Z"
    },
    "code_folding": [
     0
    ]
   },
   "outputs": [],
   "source": [
    "# Big 5 score system adjustment, aggreggation, & scaling\n",
    "\n",
    "\n",
    "\n",
    "##############################################################################\n",
    "# Change scoring system from 1 through 5 to -2 through 2 depending on whether\n",
    "# the question adds or substracts from each trait\n",
    "\n",
    "# Positive scores\n",
    "positive_scores = {1 : -2,\n",
    "                   2 : -1,\n",
    "                   3 :  0, \n",
    "                   4 :  1,\n",
    "                   5 :  2}\n",
    "\n",
    "# Negative scores\n",
    "negative_scores = {1 :  2,\n",
    "                   2 :  1,\n",
    "                   3 :  0,\n",
    "                   4 : -1,\n",
    "                   5 : -2}\n",
    "\n",
    "# Replace values in positive questions\n",
    "big5_df[positive_questions] = \\\n",
    "    big5_df[positive_questions].replace(positive_scores)\n",
    "\n",
    "# Replace values in negative questions\n",
    "big5_df[negative_questions] = \\\n",
    "    big5_df[negative_questions].replace(negative_scores)\n",
    "\n",
    "\n",
    "\n",
    "##############################################################################\n",
    "# Aggreggate Big Five Scores\n",
    "\n",
    "# Instantiate list of traits\n",
    "traits = ['EXT', 'EST', 'AGR', 'CSN', 'OPN']\n",
    "\n",
    "# Loop through each trait in the list of traits\n",
    "for trait in traits:\n",
    "    \n",
    "    # Loop over the list of column names with the variable col\n",
    "    # and add it to a new list if col containts one of the traits\n",
    "    trait_cols = sorted([col for col in big5_df.columns if trait in col])\n",
    "    \n",
    "    # Sum each of the scores for each trait\n",
    "    big5_df[trait] = big5_df[trait_cols].sum(axis=1)\n",
    "    \n",
    "    # Place aggreggated score for each trait in DF\n",
    "    big5_df[trait]\n",
    "\n",
    "    \n",
    "    # Code for looping over column names is adapted from:\n",
    "    # https://stackoverflow.com/questions/21285380/find-column-whose-name-contains-a-specific-string    \n",
    "    \n",
    "# Extract aggregated data into separate DF\n",
    "big5_agg = big5_df.iloc[:, -5:]\n",
    "\n",
    "\n",
    "\n",
    "##############################################################################\n",
    "# Scale Big Five Scores\n",
    "\n",
    "# INSTANTIATING a StandardScaler() object\n",
    "scaler = StandardScaler()\n",
    "\n",
    "\n",
    "# FITTING the scaler with the data\n",
    "scaler.fit(big5_agg)\n",
    "\n",
    "\n",
    "# TRANSFORMING our data after fit\n",
    "X_scaled = scaler.transform(big5_agg)\n",
    "\n",
    "\n",
    "# converting scaled data into a DataFrame\n",
    "big5_agg_scaled = pd.DataFrame(X_scaled)\n",
    "\n",
    "\n",
    "# reattaching column names\n",
    "big5_agg_scaled.columns = big5_agg.columns"
   ]
  },
  {
   "cell_type": "code",
   "execution_count": 10,
   "id": "present-integral",
   "metadata": {
    "ExecuteTime": {
     "end_time": "2021-02-19T20:05:15.892071Z",
     "start_time": "2021-02-19T20:05:15.453050Z"
    },
    "code_folding": [
     0
    ],
    "scrolled": false
   },
   "outputs": [],
   "source": [
    "# Plot distributions of Big 5 results\n",
    "\n",
    "# Rename columns for aesthetics\n",
    "big5_abbreviations = {\n",
    "    'EXT' : 'Extroversion',\n",
    "    'EST' : 'Neuroticism',\n",
    "    'AGR' : 'Agreeableness',\n",
    "    'CSN' : 'Conscientiousness',\n",
    "    'OPN' : 'Openness to Experience'\n",
    "}\n",
    "\n",
    "big5_agg_scaled.rename(columns = big5_abbreviations, inplace = True)\n",
    "\n",
    "# Set figure size\n",
    "fig, ax = plt.subplots(figsize = (12, 8))\n",
    "\n",
    "\n",
    "# Initialize a counter\n",
    "count = 0\n",
    "\n",
    "\n",
    "# Loop to create visualizations\n",
    "for col in big5_agg_scaled:\n",
    "\n",
    "    # condition to break\n",
    "    if count == 5:\n",
    "        break\n",
    "    \n",
    "    # increase count\n",
    "    count += 1\n",
    "    \n",
    "    # Prepare histograms\n",
    "    plt.subplot(2, 3, count)\n",
    "    sns.histplot(x = big5_agg_scaled[col], color = 'steelblue')\n",
    "    \n",
    "plt.tight_layout()\n",
    "plt.savefig('./_images/analysis/histograms_big5.png')\n",
    "#plt.show()\n",
    "plt.close()"
   ]
  },
  {
   "cell_type": "code",
   "execution_count": 11,
   "id": "friendly-grass",
   "metadata": {
    "ExecuteTime": {
     "end_time": "2021-02-19T20:05:16.034384Z",
     "start_time": "2021-02-19T20:05:15.893560Z"
    },
    "code_folding": [
     0
    ],
    "scrolled": false
   },
   "outputs": [],
   "source": [
    "# Plot correlation heatmap of aggregated Big 5 results\n",
    "\n",
    "# setting plot size\n",
    "fig, ax = plt.subplots(figsize = (8, 8))\n",
    "\n",
    "\n",
    "# developing a correlation matrix object\n",
    "df_corr = big5_agg_scaled.corr(method = 'pearson').round(2)\n",
    "\n",
    "# define the mask to set the values in the upper triangle to True\n",
    "mask = np.triu(np.ones_like(df_corr, dtype=np.bool))\n",
    "\n",
    "# creating a correlation heatmap\n",
    "sns.heatmap(df_corr,\n",
    "            cmap   = 'coolwarm',\n",
    "            square = True,\n",
    "            annot  = True,\n",
    "            mask   = mask)\n",
    "\n",
    "\n",
    "# saving and displaying the heatmap\n",
    "plt.savefig('./_images/analysis/heatmap_big5.png')\n",
    "#plt.show()\n",
    "plt.close()"
   ]
  },
  {
   "cell_type": "markdown",
   "id": "precious-johnston",
   "metadata": {},
   "source": [
    "<br><br>\n",
    "\n",
    "## Hult DNA Data"
   ]
  },
  {
   "cell_type": "code",
   "execution_count": 12,
   "id": "spoken-hypothetical",
   "metadata": {
    "ExecuteTime": {
     "end_time": "2021-02-19T20:05:16.039900Z",
     "start_time": "2021-02-19T20:05:16.035714Z"
    },
    "code_folding": []
   },
   "outputs": [],
   "source": [
    "# Drop duplicate columns\n",
    "\n",
    "hult_df = hult_df[hult_df.columns.drop(list(hult_df.filter(regex='.1')))]"
   ]
  },
  {
   "cell_type": "code",
   "execution_count": 13,
   "id": "unique-comparison",
   "metadata": {
    "ExecuteTime": {
     "end_time": "2021-02-19T20:05:16.045451Z",
     "start_time": "2021-02-19T20:05:16.041769Z"
    },
    "code_folding": []
   },
   "outputs": [],
   "source": [
    "# Match questions with traits & rename columns\n",
    "\n",
    "#############################\n",
    "# Personality abbreviations\n",
    "#############################\n",
    "# TH - Questions to measure Thinking\n",
    "# CM - Questions to measure Communicating\n",
    "# TB - Questions to measure Team Building\n",
    "# LD - Questions to measure Leadership\n",
    "\n",
    "# Create dictionary of questions to personality\n",
    "questions_traits = {\n",
    "\"See underlying patterns in complex situations\"                              : 'TH1',\n",
    "\"Don't  generate ideas that are new and different\"                           : 'TH2',\n",
    "\"Demonstrate an awareness of personal strengths and limitations\"             : 'TH3',\n",
    "\"Display a growth mindset\"                                                   : 'TH4',\n",
    "\"Respond effectively to multiple priorities\"                                 : 'TH5', \n",
    "\"Take initiative even when circumstances, objectives, or rules aren't clear\" : 'LD1', \n",
    "\"Encourage direct and open discussions\"                                      : 'CM1',\n",
    "\"Listen carefully to others\"                                                 : 'CM2',\n",
    "\"Don't persuasively sell a vision or idea\"                                   : 'CM3',\n",
    "\"Build cooperative relationships\"                                            : 'TB1',\n",
    "\"Work well with people from diverse cultural backgrounds\"                    : 'TB2',\n",
    "\"Effectively negotiate interests, resources, and roles\"                      : 'CM4', \n",
    "\"Can't rally people on the team around a common goal\"                        : 'TB3',\n",
    "\"Translate ideas into plans that are organized and realistic\"                : 'TH6',\n",
    "\"Resolve conflicts constructively\"                                           : 'TB4',\n",
    "\"Seek and use feedback from teammates\"                                       : 'TH7', \n",
    "\"Coach teammates for performance and growth\"                                 : 'TB5',\n",
    "\"Drive for results\"                                                          : 'LD2'  \n",
    "}\n",
    "\n",
    "\n",
    "# positive questions that add to the trait\n",
    "positive_questions = [ \n",
    "    'TH1', 'TH3', 'TH4', 'TH5', 'TH6', 'TH7',  # TH 6    \n",
    "    'CM1', 'CM2', 'CM3', 'CM4',                # CM 4\n",
    "    'TB1', 'TB2', 'TB4', 'TB5',                # TB 6\n",
    "    'LD1', 'LD2'                               # LD 2\n",
    "]\n",
    "\n",
    "# negative questions that substract from the trait\n",
    "negative_questions = [ \n",
    "    'TH2',                                    # TH 1\n",
    "    'CM3',                                    # CM 1\n",
    "    'TB3',                                    # TB 1\n",
    "]\n",
    "\n",
    "\n",
    "\n",
    "# Rename columns\n",
    "hult_df.rename(columns = questions_traits, inplace = True)\n",
    "\n",
    "# Check cleaned data\n",
    "# hult_df"
   ]
  },
  {
   "cell_type": "code",
   "execution_count": 14,
   "id": "crazy-virgin",
   "metadata": {
    "ExecuteTime": {
     "end_time": "2021-02-19T20:05:16.061278Z",
     "start_time": "2021-02-19T20:05:16.046850Z"
    },
    "code_folding": [
     0
    ]
   },
   "outputs": [],
   "source": [
    "# Hult DNA score system adjustment, aggreggation, & scaling\n",
    "\n",
    "\n",
    "##############################################################################\n",
    "# Change scoring system from 1 through 5 to -2 through 2 depending on whether\n",
    "# the question adds or substracts from each trait\n",
    "\n",
    "# Positive scores\n",
    "positive_scores = {1 : -2,\n",
    "                   2 : -1,\n",
    "                   3 :  0, \n",
    "                   4 :  1,\n",
    "                   5 :  2}\n",
    "\n",
    "# Negative scores\n",
    "negative_scores = {1 :  2,\n",
    "                   2 :  1,\n",
    "                   3 :  0,\n",
    "                   4 : -1,\n",
    "                   5 : -2}\n",
    "\n",
    "# Replace values in positive questions\n",
    "hult_df[positive_questions] = \\\n",
    "    hult_df[positive_questions].replace(positive_scores)\n",
    "\n",
    "# Replace values in negative questions\n",
    "hult_df[negative_questions] = \\\n",
    "    hult_df[negative_questions].replace(negative_scores)\n",
    "\n",
    "##############################################################################\n",
    "# Aggreggate Hult DNA Scores\n",
    "\n",
    "# Instantiate list of traits\n",
    "traits = ['TH', 'CM', 'TB', 'LD']\n",
    "\n",
    "# Loop through each trait in the list of traits\n",
    "for trait in traits:\n",
    "    \n",
    "    # Loop over the list of column names with the variable col\n",
    "    # and add it to a new list if col containts one of the traits\n",
    "    trait_cols = sorted([col for col in hult_df.columns if trait in col])\n",
    "    \n",
    "    # Sum each of the scores for each trait\n",
    "    hult_df[trait] = hult_df[trait_cols].sum(axis=1)\n",
    "    \n",
    "    # Place aggreggated score for each trait in DF\n",
    "    hult_df[trait]\n",
    "\n",
    "    \n",
    "    # Code for looping over column names is adapted from:\n",
    "    # https://stackoverflow.com/questions/21285380/find-column-whose-name-contains-a-specific-string    \n",
    "    \n",
    "# Extract aggregated data into separate DF\n",
    "hult_agg = hult_df.iloc[:, -4:]\n",
    "\n",
    "##############################################################################\n",
    "# Scale Hult DNA Scores\n",
    "\n",
    "# INSTANTIATING a StandardScaler() object\n",
    "scaler = StandardScaler()\n",
    "\n",
    "\n",
    "# FITTING the scaler with the data\n",
    "scaler.fit(hult_agg)\n",
    "\n",
    "\n",
    "# TRANSFORMING our data after fit\n",
    "X_scaled = scaler.transform(hult_agg)\n",
    "\n",
    "\n",
    "# converting scaled data into a DataFrame\n",
    "hult_agg_scaled = pd.DataFrame(X_scaled)\n",
    "\n",
    "\n",
    "# reattaching column names\n",
    "hult_agg_scaled.columns = hult_agg.columns"
   ]
  },
  {
   "cell_type": "code",
   "execution_count": 15,
   "id": "agreed-fifth",
   "metadata": {
    "ExecuteTime": {
     "end_time": "2021-02-19T20:05:16.386659Z",
     "start_time": "2021-02-19T20:05:16.062406Z"
    },
    "code_folding": [
     0
    ]
   },
   "outputs": [],
   "source": [
    "# Plot distributions of Hult DNA results\n",
    "\n",
    "# Rename columns for aesthetics\n",
    "hult_dna_abbreviations = {\n",
    "    'TH' : 'Thinking',\n",
    "    'CM' : 'Communicating',\n",
    "    'TB' : 'Team Building',\n",
    "    'LD' : 'Leadership'\n",
    "}\n",
    "\n",
    "hult_agg_scaled.rename(columns = hult_dna_abbreviations, inplace = True)\n",
    "\n",
    "# Set figure size\n",
    "fig, ax = plt.subplots(figsize = (12, 8))\n",
    "\n",
    "\n",
    "# Initialize a counter\n",
    "count = 0\n",
    "\n",
    "\n",
    "# Loop to create visualizations\n",
    "for col in hult_agg_scaled:\n",
    "\n",
    "    # condition to break\n",
    "    if count == 5:\n",
    "        break\n",
    "    \n",
    "    # increase count\n",
    "    count += 1\n",
    "    \n",
    "    # Prepare histograms\n",
    "    plt.subplot(2, 3, count)\n",
    "    sns.histplot(x = hult_agg_scaled[col], color = 'steelblue', bins='fd')\n",
    "    \n",
    "plt.tight_layout()\n",
    "plt.savefig('./_images/analysis/histograms_hult_dna.png')\n",
    "#plt.show()\n",
    "plt.close()"
   ]
  },
  {
   "cell_type": "code",
   "execution_count": 16,
   "id": "proprietary-constitution",
   "metadata": {
    "ExecuteTime": {
     "end_time": "2021-02-19T20:05:16.517171Z",
     "start_time": "2021-02-19T20:05:16.387975Z"
    },
    "code_folding": [
     0
    ],
    "scrolled": false
   },
   "outputs": [],
   "source": [
    "# Plot correlation heatmap of aggregated Hult DNA results\n",
    "\n",
    "# setting plot size\n",
    "fig, ax = plt.subplots(figsize = (8, 8))\n",
    "\n",
    "\n",
    "# developing a correlation matrix object\n",
    "df_corr = hult_agg_scaled.corr(method = 'pearson').round(2)\n",
    "\n",
    "# define the mask to set the values in the upper triangle to True\n",
    "mask = np.triu(np.ones_like(df_corr, dtype=np.bool))\n",
    "\n",
    "# creating a correlation heatmap\n",
    "sns.heatmap(df_corr,\n",
    "            cmap   = 'coolwarm',\n",
    "            square = True,\n",
    "            annot  = True,\n",
    "            mask   = mask)\n",
    "\n",
    "\n",
    "# saving and displaying the heatmap\n",
    "plt.savefig('./_images/analysis/heatmap_hult_dna.png')\n",
    "#plt.show()\n",
    "plt.close()"
   ]
  },
  {
   "cell_type": "markdown",
   "id": "vertical-adventure",
   "metadata": {},
   "source": [
    "<br><br>\n",
    "\n",
    "## Merged Data"
   ]
  },
  {
   "cell_type": "code",
   "execution_count": 17,
   "id": "equipped-newman",
   "metadata": {
    "ExecuteTime": {
     "end_time": "2021-02-19T20:05:16.521357Z",
     "start_time": "2021-02-19T20:05:16.518637Z"
    },
    "code_folding": []
   },
   "outputs": [],
   "source": [
    "# Merge & export aggregated & scaled data from two surveys\n",
    "\n",
    "# Merge\n",
    "agg_scaled_df = pd.concat([big5_agg_scaled, hult_agg_scaled], axis = 1)\n",
    "\n",
    "# Export as CSV\n",
    "#agg_scaled_df.to_csv('./_data/aggreggated_scaled_results.csv')"
   ]
  },
  {
   "cell_type": "code",
   "execution_count": 18,
   "id": "outdoor-ambassador",
   "metadata": {
    "ExecuteTime": {
     "end_time": "2021-02-19T20:05:16.795883Z",
     "start_time": "2021-02-19T20:05:16.523062Z"
    },
    "code_folding": []
   },
   "outputs": [],
   "source": [
    "# Plot correlation heatmap of merged aggregated results\n",
    "\n",
    "\n",
    "# setting plot size\n",
    "fig, ax = plt.subplots(figsize = (8, 8))\n",
    "\n",
    "\n",
    "# developing a correlation matrix object\n",
    "df_corr = agg_scaled_df.corr(method = 'pearson').round(2)\n",
    "\n",
    "\n",
    "# define the mask to set the values in the upper triangle to True\n",
    "mask = np.triu(np.ones_like(df_corr, dtype=np.bool))\n",
    "\n",
    "\n",
    "# creating a correlation heatmap\n",
    "sns.heatmap(df_corr,\n",
    "            cmap = 'coolwarm',\n",
    "            square = True,\n",
    "            annot = True,\n",
    "            mask = mask)\n",
    "\n",
    "\n",
    "# saving and displaying the heatmap\n",
    "plt.savefig('./_images/analysis/heatmap_merged.png')\n",
    "#plt.show()\n",
    "plt.close()"
   ]
  },
  {
   "cell_type": "markdown",
   "id": "annual-custom",
   "metadata": {},
   "source": [
    "<br><br>\n",
    "<hr style=\"height:.9px;border:none;color:#333;background-color:#333;\" />\n",
    "<br>\n",
    "\n",
    "# Principal Component Analysis (PCA)\n",
    "\n",
    "## Big Five Data"
   ]
  },
  {
   "cell_type": "code",
   "execution_count": 19,
   "id": "confidential-upset",
   "metadata": {
    "ExecuteTime": {
     "end_time": "2021-02-19T20:05:16.909510Z",
     "start_time": "2021-02-19T20:05:16.797367Z"
    },
    "code_folding": [
     0
    ]
   },
   "outputs": [
    {
     "name": "stdout",
     "output_type": "stream",
     "text": [
      "PC 1 : 0.365\n",
      "PC 2 : 0.19\n",
      "PC 3 : 0.183\n",
      "PC 4 : 0.147\n",
      "PC 5 : 0.114\n"
     ]
    },
    {
     "data": {
      "image/png": "[encoded data removed]",
      "text/plain": [
       "<Figure size 720x576 with 1 Axes>"
      ]
     },
     "metadata": {
      "needs_background": "light"
     },
     "output_type": "display_data"
    }
   ],
   "source": [
    "# Determine the number of Principal Components\n",
    "\n",
    "# Drop invalid survey respondents\n",
    "big5_agg_scaled.drop(respondents_to_drop, axis = 0, inplace = True)\n",
    "\n",
    "\n",
    "# INSTANTIATING a PCA object with no limit to principal components\n",
    "pca_big5 = PCA(n_components = None,\n",
    "               random_state = 219)\n",
    "\n",
    "\n",
    "# FITTING and TRANSFORMING the scaled data\n",
    "customer_pca_big5 = pca_big5.fit_transform(big5_agg_scaled)\n",
    "\n",
    "\n",
    "\n",
    "\n",
    "# component number counter\n",
    "component_number = 0\n",
    "\n",
    "# looping over each principal component\n",
    "for variance in pca_big5.explained_variance_ratio_:\n",
    "    component_number += 1\n",
    "    \n",
    "    print(f\"PC {component_number} : {variance.round(3)}\")\n",
    "\n",
    "\n",
    "    \n",
    "    \n",
    "# calling the scree_plot function\n",
    "scree_plot(pca_object = pca_big5)"
   ]
  },
  {
   "cell_type": "code",
   "execution_count": 20,
   "id": "optical-franklin",
   "metadata": {
    "ExecuteTime": {
     "end_time": "2021-02-19T20:05:16.914279Z",
     "start_time": "2021-02-19T20:05:16.911073Z"
    },
    "code_folding": [
     0
    ]
   },
   "outputs": [
    {
     "name": "stdout",
     "output_type": "stream",
     "text": [
      "Variance Ratios = [0.37 0.19 0.18]\n",
      "Sum = 0.74\n"
     ]
    }
   ],
   "source": [
    "# Number of PC's = 3\n",
    "\n",
    "print(\"Variance Ratios =\", pca_big5.explained_variance_ratio_[:3].round(2))\n",
    "print(\"Sum =\", round(pca_big5.explained_variance_ratio_[:3].sum(), 2))"
   ]
  },
  {
   "cell_type": "code",
   "execution_count": 21,
   "id": "lightweight-decision",
   "metadata": {
    "ExecuteTime": {
     "end_time": "2021-02-19T20:05:17.130736Z",
     "start_time": "2021-02-19T20:05:16.915907Z"
    },
    "code_folding": [
     0
    ]
   },
   "outputs": [],
   "source": [
    "# Plot factor loadings\n",
    "\n",
    "# setting plot size\n",
    "fig, ax = plt.subplots(figsize = (12, 12))\n",
    "\n",
    "\n",
    "# developing a PC to feature heatmap\n",
    "sns.heatmap(pca_big5.components_[:3], \n",
    "            cmap = 'coolwarm',\n",
    "            square = True,\n",
    "            annot = True,\n",
    "            linewidths = 0.1,\n",
    "            linecolor = 'black')\n",
    "\n",
    "\n",
    "# setting more plot options\n",
    "plt.yticks([0, 1, 2],\n",
    "           [\"Team Leader\", \"Networker\", \"Unifier\"],\n",
    "           rotation = 0)\n",
    "\n",
    "plt.xticks(range(0, 5),\n",
    "           big5_agg_scaled.columns,\n",
    "           rotation=60,\n",
    "           ha='left')\n",
    "\n",
    "plt.xlabel(xlabel = \"Feature\")\n",
    "plt.ylabel(ylabel = \"Principal Component\")\n",
    "\n",
    "# saving the plot\n",
    "plt.savefig('./_images/analysis/factor_loadings_big5.png')\n",
    "\n",
    "# displaying the plot\n",
    "#plt.show()\n",
    "plt.close()"
   ]
  },
  {
   "cell_type": "code",
   "execution_count": 22,
   "id": "prerequisite-arrest",
   "metadata": {
    "ExecuteTime": {
     "end_time": "2021-02-19T20:05:17.153357Z",
     "start_time": "2021-02-19T20:05:17.131860Z"
    },
    "code_folding": [
     0
    ]
   },
   "outputs": [
    {
     "name": "stdout",
     "output_type": "stream",
     "text": [
      "                               0         1         2\n",
      "Extroversion           -0.419320 -0.371166  0.701560\n",
      "Neuroticism             0.256823  0.821141  0.468188\n",
      "Agreeableness          -0.539856  0.184516  0.073586\n",
      "Conscientiousness      -0.422930  0.270029 -0.531752\n",
      "Openness to Experience -0.536562  0.284607  0.020933\n"
     ]
    }
   ],
   "source": [
    "# Export PC Factor Loadings as Excel\n",
    "\n",
    "# transposing pca components\n",
    "factor_loadings_big5 = pd.DataFrame(np.transpose(pca_big5.components_))\n",
    "\n",
    "\n",
    "# naming rows as original features\n",
    "factor_loadings_big5 = factor_loadings_big5.set_index(big5_agg_scaled.columns)\n",
    "\n",
    "\n",
    "# checking the result\n",
    "print(factor_loadings_big5.iloc[:, :3])\n",
    "\n",
    "\n",
    "# saving to Excel\n",
    "factor_loadings_big5.to_excel('./_data/factor_loadings_big5.xlsx')"
   ]
  },
  {
   "cell_type": "markdown",
   "id": "smaller-economy",
   "metadata": {},
   "source": [
    "<br><br>\n",
    "\n",
    "## Hult DNA Data"
   ]
  },
  {
   "cell_type": "code",
   "execution_count": 23,
   "id": "dedicated-wholesale",
   "metadata": {
    "ExecuteTime": {
     "end_time": "2021-02-19T20:05:17.269734Z",
     "start_time": "2021-02-19T20:05:17.158880Z"
    },
    "code_folding": [
     0
    ]
   },
   "outputs": [
    {
     "name": "stdout",
     "output_type": "stream",
     "text": [
      "PC 1 : 0.654\n",
      "PC 2 : 0.174\n",
      "PC 3 : 0.089\n",
      "PC 4 : 0.083\n"
     ]
    },
    {
     "data": {
      "image/png": "[encoded data removed]",
      "text/plain": [
       "<Figure size 720x576 with 1 Axes>"
      ]
     },
     "metadata": {
      "needs_background": "light"
     },
     "output_type": "display_data"
    }
   ],
   "source": [
    "# Determine the number of Principal Components\n",
    "\n",
    "# Drop invalid survey respondents\n",
    "hult_agg_scaled.drop(respondents_to_drop, axis = 0, inplace = True)\n",
    "\n",
    "\n",
    "# INSTANTIATING a PCA object with no limit to principal components\n",
    "pca_hult = PCA(n_components = None,\n",
    "               random_state = 219)\n",
    "\n",
    "\n",
    "# FITTING and TRANSFORMING the scaled data\n",
    "customer_pca_hult = pca_hult.fit_transform(hult_agg_scaled)\n",
    "\n",
    "\n",
    "\n",
    "\n",
    "# component number counter\n",
    "component_number = 0\n",
    "\n",
    "# looping over each principal component\n",
    "for variance in pca_hult.explained_variance_ratio_:\n",
    "    component_number += 1\n",
    "    \n",
    "    print(f\"PC {component_number} : {variance.round(3)}\")\n",
    "\n",
    "\n",
    "    \n",
    "    \n",
    "# calling the scree_plot function\n",
    "scree_plot(pca_object = pca_hult)"
   ]
  },
  {
   "cell_type": "code",
   "execution_count": 24,
   "id": "future-combine",
   "metadata": {
    "ExecuteTime": {
     "end_time": "2021-02-19T20:05:17.278162Z",
     "start_time": "2021-02-19T20:05:17.274448Z"
    },
    "code_folding": [
     0
    ]
   },
   "outputs": [
    {
     "name": "stdout",
     "output_type": "stream",
     "text": [
      "Variance Ratios = [0.65 0.17]\n",
      "Sum = 0.83\n"
     ]
    }
   ],
   "source": [
    "# Number of PC's = 2\n",
    "\n",
    "print(\"Variance Ratios =\", pca_hult.explained_variance_ratio_[:2].round(2))\n",
    "print(\"Sum =\", round(pca_hult.explained_variance_ratio_[:2].sum(), 2))"
   ]
  },
  {
   "cell_type": "code",
   "execution_count": 25,
   "id": "charged-implement",
   "metadata": {
    "ExecuteTime": {
     "end_time": "2021-02-19T20:05:17.427011Z",
     "start_time": "2021-02-19T20:05:17.279991Z"
    },
    "code_folding": []
   },
   "outputs": [],
   "source": [
    "# Plot factor loadings\n",
    "\n",
    "# setting plot size\n",
    "fig, ax = plt.subplots(figsize = (12, 12))\n",
    "\n",
    "\n",
    "# developing a PC to feature heatmap\n",
    "sns.heatmap(pca_hult.components_[:2], \n",
    "            cmap = 'coolwarm',\n",
    "            square = True,\n",
    "            annot = True,\n",
    "            linewidths = 0.1,\n",
    "            linecolor = 'black')\n",
    "\n",
    "\n",
    "# setting more plot options\n",
    "plt.yticks([0, 1],\n",
    "           [\"Growth Mindset (-ve)\", \"Egotistic\"],\n",
    "           rotation = 0)\n",
    "\n",
    "plt.xticks(range(0, 4),\n",
    "           hult_agg_scaled.columns,\n",
    "           rotation=60,\n",
    "           ha='left')\n",
    "\n",
    "plt.xlabel(xlabel = \"Feature\")\n",
    "plt.ylabel(ylabel = \"Principal Component\")\n",
    "\n",
    "# saving the plot\n",
    "plt.savefig('./_images/analysis/factor_loadings_hult.png')\n",
    "\n",
    "# displaying the plot\n",
    "#plt.show()\n",
    "plt.close()"
   ]
  },
  {
   "cell_type": "code",
   "execution_count": 26,
   "id": "heard-occurrence",
   "metadata": {
    "ExecuteTime": {
     "end_time": "2021-02-19T20:05:17.440122Z",
     "start_time": "2021-02-19T20:05:17.428841Z"
    },
    "code_folding": []
   },
   "outputs": [
    {
     "name": "stdout",
     "output_type": "stream",
     "text": [
      "                      0         1\n",
      "Thinking      -0.534896 -0.238862\n",
      "Communicating -0.400845  0.837392\n",
      "Team Building -0.530797  0.083854\n",
      "Leadership    -0.521023 -0.484446\n"
     ]
    }
   ],
   "source": [
    "# Export PC Factor Loadings as Excel\n",
    "\n",
    "# transposing pca components\n",
    "factor_loadings_hult = pd.DataFrame(np.transpose(pca_hult.components_))\n",
    "\n",
    "\n",
    "# naming rows as original features\n",
    "factor_loadings_hult = factor_loadings_hult.set_index(hult_agg_scaled.columns)\n",
    "\n",
    "\n",
    "# checking the result\n",
    "print(factor_loadings_hult.iloc[:, :2])\n",
    "\n",
    "\n",
    "# saving to Excel\n",
    "factor_loadings_hult.to_excel('./_data/factor_loadings_hult.xlsx')"
   ]
  },
  {
   "cell_type": "markdown",
   "id": "professional-feature",
   "metadata": {},
   "source": [
    "<br><br>\n",
    "\n",
    "## Customer-Level Factor Loading"
   ]
  },
  {
   "cell_type": "code",
   "execution_count": 27,
   "id": "functional-optimization",
   "metadata": {
    "ExecuteTime": {
     "end_time": "2021-02-19T20:05:17.458052Z",
     "start_time": "2021-02-19T20:05:17.441558Z"
    },
    "code_folding": []
   },
   "outputs": [],
   "source": [
    "# Customer-Level Factor Loading (Prepare data)\n",
    "\n",
    "# converting into a DataFrame \n",
    "customer_pca_big5 = pd.DataFrame(customer_pca_big5)\n",
    "customer_pca_hult = pd.DataFrame(customer_pca_hult)\n",
    "\n",
    "\n",
    "# renaming columns\n",
    "customer_pca_big5.columns = factor_loadings_big5.columns\n",
    "customer_pca_hult.columns = factor_loadings_hult.columns\n",
    "\n",
    "# concatenate hult & big5 data\n",
    "customer_pca = pd.concat([customer_pca_big5.iloc[:, :3],\n",
    "                         customer_pca_hult.iloc[:,:2]], \n",
    "                        axis = 1)\n",
    "\n",
    "# naming each principal component\n",
    "customer_pca.columns = ['Team Leader (-ve)',                 \n",
    "                        'Networker',          \n",
    "                        'Unifier (-ve)',\n",
    "                        'Growth Mindset (-ve)',           \n",
    "                        'Egocentric']\n",
    "\n",
    "\n",
    "# check results\n",
    "#customer_pca\n",
    "\n",
    "# export loadings\n",
    "customer_pca.to_excel('./_data/PCA_factor_loadings.xlsx', index = False)"
   ]
  },
  {
   "cell_type": "code",
   "execution_count": 28,
   "id": "interpreted-state",
   "metadata": {
    "ExecuteTime": {
     "end_time": "2021-02-19T20:05:17.466978Z",
     "start_time": "2021-02-19T20:05:17.459306Z"
    },
    "code_folding": []
   },
   "outputs": [
    {
     "name": "stdout",
     "output_type": "stream",
     "text": [
      "\n",
      "\n",
      "               Proportion of Persona\n",
      "               ---------------------\n",
      "Team Leaders   | 23.14%\n",
      "               |\n",
      "Networkers     | 14.88%\n",
      "               |\n",
      "Unifiers       | 16.53%\n",
      "               |\n",
      "Growth Mindset | 31.4%\n",
      "               |\n",
      "Egocenteric    | 11.57%\n",
      "               ---------------------\n",
      "\n",
      "\n"
     ]
    }
   ],
   "source": [
    "# Proportions per Persona (using 1 standard deviation)\n",
    "\n",
    "total          = len(customer_pca)\n",
    "\n",
    "team_lead      = len(customer_pca.loc[ : , 'Team Leader (-ve)']\\\n",
    "                     [customer_pca.loc[ : , 'Team Leader (-ve)'] < -1]) * 100\n",
    "\n",
    "networker      = len(customer_pca.loc[ : , 'Networker']\\\n",
    "                     [customer_pca.loc[ : , 'Networker'] > 1]) * 100\n",
    "\n",
    "unifier        = len(customer_pca.loc[ : , 'Unifier (-ve)']\\\n",
    "                     [customer_pca.loc[ : , 'Unifier (-ve)'] < -1]) * 100\n",
    "\n",
    "growth_mindset = len(customer_pca.loc[ : , 'Growth Mindset (-ve)']\\\n",
    "                     [customer_pca.loc[ : , 'Growth Mindset (-ve)'] < -1]) * 100\n",
    "\n",
    "egocentric     = len(customer_pca.loc[ : , 'Egocentric']\\\n",
    "                     [customer_pca.loc[ : , 'Egocentric'] > 1]) * 100\n",
    "\n",
    "\n",
    "print(f\"\"\"\n",
    "\n",
    "               Proportion of Persona\n",
    "               ---------------------\n",
    "Team Leaders   | {round(team_lead/total, 2)}%\n",
    "               |\n",
    "Networkers     | {round(networker/total, 2)}%\n",
    "               |\n",
    "Unifiers       | {round(unifier/total, 2)}%\n",
    "               |\n",
    "Growth Mindset | {round(growth_mindset/total, 2)}%\n",
    "               |\n",
    "Egocenteric    | {round(egocentric/total, 2)}%\n",
    "               ---------------------\n",
    "\n",
    "\"\"\")"
   ]
  },
  {
   "cell_type": "markdown",
   "id": "natural-beach",
   "metadata": {},
   "source": [
    "<br><br>\n",
    "<hr style=\"height:.9px;border:none;color:#333;background-color:#333;\" />\n",
    "<br>\n",
    "\n",
    "# Cluster Segmentation"
   ]
  },
  {
   "cell_type": "code",
   "execution_count": 29,
   "id": "packed-router",
   "metadata": {
    "ExecuteTime": {
     "end_time": "2021-02-19T20:05:17.473588Z",
     "start_time": "2021-02-19T20:05:17.468367Z"
    },
    "code_folding": []
   },
   "outputs": [],
   "source": [
    "# Rescale data\n",
    "\n",
    "# Check variance among clusters\n",
    "#np.var(customer_pca)\n",
    "\n",
    "# INSTANTIATING a StandardScaler() object\n",
    "scaler = StandardScaler()\n",
    "\n",
    "\n",
    "# FITTING the scaler with the data\n",
    "scaler.fit(customer_pca)\n",
    "\n",
    "\n",
    "# TRANSFORMING our data after fit\n",
    "X_scaled_pca = scaler.transform(customer_pca)\n",
    "\n",
    "\n",
    "# converting scaled data into a DataFrame\n",
    "pca_scaled = pd.DataFrame(X_scaled_pca)\n",
    "\n",
    "\n",
    "# reattaching column names\n",
    "pca_scaled.columns = ['Team Leader (-ve)',         \n",
    "                      'Networker',          \n",
    "                      'Unifier (-ve)', \n",
    "                      'Growth Mindset (-ve)',           \n",
    "                      'Egocentric']\n",
    "\n",
    "\n",
    "# checking pre- and post-scaling variance\n",
    "#print(np.var(customer_pca), '\\n\\n')\n",
    "#print(np.var(pca_scaled))"
   ]
  },
  {
   "cell_type": "code",
   "execution_count": 30,
   "id": "patent-judges",
   "metadata": {
    "ExecuteTime": {
     "end_time": "2021-02-19T20:05:21.698614Z",
     "start_time": "2021-02-19T20:05:17.476214Z"
    },
    "code_folding": []
   },
   "outputs": [
    {
     "data": {
      "image/png": "[encoded data removed]",
      "text/plain": [
       "<Figure size 864x864 with 1 Axes>"
      ]
     },
     "metadata": {
      "needs_background": "light"
     },
     "output_type": "display_data"
    }
   ],
   "source": [
    "# Dendogram Plot\n",
    "\n",
    "# grouping data based on Ward distance\n",
    "standard_mergings_ward = linkage(y = pca_scaled,\n",
    "                                 method = 'ward',\n",
    "                                 optimal_ordering = True)\n",
    "\n",
    "\n",
    "# setting plot size\n",
    "fig, ax = plt.subplots(figsize=(12, 12))\n",
    "\n",
    "# developing a dendrogram\n",
    "dendrogram(Z = standard_mergings_ward,\n",
    "           leaf_rotation = 90,\n",
    "           leaf_font_size = 6)\n",
    "\n",
    "\n",
    "# saving and displaying the plot\n",
    "plt.savefig('./_images/analysis/standard_hierarchical_clust_ward.png')\n",
    "plt.show()"
   ]
  },
  {
   "cell_type": "code",
   "execution_count": 31,
   "id": "caroline-flour",
   "metadata": {
    "ExecuteTime": {
     "end_time": "2021-02-19T20:05:25.073170Z",
     "start_time": "2021-02-19T20:05:21.699895Z"
    },
    "code_folding": []
   },
   "outputs": [
    {
     "data": {
      "image/png": "[encoded data removed]",
      "text/plain": [
       "<Figure size 864x576 with 1 Axes>"
      ]
     },
     "metadata": {
      "needs_background": "light"
     },
     "output_type": "display_data"
    }
   ],
   "source": [
    "# Inertia Plot\n",
    "\n",
    "# calling the inertia_plot() function\n",
    "interia_plot(data = pca_scaled)"
   ]
  },
  {
   "cell_type": "code",
   "execution_count": 32,
   "id": "generous-throat",
   "metadata": {
    "ExecuteTime": {
     "end_time": "2021-02-19T20:05:25.098494Z",
     "start_time": "2021-02-19T20:05:25.074557Z"
    },
    "code_folding": []
   },
   "outputs": [
    {
     "name": "stdout",
     "output_type": "stream",
     "text": [
      "0    59\n",
      "2    35\n",
      "1    27\n",
      "Name: Cluster, dtype: int64\n"
     ]
    }
   ],
   "source": [
    "# Develop k-Means model (3 clusters)\n",
    "\n",
    "# INSTANTIATING a k-Means object with clusters\n",
    "customers_k_pca = KMeans(n_clusters   = 3,\n",
    "                         random_state = 219)\n",
    "\n",
    "\n",
    "# fitting the object to the data\n",
    "customers_k_pca.fit(pca_scaled)\n",
    "\n",
    "\n",
    "# converting the clusters to a DataFrame\n",
    "customers_kmeans_pca = pd.DataFrame({'Cluster': customers_k_pca.labels_})\n",
    "\n",
    "\n",
    "# checking the results\n",
    "print(customers_kmeans_pca.iloc[: , 0].value_counts())"
   ]
  },
  {
   "cell_type": "markdown",
   "id": "ideal-childhood",
   "metadata": {},
   "source": [
    "<br>\n",
    "\n",
    "## Centroids per Cluster"
   ]
  },
  {
   "cell_type": "code",
   "execution_count": 33,
   "id": "ahead-karen",
   "metadata": {
    "ExecuteTime": {
     "end_time": "2021-02-19T20:05:25.107485Z",
     "start_time": "2021-02-19T20:05:25.099855Z"
    },
    "code_folding": []
   },
   "outputs": [
    {
     "data": {
      "text/html": [
       "<div>\n",
       "<style scoped>\n",
       "    .dataframe tbody tr th:only-of-type {\n",
       "        vertical-align: middle;\n",
       "    }\n",
       "\n",
       "    .dataframe tbody tr th {\n",
       "        vertical-align: top;\n",
       "    }\n",
       "\n",
       "    .dataframe thead th {\n",
       "        text-align: right;\n",
       "    }\n",
       "</style>\n",
       "<table border=\"1\" class=\"dataframe\">\n",
       "  <thead>\n",
       "    <tr style=\"text-align: right;\">\n",
       "      <th></th>\n",
       "      <th>Team Leader (-ve)</th>\n",
       "      <th>Networker</th>\n",
       "      <th>Unifier (-ve)</th>\n",
       "      <th>Growth Mindset (-ve)</th>\n",
       "      <th>Egocentric</th>\n",
       "    </tr>\n",
       "  </thead>\n",
       "  <tbody>\n",
       "    <tr>\n",
       "      <th>0</th>\n",
       "      <td>0.72</td>\n",
       "      <td>-0.11</td>\n",
       "      <td>0.01</td>\n",
       "      <td>0.78</td>\n",
       "      <td>0.15</td>\n",
       "    </tr>\n",
       "    <tr>\n",
       "      <th>1</th>\n",
       "      <td>-0.55</td>\n",
       "      <td>0.10</td>\n",
       "      <td>-1.03</td>\n",
       "      <td>-0.91</td>\n",
       "      <td>0.49</td>\n",
       "    </tr>\n",
       "    <tr>\n",
       "      <th>2</th>\n",
       "      <td>-0.79</td>\n",
       "      <td>0.11</td>\n",
       "      <td>0.78</td>\n",
       "      <td>-0.61</td>\n",
       "      <td>-0.63</td>\n",
       "    </tr>\n",
       "  </tbody>\n",
       "</table>\n",
       "</div>"
      ],
      "text/plain": [
       "   Team Leader (-ve)  Networker  Unifier (-ve)  Growth Mindset (-ve)  Egocentric\n",
       "0               0.72      -0.11           0.01                  0.78        0.15\n",
       "1              -0.55       0.10          -1.03                 -0.91        0.49\n",
       "2              -0.79       0.11           0.78                 -0.61       -0.63"
      ]
     },
     "execution_count": 33,
     "metadata": {},
     "output_type": "execute_result"
    }
   ],
   "source": [
    "# Centroids for each cluster\n",
    "\n",
    "# storing cluster centers\n",
    "centroids_pca = customers_k_pca.cluster_centers_\n",
    "\n",
    "\n",
    "# converting cluster centers into a DataFrame\n",
    "centroids_pca_df = pd.DataFrame(centroids_pca)\n",
    "\n",
    "\n",
    "# renaming principal components\n",
    "centroids_pca_df.columns = ['Team Leader (-ve)',         \n",
    "                            'Networker',          \n",
    "                            'Unifier (-ve)', \n",
    "                            'Growth Mindset (-ve)',           \n",
    "                            'Egocentric']\n",
    "\n",
    "\n",
    "# checking results (clusters = rows, pc = columns)\n",
    "centroids_pca_df.round(2)"
   ]
  },
  {
   "cell_type": "code",
   "execution_count": 34,
   "id": "healthy-hughes",
   "metadata": {
    "ExecuteTime": {
     "end_time": "2021-02-19T20:05:25.110694Z",
     "start_time": "2021-02-19T20:05:25.108697Z"
    },
    "code_folding": []
   },
   "outputs": [],
   "source": [
    "# Merge clusters to DF\n",
    "\n",
    "# concatenating cluster memberships with principal components\n",
    "clst_pca_df = pd.concat([customers_kmeans_pca,\n",
    "                         customer_pca],\n",
    "                         axis = 1)\n",
    "\n",
    "\n",
    "# checking results\n",
    "#clst_pca_df"
   ]
  },
  {
   "cell_type": "markdown",
   "id": "designing-shock",
   "metadata": {},
   "source": [
    "<br><br>\n",
    "<hr style=\"height:.9px;border:none;color:#333;background-color:#333;\" />\n",
    "<br>\n",
    "\n",
    "# Demographic Analysis\n",
    "\n",
    "## Data Prep"
   ]
  },
  {
   "cell_type": "code",
   "execution_count": 41,
   "id": "human-poverty",
   "metadata": {
    "ExecuteTime": {
     "end_time": "2021-02-19T20:05:25.115874Z",
     "start_time": "2021-02-19T20:05:25.112154Z"
    },
    "code_folding": []
   },
   "outputs": [],
   "source": [
    "# Prepare data for demographic analysis\n",
    "\n",
    "# Drop invalid respondents\n",
    "#demographics_df.drop(respondents_to_drop, axis = 0, inplace = True)\n",
    "\n",
    "\n",
    "# concatenating demographic information with pca-clusters\n",
    "final_pca_clust_df = pd.concat([demographics_df.loc[ : , ['Current Laptop',\n",
    "                                                          'Future Laptop',\n",
    "                                                          'Program',\n",
    "                                                          'Age Range',\n",
    "                                                          'Gender',\n",
    "                                                          'Ethnicity',\n",
    "                                                          'Region']],\n",
    "                                clst_pca_df],\n",
    "                                axis = 1)\n",
    "\n",
    "\n",
    "# renaming columns\n",
    "final_pca_clust_df.columns = ['Current Laptop',\n",
    "                              'Future Laptop',\n",
    "                              'Program',\n",
    "                              'Age Range',\n",
    "                              'Gender',\n",
    "                              'Ethnicity',\n",
    "                              'Region',\n",
    "                              'Cluster',\n",
    "                              'Team Leader (-ve)',         \n",
    "                              'Networker',          \n",
    "                              'Unifier (-ve)', \n",
    "                              'Growth Mindset (-ve)',           \n",
    "                              'Egocentric']\n",
    "\n",
    "\n",
    "# checking the results\n",
    "#final_pca_clust_df"
   ]
  },
  {
   "cell_type": "markdown",
   "id": "european-softball",
   "metadata": {},
   "source": [
    "<br>\n",
    "\n",
    "## Current Laptop"
   ]
  },
  {
   "cell_type": "code",
   "execution_count": 36,
   "id": "dutch-tanzania",
   "metadata": {
    "ExecuteTime": {
     "end_time": "2021-02-19T20:05:25.312465Z",
     "start_time": "2021-02-19T20:05:25.117203Z"
    }
   },
   "outputs": [
    {
     "data": {
      "image/png": "[encoded data removed]",
      "text/plain": [
       "<Figure size 864x576 with 1 Axes>"
      ]
     },
     "metadata": {
      "needs_background": "light"
     },
     "output_type": "display_data"
    }
   ],
   "source": [
    "########################\n",
    "# Current Laptop\n",
    "########################\n",
    "\n",
    "# Carnivores\n",
    "fig, ax = plt.subplots(figsize = (12, 8))\n",
    "sns.boxplot(x = 'Current Laptop',\n",
    "            y = 'Growth Mindset (-ve)',\n",
    "            hue = 'Cluster',\n",
    "            data = final_pca_clust_df)\n",
    "\n",
    "\n",
    "\n",
    "\n",
    "# formatting and displaying the plot\n",
    "plt.tight_layout()\n",
    "\n",
    "# saving the plot\n",
    "#plt.savefig('./_images/analysis/demo_current_laptop_growth_mindset.png')\n",
    "\n",
    "\n",
    "plt.show()\n",
    "\n"
   ]
  },
  {
   "cell_type": "markdown",
   "id": "therapeutic-plaintiff",
   "metadata": {},
   "source": [
    "<br>\n",
    "\n",
    "## Future Laptop"
   ]
  },
  {
   "cell_type": "code",
   "execution_count": 39,
   "id": "athletic-rocket",
   "metadata": {
    "ExecuteTime": {
     "end_time": "2021-02-19T20:05:25.541108Z",
     "start_time": "2021-02-19T20:05:25.313884Z"
    }
   },
   "outputs": [
    {
     "data": {
      "image/png": "[encoded data removed]",
      "text/plain": [
       "<Figure size 864x576 with 1 Axes>"
      ]
     },
     "metadata": {
      "needs_background": "light"
     },
     "output_type": "display_data"
    }
   ],
   "source": [
    "########################\n",
    "# Future Laptop\n",
    "########################\n",
    "\n",
    "# PC NAME\n",
    "fig, ax = plt.subplots(figsize = (12, 8))\n",
    "sns.boxplot(x = 'Future Laptop',\n",
    "            y = 'Team Leader (-ve)',  # change this one to look at different personas\n",
    "            hue = 'Cluster',\n",
    "            data = final_pca_clust_df)\n",
    "\n",
    "\n",
    "# formatting and displaying the plot\n",
    "plt.tight_layout()\n",
    "plt.show()"
   ]
  },
  {
   "cell_type": "markdown",
   "id": "sophisticated-elimination",
   "metadata": {},
   "source": [
    "<br>\n",
    "\n",
    "## Program"
   ]
  },
  {
   "cell_type": "code",
   "execution_count": 44,
   "id": "proper-messenger",
   "metadata": {
    "ExecuteTime": {
     "end_time": "2021-02-19T20:05:25.554807Z",
     "start_time": "2021-02-19T20:05:14.033Z"
    }
   },
   "outputs": [
    {
     "data": {
      "image/png": "[encoded data removed]",
      "text/plain": [
       "<Figure size 864x576 with 1 Axes>"
      ]
     },
     "metadata": {
      "needs_background": "light"
     },
     "output_type": "display_data"
    }
   ],
   "source": [
    "########################\n",
    "# Program\n",
    "########################\n",
    "\n",
    "# PC NAME\n",
    "fig, ax = plt.subplots(figsize = (12, 8))\n",
    "sns.boxplot(x = 'Program',\n",
    "            y = 'Team Leader (-ve)',  # change this one to look at different personas\n",
    "            hue = 'Cluster',\n",
    "            data = final_pca_clust_df)\n",
    "\n",
    "\n",
    "# formatting and displaying the plot\n",
    "plt.tight_layout()\n",
    "plt.show()"
   ]
  },
  {
   "cell_type": "markdown",
   "id": "diverse-clearing",
   "metadata": {},
   "source": [
    "<br>\n",
    "\n",
    "## Age Range"
   ]
  },
  {
   "cell_type": "code",
   "execution_count": 45,
   "id": "exposed-subdivision",
   "metadata": {
    "ExecuteTime": {
     "end_time": "2021-02-19T20:05:25.555579Z",
     "start_time": "2021-02-19T20:05:14.035Z"
    }
   },
   "outputs": [
    {
     "data": {
      "image/png": "[encoded data removed]",
      "text/plain": [
       "<Figure size 864x576 with 1 Axes>"
      ]
     },
     "metadata": {
      "needs_background": "light"
     },
     "output_type": "display_data"
    }
   ],
   "source": [
    "########################\n",
    "# Age Range\n",
    "########################\n",
    "\n",
    "# PC NAME\n",
    "fig, ax = plt.subplots(figsize = (12, 8))\n",
    "sns.boxplot(x = 'Age Range',\n",
    "            y = 'Team Leader (-ve)',  # change this one to look at different personas\n",
    "            hue = 'Cluster',\n",
    "            data = final_pca_clust_df)\n",
    "\n",
    "\n",
    "# formatting and displaying the plot\n",
    "plt.tight_layout()\n",
    "plt.show()"
   ]
  },
  {
   "cell_type": "markdown",
   "id": "patent-screw",
   "metadata": {},
   "source": [
    "<br>\n",
    "\n",
    "## Gender"
   ]
  },
  {
   "cell_type": "code",
   "execution_count": 46,
   "id": "accurate-compact",
   "metadata": {
    "ExecuteTime": {
     "end_time": "2021-02-19T20:05:25.556490Z",
     "start_time": "2021-02-19T20:05:14.036Z"
    }
   },
   "outputs": [
    {
     "data": {
      "image/png": "[encoded data removed]",
      "text/plain": [
       "<Figure size 864x576 with 1 Axes>"
      ]
     },
     "metadata": {
      "needs_background": "light"
     },
     "output_type": "display_data"
    }
   ],
   "source": [
    "########################\n",
    "# Gender\n",
    "########################\n",
    "\n",
    "# PC NAME\n",
    "fig, ax = plt.subplots(figsize = (12, 8))\n",
    "sns.boxplot(x = 'Gender',\n",
    "            y = 'Team Leader (-ve)',  # change this one to look at different personas\n",
    "            hue = 'Cluster',\n",
    "            data = final_pca_clust_df)\n",
    "\n",
    "\n",
    "# formatting and displaying the plot\n",
    "plt.tight_layout()\n",
    "plt.show()"
   ]
  },
  {
   "cell_type": "markdown",
   "id": "arctic-thing",
   "metadata": {},
   "source": [
    "<br>\n",
    "\n",
    "## Region"
   ]
  },
  {
   "cell_type": "code",
   "execution_count": 42,
   "id": "appointed-spouse",
   "metadata": {
    "ExecuteTime": {
     "end_time": "2021-02-19T20:05:25.557200Z",
     "start_time": "2021-02-19T20:05:14.038Z"
    }
   },
   "outputs": [
    {
     "data": {
      "image/png": "[encoded data removed]",
      "text/plain": [
       "<Figure size 864x576 with 1 Axes>"
      ]
     },
     "metadata": {
      "needs_background": "light"
     },
     "output_type": "display_data"
    }
   ],
   "source": [
    "########################\n",
    "# Region\n",
    "########################\n",
    "\n",
    "# PC NAME\n",
    "fig, ax = plt.subplots(figsize = (12, 8))\n",
    "sns.boxplot(x = 'Region',\n",
    "            y = 'Team Leader (-ve)',  # change this one to look at different personas\n",
    "            hue = 'Cluster',\n",
    "            data = final_pca_clust_df)\n",
    "\n",
    "\n",
    "# formatting and displaying the plot\n",
    "plt.tight_layout()\n",
    "plt.show()"
   ]
  },
  {
   "cell_type": "markdown",
   "id": "casual-semiconductor",
   "metadata": {},
   "source": [
    "<br>\n",
    "\n",
    "## Ethnicity"
   ]
  },
  {
   "cell_type": "code",
   "execution_count": 47,
   "id": "determined-wyoming",
   "metadata": {
    "ExecuteTime": {
     "end_time": "2021-02-19T20:05:25.558012Z",
     "start_time": "2021-02-19T20:05:14.039Z"
    }
   },
   "outputs": [
    {
     "data": {
      "image/png": "[encoded data removed]",
      "text/plain": [
       "<Figure size 864x576 with 1 Axes>"
      ]
     },
     "metadata": {
      "needs_background": "light"
     },
     "output_type": "display_data"
    }
   ],
   "source": [
    "########################\n",
    "# Ethnicity\n",
    "########################\n",
    "\n",
    "# PC NAME\n",
    "fig, ax = plt.subplots(figsize = (12, 8))\n",
    "sns.boxplot(x = 'Gender',\n",
    "            y = 'Team Leader (-ve)',  # change this one to look at different personas\n",
    "            hue = 'Cluster',\n",
    "            data = final_pca_clust_df)\n",
    "\n",
    "\n",
    "# formatting and displaying the plot\n",
    "plt.tight_layout()\n",
    "plt.show()"
   ]
  },
  {
   "cell_type": "markdown",
   "id": "recovered-brown",
   "metadata": {},
   "source": [
    "<br><br>\n",
    "<hr style=\"height:.9px;border:none;color:#333;background-color:#333;\" />\n",
    "<br>\n",
    "\n",
    "# References\n",
    "\n",
    "> Rothmann, S., & Coetzer, E. P. (2003). The big five personality dimensions and job performance. Sa Journal of Industrial Psychology, 29(1), 68–74.\n",
    "\n",
    "> Hult (2018-19). Hult DNA Development Guide. Hult International. Business School."
   ]
  }
 ],
 "metadata": {
  "kernelspec": {
   "display_name": "Python 3",
   "language": "python",
   "name": "python3"
  },
  "language_info": {
   "codemirror_mode": {
    "name": "ipython",
    "version": 3
   },
   "file_extension": ".py",
   "mimetype": "text/x-python",
   "name": "python",
   "nbconvert_exporter": "python",
   "pygments_lexer": "ipython3",
   "version": "3.8.5"
  },
  "toc": {
   "base_numbering": 1,
   "nav_menu": {},
   "number_sections": false,
   "sideBar": true,
   "skip_h1_title": false,
   "title_cell": "Table of Contents",
   "title_sidebar": "Contents",
   "toc_cell": false,
   "toc_position": {
    "height": "calc(100% - 180px)",
    "left": "10px",
    "top": "150px",
    "width": "175px"
   },
   "toc_section_display": true,
   "toc_window_display": true
  },
  "varInspector": {
   "cols": {
    "lenName": 16,
    "lenType": 16,
    "lenVar": 40
   },
   "kernels_config": {
    "python": {
     "delete_cmd_postfix": "",
     "delete_cmd_prefix": "del ",
     "library": "var_list.py",
     "varRefreshCmd": "print(var_dic_list())"
    },
    "r": {
     "delete_cmd_postfix": ") ",
     "delete_cmd_prefix": "rm(",
     "library": "var_list.r",
     "varRefreshCmd": "cat(var_dic_list()) "
    }
   },
   "types_to_exclude": [
    "module",
    "function",
    "builtin_function_or_method",
    "instance",
    "_Feature"
   ],
   "window_display": false
  }
 },
 "nbformat": 4,
 "nbformat_minor": 5
}
