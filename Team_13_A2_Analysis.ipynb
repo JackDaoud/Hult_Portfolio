{
 "cells": [
  {
   "cell_type": "markdown",
   "metadata": {},
   "source": [
    "# Unsupervised Analysis Project\n",
    "> *By Team 13: Jack Daoud, Natalia Gomez Aycardi, Selin Immel*\n",
    ">\n",
    "> *February 22nd, 2021*\n",
    "\n",
    "\n",
    "<b><font size=\"+1\"><center>Windows or Mac?</center></font></b>\n",
    "\n",
    "<img src = './_images/design/windows-mac-logo.png' width = 350>\n",
    "\n",
    "Countless consumers have pondered this question when preparing to buy a new computer. As a result, Apple (AAPL) and Microsoft (MSFT) have been rigorously researching several aspects of consumer buying behavior in regards to the decision making behind this question. Both firms have commissioned research and analysis teams to study aspects such as system architecture, security, and overall performance.\n",
    "\n",
    "Recently, Apple has decided to approach this question from the perspective of the Big Five personality traits as well as the Hult DNA. As such, your team has been commissioned to run an analysis on these factors.\n",
    "\n",
    "<br>\n",
    "\n",
    "<hr style=\"height:.9px;border:none;color:#333;background-color:#333;\" />\n",
    "\n",
    "<br>\n",
    "\n",
    "<b><font size=\"+1\"><center>Big Five</center></font></b>\n",
    "\n",
    "According to Rothmann & Coetzer, \"researchers agree that almost all personality measures could be categorized according to the five-factor model of personality\", which is also referred to as the big five personality dimensions (2003). \n",
    "\n",
    "This theory uses semantic associations in order to describe aspects of a humans personality. For example, someone who is described as \"the life of a party\" can be categorized as *extroverted*. This is one of the the big five dimensions, which are also known as the OCEAN model:\n",
    "\n",
    "1. **O**penness to experience (inventive/curious vs. consistent/cautious)\n",
    "2. **C**onscientiousness (efficient/organized vs. easy-going/careless)\n",
    "3. **E**xtroversion (outgoing/energetic vs. solitary/reserved)\n",
    "4. **A**greeableness (friendly/compassionate vs. challenging/detached)\n",
    "5. **N**euroticism (sensitive/nervous vs. secure/confident)\n",
    "\n",
    "<img src = \"./_images/design/big_five.png\" width = 350>\n",
    "\n",
    "<br>\n",
    "\n",
    "<hr style=\"height:.9px;border:none;color:#333;background-color:#333;\" />\n",
    "\n",
    "<br>\n",
    "\n",
    "<b><font size=\"+1\"><center>Hult DNA</center></font></b>\n",
    "\n",
    "The Hult DNA is a set of aspirations for the professional development of global minded business students as well as a tool to assist the alignment of their skills with future employers needs. \"The foundation of the model is an extensive study by Hult Labs of over 100 of the world’s leading employers, supplemented by research from Hult and Ashridge researchers and data from Burning Glass Technologies that identify the skill gaps that keep job seekers and employers apart\" (Hult, 2018).\n",
    "\n",
    "The Hult DNA encompasses three critical competencies:\n",
    "\n",
    "<img src = \"./_images/design/hult_dna.png\" width = 550>\n",
    "\n",
    "Each competency is described by employers in terms of 9 specific behavioral skills that can be measured and developed:\n",
    "\n",
    "<img src = \"./_images/design/hult_dna_components.png\" width = 550>\n",
    "\n",
    "<br>\n",
    "\n",
    "<br>\n",
    "\n",
    "<hr style=\"height:.9px;border:none;color:#333;background-color:#333;\" />\n",
    "\n",
    "<br>\n",
    "\n",
    "<br>\n",
    "\n",
    "# Setup\n",
    "\n",
    "<b><font size=\"+1\">Packages, Data, & User-defined Functions</font></b>"
   ]
  },
  {
   "cell_type": "code",
   "execution_count": 1,
   "metadata": {
    "ExecuteTime": {
     "end_time": "2021-02-18T17:11:54.269910Z",
     "start_time": "2021-02-18T17:11:53.353234Z"
    },
    "code_folding": [
     0
    ]
   },
   "outputs": [],
   "source": [
    "# Packages, data, & user-defined functions\n",
    "\n",
    "########################################\n",
    "# importing packages\n",
    "########################################\n",
    "import numpy             as np                   # mathematical essentials\n",
    "import pandas            as pd                   # data science essentials\n",
    "import matplotlib.pyplot as plt                  # fundamental data visualization\n",
    "import seaborn           as sns                  # enhanced visualization\n",
    "import re\n",
    "\n",
    "\n",
    "from sklearn.preprocessing import StandardScaler # standard scaler\n",
    "from sklearn.decomposition import PCA            # pca\n",
    "from sklearn.manifold      import TSNE           # t-SNE\n",
    "from sklearn.datasets      import load_digits    # digits dataset\n",
    "\n",
    "\n",
    "\n",
    "########################################\n",
    "# loading data and setting display options\n",
    "########################################\n",
    "# loading data\n",
    "df         = pd.read_excel('./_data/survey_data.xlsx')\n",
    "country_df = pd.read_csv('./_data/country-and-continent-codes-list.csv')\n",
    "\n",
    "# separate survey data into 3 sets\n",
    "big5_df         = df.iloc[:, 1:51]            # big five survey questions\n",
    "hult_df         = df.iloc[:, 51:72]           # hult dna survey questions\n",
    "demographics_df = df.iloc[:, 72:79]           # respondents demographic data\n",
    "country_df      = country_df.iloc[:, [0,2]]   # contients & country data\n",
    "\n",
    "\n",
    "# setting print options\n",
    "pd.set_option('display.max_rows', 500)\n",
    "pd.set_option('display.max_columns', 500)\n",
    "pd.set_option('display.width', 1000)\n",
    "pd.set_option('display.max_colwidth', 100)"
   ]
  },
  {
   "cell_type": "code",
   "execution_count": 2,
   "metadata": {
    "ExecuteTime": {
     "end_time": "2021-02-18T17:11:54.280292Z",
     "start_time": "2021-02-18T17:11:54.271525Z"
    },
    "code_folding": [
     0
    ]
   },
   "outputs": [],
   "source": [
    "# User-defined functions\n",
    "\n",
    "\n",
    "########################################\n",
    "# pca_plotter\n",
    "########################################\n",
    "# optional color scheme\n",
    "colors_lst = [\"#476A2A\", \"#7851B8\", \"#BD3430\", \"#4A2D4E\", \"#875525\",\n",
    "              \"#A83683\", \"#4E655E\", \"#853541\", \"#3A3120\", \"#535D8E\"]\n",
    "\n",
    "\n",
    "# pca_plotter\n",
    "def pca_plotter(bunch,\n",
    "                colors  = None,\n",
    "                x_label = \"First principal component\",\n",
    "                y_label = \"Second principal component\"):\n",
    "    \"\"\"\n",
    "PARAMETERS\n",
    "----------\n",
    "bunch        : Bunch object to be used in PCA\n",
    "colors       : color coding for target labels, default None\n",
    "x_label      : x-label for PC 0, default \"First principal component\"\n",
    "y_label      : y-label for PC 1, default \"Second principal component\"\n",
    "\"\"\"\n",
    "\n",
    "    # INSTANTIATING a PCA object\n",
    "    pca = PCA(n_components = 2,\n",
    "              random_state = 219)\n",
    "\n",
    "\n",
    "    # FITTING and TRANSFORMING the data\n",
    "    dataset_pca = pca.fit_transform(bunch.data)\n",
    "\n",
    "    \n",
    "    # setting figure options\n",
    "    plt.figure(figsize=(10, 10))\n",
    "    plt.xlim(dataset_pca[:, 0].min(), dataset_pca[:, 0].max())\n",
    "    plt.ylim(dataset_pca[:, 1].min(), dataset_pca[:, 1].max())\n",
    "\n",
    "\n",
    "    # data vizualization\n",
    "    for i in range(len(bunch.data)):\n",
    "\n",
    "        plt.text(dataset_pca[i, 0],\n",
    "                 dataset_pca[i, 1],\n",
    "                 str(bunch.target[i]),\n",
    "                 color = colors[bunch.target[i]],\n",
    "                 fontdict={'weight': 'bold', 'size': 9})\n",
    "\n",
    "    plt.xlabel(xlabel = x_label)\n",
    "    plt.ylabel(ylabel = y_label)\n",
    "    plt.show()\n",
    "\n",
    "    \n",
    "    \n",
    "    \n",
    "    \n",
    "########################################\n",
    "# tsne_plotter\n",
    "########################################\n",
    "# optional color scheme\n",
    "colors_lst = [\"#476A2A\", \"#7851B8\", \"#BD3430\", \"#4A2D4E\", \"#875525\",\n",
    "              \"#A83683\", \"#4E655E\", \"#853541\", \"#3A3120\", \"#535D8E\"]\n",
    "\n",
    "\n",
    "# tsne_plotter\n",
    "def tsne_plotter(bunch,\n",
    "                 colors  = None,\n",
    "                 x_label = \"t-SNE feature 0\",\n",
    "                 y_label = \"t-SNE feature 1\"):\n",
    "    \"\"\"\n",
    "PARAMETERS\n",
    "----------\n",
    "bunch        : Bunch object to be used in TSNE\n",
    "colors       : color coding for target labels, default None\n",
    "x_label      : x-label for t-SNE feature 0, default \"t-SNE feature 0\"\n",
    "y_label      : y-label for t-SNE feature 1, default \"t-SNE feature 1\"\n",
    "\"\"\"\n",
    "    \n",
    "    # INSTANTIATING a PCA object\n",
    "    tsne = TSNE(random_state = 219)\n",
    "\n",
    "    \n",
    "    # FITTING and TRANSFORMING the data\n",
    "    dataset_tsne = tsne.fit_transform(bunch.data)\n",
    "\n",
    "    \n",
    "    # setting figure options\n",
    "    plt.figure(figsize=(10, 10))\n",
    "    plt.xlim(dataset_tsne[:, 0].min(), dataset_tsne[:, 0].max() + 1)\n",
    "    plt.ylim(dataset_tsne[:, 1].min(), dataset_tsne[:, 1].max() + 1)\n",
    "\n",
    "    \n",
    "    # data vizualization\n",
    "    for i in range(len(bunch.data)):\n",
    "\n",
    "        plt.text(dataset_tsne[i, 0],\n",
    "                 dataset_tsne[i, 1],\n",
    "                 str(bunch.target[i]),\n",
    "                 color    = colors[bunch.target[i]],\n",
    "                 fontdict = {'weight': 'bold', 'size': 9})\n",
    "\n",
    "    plt.xlabel(xlabel = x_label)\n",
    "    plt.ylabel(ylabel = y_label)\n",
    "    plt.show()\n",
    "    \n",
    "    \n",
    "    \n",
    "    \n",
    "    \n",
    "########################################\n",
    "# scree_plot\n",
    "########################################\n",
    "def scree_plot(pca_object, export = False):\n",
    "    # building a scree plot\n",
    "\n",
    "    # setting plot size\n",
    "    fig, ax = plt.subplots(figsize=(10, 8))\n",
    "    features = range(pca_object.n_components_)\n",
    "\n",
    "\n",
    "    # developing a scree plot\n",
    "    plt.plot(features,\n",
    "             pca_object.explained_variance_ratio_,\n",
    "             linewidth = 2,\n",
    "             marker = 'o',\n",
    "             markersize = 10,\n",
    "             markeredgecolor = 'black',\n",
    "             markerfacecolor = 'grey')\n",
    "\n",
    "\n",
    "    # setting more plot options\n",
    "    plt.title('Scree Plot')\n",
    "    plt.xlabel('PCA feature')\n",
    "    plt.ylabel('Explained Variance')\n",
    "    plt.xticks(features)\n",
    "\n",
    "    if export == True:\n",
    "    \n",
    "        # exporting the plot\n",
    "        plt.savefig('./analysis_images/top_customers_correlation_scree_plot.png')\n",
    "        \n",
    "    # displaying the plot\n",
    "    plt.show()"
   ]
  },
  {
   "cell_type": "markdown",
   "metadata": {},
   "source": [
    "<br>\n",
    "<hr style=\"height:.9px;border:none;color:#333;background-color:#333;\" />\n",
    "<br>\n",
    "\n",
    "# Wrangling & Cleaning\n",
    "\n",
    "## Demographic Data"
   ]
  },
  {
   "cell_type": "code",
   "execution_count": 3,
   "metadata": {
    "ExecuteTime": {
     "end_time": "2021-02-18T17:11:54.404814Z",
     "start_time": "2021-02-18T17:11:54.282462Z"
    },
    "code_folding": [
     0
    ]
   },
   "outputs": [],
   "source": [
    "# Demographic data\n",
    "\n",
    "# Rename columns for ease of reference\n",
    "demographics_df.columns = ['Current Laptop', \n",
    "                           'Future Laptop', \n",
    "                           'Program',\n",
    "                           'Age',\n",
    "                           'Gender',\n",
    "                           'Nationality',\n",
    "                           'Ethnicity']\n",
    "\n",
    "# Clean nationality column\n",
    "\n",
    "# Capitalize all strings\n",
    "demographics_df['Nationality'] = \\\n",
    "    demographics_df['Nationality'].str.capitalize()\n",
    "\n",
    "# Loop over each row in the demographics dataframe\n",
    "for index, column in demographics_df.iterrows():\n",
    "\n",
    "    if 'and' in demographics_df.loc[index, 'Nationality'].lower() \\\n",
    "    or '/'   in demographics_df.loc[index, 'Nationality'].lower():\n",
    "        demographics_df.loc[index, 'Nationality'] = 'Mixed'    \n",
    "    \n",
    "    \n",
    "    elif 'korea' in demographics_df.loc[index, 'Nationality'].lower():\n",
    "        demographics_df.loc[index, 'Nationality'] = 'Korean'\n",
    "   \n",
    "\n",
    "    elif 'china' in demographics_df.loc[index, 'Nationality'].lower():\n",
    "        demographics_df.loc[index, 'Nationality'] = 'Chinese'\n",
    "      \n",
    "    \n",
    "    elif 'usa' in demographics_df.loc[index, 'Nationality'].lower(): \n",
    "        demographics_df.loc[index, 'Nationality'] = 'American'\n",
    "    \n",
    "    \n",
    "    elif 'ecuador' in demographics_df.loc[index, 'Nationality'].lower():\n",
    "        demographics_df.loc[index, 'Nationality'] = 'Ecuadorian'\n",
    "    \n",
    "    \n",
    "    elif 'brazil' in demographics_df.loc[index, 'Nationality'].lower():\n",
    "        demographics_df.loc[index, 'Nationality'] = 'Brazilian'\n",
    "     \n",
    "    \n",
    "    elif 'india' in demographics_df.loc[index, 'Nationality'].lower():\n",
    "        demographics_df.loc[index, 'Nationality'] = 'Indian'\n",
    "     \n",
    "    \n",
    "    elif 'colombia' in demographics_df.loc[index, 'Nationality'].lower():\n",
    "        demographics_df.loc[index, 'Nationality'] = 'Colombian'\n",
    "     \n",
    "    \n",
    "    elif 'indonesia' in demographics_df.loc[index, 'Nationality'].lower():\n",
    "        demographics_df.loc[index, 'Nationality'] = 'Indonesian'\n",
    "     \n",
    "    \n",
    "    elif 'russia' in demographics_df.loc[index, 'Nationality'].lower():\n",
    "        demographics_df.loc[index, 'Nationality'] = 'Russian'\n",
    "      \n",
    "    \n",
    "    elif 'spain' in demographics_df.loc[index, 'Nationality'].lower():\n",
    "        demographics_df.loc[index, 'Nationality'] = 'Spanish'\n",
    "\n",
    "        \n",
    "    elif 'germany' in demographics_df.loc[index, 'Nationality'].lower():\n",
    "        demographics_df.loc[index, 'Nationality'] = 'German'\n",
    "        \n",
    "        \n",
    "    elif 'philippines' in demographics_df.loc[index, 'Nationality'].lower() \\\n",
    "    or 'filipino' in demographics_df.loc[index, 'Nationality'].lower():\n",
    "        demographics_df.loc[index, 'Nationality'] = 'Filipino'\n",
    "      \n",
    "    \n",
    "    elif 'nigeria' in demographics_df.loc[index, 'Nationality'].lower():\n",
    "        demographics_df.loc[index, 'Nationality'] = 'Nigerian'\n",
    "        \n",
    "        \n",
    "    elif 'canada' in demographics_df.loc[index, 'Nationality'].lower():\n",
    "        demographics_df.loc[index, 'Nationality'] = 'Canadian'  \n",
    "        \n",
    "        \n",
    "    elif 'peru' in demographics_df.loc[index, 'Nationality'].lower():\n",
    "        demographics_df.loc[index, 'Nationality'] = 'Peruvian' \n",
    "       \n",
    "    \n",
    "    elif 'japan' in demographics_df.loc[index, 'Nationality'].lower():\n",
    "        demographics_df.loc[index, 'Nationality'] = 'Japanese'         \n",
    "    \n",
    "    \n",
    "    elif 'congo' in demographics_df.loc[index, 'Nationality'].lower():\n",
    "        demographics_df.loc[index, 'Nationality'] = 'Congolese'          \n",
    "        \n",
    " \n",
    "    elif 'czech' in demographics_df.loc[index, 'Nationality'].lower():\n",
    "        demographics_df.loc[index, 'Nationality'] = 'Czechian'\n",
    "        \n",
    "        \n",
    "    elif 'dominican' in demographics_df.loc[index, 'Nationality'].lower():\n",
    "        demographics_df.loc[index, 'Nationality'] = 'Dominican'\n",
    "        \n",
    "\n",
    "    elif 'mauritius' in demographics_df.loc[index, 'Nationality'].lower():\n",
    "        demographics_df.loc[index, 'Nationality'] = 'Mauritian'   \n",
    "        \n",
    "        \n",
    "    elif 'panama' in demographics_df.loc[index, 'Nationality'].lower():\n",
    "        demographics_df.loc[index, 'Nationality'] = 'Panamanian'\n",
    "        \n",
    "        \n",
    "# Replace \"Windows laptop\" with \"Windows\"\n",
    "demographics_df['Current Laptop'].replace('Windows laptop',\n",
    "                                          'Windows',\n",
    "                                          inplace = True)\n",
    "\n",
    "demographics_df['Future Laptop'].replace('Windows laptop',\n",
    "                                         'Windows',\n",
    "                                         inplace = True)\n",
    "\n",
    "# Loop through each value in each row\n",
    "for index, column in demographics_df.iterrows():\n",
    "    \n",
    "    # Substitute business analytics with shorthand\n",
    "    demographics_df.loc[index, 'Program'] = \\\n",
    "        re.sub(r'Business Analytics', 'MsBA', demographics_df.loc[index, 'Program'])\n",
    "\n",
    "    # Substitute disruptive innovation with shorthand    \n",
    "    demographics_df.loc[index, 'Program'] = \\\n",
    "        re.sub(r'Disruptive Innovation', 'MDI', demographics_df.loc[index, 'Program'])\n",
    "\n",
    "# Check cleaned data\n",
    "#demographics_df"
   ]
  },
  {
   "cell_type": "code",
   "execution_count": 4,
   "metadata": {
    "ExecuteTime": {
     "end_time": "2021-02-18T17:11:54.407989Z",
     "start_time": "2021-02-18T17:11:54.406513Z"
    }
   },
   "outputs": [],
   "source": [
    "# Deal with continent aggreggation\n",
    "\n",
    "#country_df"
   ]
  },
  {
   "cell_type": "markdown",
   "metadata": {},
   "source": [
    "<br>\n",
    "<br>\n",
    "\n",
    "## Big Five Data"
   ]
  },
  {
   "cell_type": "code",
   "execution_count": 5,
   "metadata": {
    "ExecuteTime": {
     "end_time": "2021-02-18T17:11:54.415817Z",
     "start_time": "2021-02-18T17:11:54.409647Z"
    },
    "code_folding": [
     0
    ],
    "scrolled": true
   },
   "outputs": [],
   "source": [
    "# Match questions with traits & rename columns\n",
    "\n",
    "#############################\n",
    "# Personality abbreviations\n",
    "#############################\n",
    "# EXT - Questions to measure Extroversion.\n",
    "# AGR - Questions to measure Agreeableness\n",
    "# CSN - Questions to measure Conscientiousness\n",
    "# EST - Questions to measure Neuroticism\n",
    "# OPN - Questions to measure Openness to Experience\n",
    "\n",
    "\n",
    "# Create dictionary of questions to personality\n",
    "questions_traits = {\n",
    "    \n",
    "    \"Am the life of the party\"                                   : 'EXT1',\n",
    "    \"Feel little concern for others\"                             : 'AGR1',\n",
    "    \"Am always prepared\"                                         : 'CSN1',\n",
    "    \"Get stressed out easily\"                                    : 'EST1',\n",
    "    \"Have a rich vocabulary\"                                     : 'OPN1',\n",
    "    \n",
    "    \"Don't talk a lot\"                                           : 'EXT2',\n",
    "    \"Am interested in people\"                                    : 'AGR2',\n",
    "    \"Leave my belongings around\"                                 : 'CSN2',\n",
    "    \"Am relaxed most of the time\"                                : 'EST2',\n",
    "    \"Have difficulty understanding abstract ideas\"               : 'OPN2',\n",
    "    \n",
    "    \"Feel comfortable around people\"                             : 'EXT3',\n",
    "    \"Insult people\"                                              : 'AGR3',\n",
    "    \"Pay attention to details\"                                   : 'CSN3',\n",
    "    \"Worry about things\"                                         : 'EST3',\n",
    "    \"Have a vivid imagination\"                                   : 'OPN3',\n",
    "    \n",
    "    \"Keep in the background\"                                     : 'EXT4',\n",
    "    \"Sympathize with others' feelings\"                           : 'AGR4',\n",
    "    \"Make a mess of things\"                                      : 'CSN4',\n",
    "    \"Seldom feel blue\"                                           : 'EST4',\n",
    "    \"Am not interested in abstract ideas\"                        : 'OPN4',\n",
    "    \n",
    "    \"Start conversations\"                                        : 'EXT5',\n",
    "    \"Am not interested in other people's problems\"               : 'AGR5',\n",
    "    \"Get chores done right away\"                                 : 'CSN5',\n",
    "    \"Am easily disturbed\"                                        : 'EST5',\n",
    "    \"Have excellent ideas\"                                       : 'OPN5',\n",
    "    \n",
    "    \"Have little to say\"                                         : 'EXT6',\n",
    "    \"Have a soft heart\"                                          : 'AGR6',\n",
    "    \"Often forget to put things back in their proper place\"      : 'CSN6',\n",
    "    \"Get upset easily\"                                           : 'EST6',\n",
    "    \"Do not have a good imagination\"                             : 'OPN6',\n",
    "    \n",
    "    \"Talk to a lot of different people at parties\"               : 'EXT7',\n",
    "    \"Am not really interested in others\"                         : 'AGR7',\n",
    "    \"Like order\"                                                 : 'CSN7',\n",
    "    \"Change my mood a lot\"                                       : 'EST7',\n",
    "    \"Am quick to understand things\"                              : 'OPN7',\n",
    "    \n",
    "    \"Don't like to draw attention to myself\"                     : 'EXT8',\n",
    "    \"Take time out for others\"                                   : 'AGR8',\n",
    "    \"Shirk my duties\"                                            : 'CSN8',\n",
    "    \"Have frequent mood swings\"                                  : 'EST8',\n",
    "    \"Use difficult words\"                                        : 'OPN8',\n",
    "    \n",
    "    \"Don't mind being the center of attention\"                   : 'EXT9',\n",
    "    \"Feel others' emotions\"                                      : 'AGR9',\n",
    "    \"Follow a schedule\"                                          : 'CSN9',\n",
    "    \"Get irritated easily\"                                       : 'EST9',\n",
    "    \"Spend time reflecting on things\"                            : 'OPN9',\n",
    "    \n",
    "    \"Am quiet around strangers\"                                  : 'EXT10',\n",
    "    \"Make people feel at ease\"                                   : 'AGR10',\n",
    "    \"Am exacting in my work\"                                     : 'CSN10',\n",
    "    \"Often feel blue\"                                            : 'EST10',\n",
    "    \"Am full of ideas\"                                           : 'OPN10'\n",
    "}\n",
    "\n",
    "\n",
    "# Rename columns\n",
    "big5_df.rename(columns = questions_traits, inplace = True)\n",
    "\n",
    "# Check cleaned data\n",
    "# big5_df"
   ]
  },
  {
   "cell_type": "code",
   "execution_count": 6,
   "metadata": {
    "ExecuteTime": {
     "end_time": "2021-02-18T17:11:54.421020Z",
     "start_time": "2021-02-18T17:11:54.417145Z"
    },
    "code_folding": [
     0
    ]
   },
   "outputs": [],
   "source": [
    "# Identification of reversals\n",
    "\n",
    "\n",
    "# positive questions that add to the trait\n",
    "positive_questions = [ \n",
    "    'EXT1','EXT3','EXT5','EXT7','EXT9',                       # EXT 5\n",
    "    'EST1','EST3','EST5','EST6','EST7','EST8','EST9','EST10', # EST 8\n",
    "    'AGR2','AGR4','AGR6','AGR8','AGR9','AGR10',               # AGR 6\n",
    "    'CSN1','CSN3','CSN5','CSN7','CSN9','CSN10',               # CSN 6\n",
    "    'OPN1','OPN3','OPN5','OPN7','OPN8','OPN9','OPN10',        # OPN 7\n",
    "]\n",
    "\n",
    "# negative questions that substract from the trait\n",
    "negative_questions = [ \n",
    "    'EXT2','EXT4','EXT6','EXT8','EXT10',                      # EXT 5\n",
    "    'EST2','EST4',                                            # EST 2\n",
    "    'AGR1','AGR3','AGR5','AGR7',                              # AGR 4\n",
    "    'CSN2','CSN4','CSN6','CSN8',                              # CSN 4\n",
    "    'OPN2','OPN4','OPN6',                                     # OPN 3\n",
    "]\n",
    "\n",
    "\n",
    "# dictionary of each question and its reversal\n",
    "crosscheck_questions = {\n",
    "    \n",
    "    # Extroversion\n",
    "    'EXT1' : 'EXT2',\n",
    "    'EXT3' : 'EXT4',\n",
    "    'EXT5' : 'EXT6',\n",
    "    'EXT7' : 'EXT8',\n",
    "    'EXT9' : 'EXT10',\n",
    "    \n",
    "    # Agreeableness\n",
    "    'AGR2' : 'AGR1',\n",
    "    'AGR4' : 'AGR3',\n",
    "    'AGR6' : 'AGR5',\n",
    "    'AGR8' : 'AGR7',\n",
    "    \n",
    "    # Conscientiousness\n",
    "    'CSN1' : 'CSN2',\n",
    "    'CSN3' : 'CSN4',\n",
    "    'CSN5' : 'CSN6',\n",
    "    'CSN7' : 'CSN8',\n",
    "    \n",
    "    # Neuroticism\n",
    "    'EST1' : 'EST2',\n",
    "    'EST4' : 'EST10',\n",
    "    \n",
    "    # Openness\n",
    "    'OPN1' : 'OPN2',\n",
    "    'OPN3' : 'OPN4',\n",
    "    'OPN5' : 'OPN6'\n",
    "    \n",
    "}"
   ]
  },
  {
   "cell_type": "code",
   "execution_count": 7,
   "metadata": {
    "ExecuteTime": {
     "end_time": "2021-02-18T17:11:54.666914Z",
     "start_time": "2021-02-18T17:11:54.422285Z"
    },
    "code_folding": [
     0
    ],
    "scrolled": true
   },
   "outputs": [],
   "source": [
    "# Check validity of survey responses & drop invalid ones\n",
    "\n",
    "\n",
    "\n",
    "##############################################################################\n",
    "# Flag invalid responses\n",
    "\n",
    "# Loop over column names of Big 5 DF\n",
    "for column_name in big5_df.columns:\n",
    "    \n",
    "    # Loop over keys and values of Crosscheck Questions dict\n",
    "    for key, value in crosscheck_questions.items():\n",
    "        \n",
    "        # If column from DF is in the keys of the dict\n",
    "        if column_name in key:\n",
    "            \n",
    "            # Create a new column of the key-value pair as a placeholder for flag\n",
    "            big5_df[key + ' & ' + value] = 0\n",
    "            \n",
    "            # Loop over each row\n",
    "            for index, column in big5_df.iterrows():\n",
    "                \n",
    "                # If the values in each column match\n",
    "                if big5_df.loc[index, key] == big5_df.loc[index, value]:\n",
    "                    \n",
    "                    # Flag the row\n",
    "                    big5_df.loc[index, key + ' & ' + value] = 1\n",
    "    \n",
    "    \n",
    "    \n",
    "##############################################################################\n",
    "# Sum flags\n",
    "\n",
    "# Save list of flag column names\n",
    "#flag_columns = big5_df.iloc[:,50:].columns\n",
    "\n",
    "# Print each flag column\n",
    "#for flag in flag_columns:\n",
    "#    print(f\"big5_df['{flag}'] + \\\\\")\n",
    "    \n",
    "# Sum the flags\n",
    "big5_df['FLAG_SUM']=big5_df['EXT1 & EXT2'] + \\\n",
    "                    big5_df['CSN1 & CSN2'] + \\\n",
    "                    big5_df['EST1 & EST2'] + \\\n",
    "                    big5_df['OPN1 & OPN2'] + \\\n",
    "                    big5_df['AGR2 & AGR1'] + \\\n",
    "                    big5_df['EXT3 & EXT4'] + \\\n",
    "                    big5_df['CSN3 & CSN4'] + \\\n",
    "                    big5_df['OPN3 & OPN4'] + \\\n",
    "                    big5_df['AGR4 & AGR3'] + \\\n",
    "                    big5_df['EST4 & EST10'] + \\\n",
    "                    big5_df['EXT5 & EXT6'] + \\\n",
    "                    big5_df['CSN5 & CSN6'] + \\\n",
    "                    big5_df['OPN5 & OPN6'] + \\\n",
    "                    big5_df['AGR6 & AGR5'] + \\\n",
    "                    big5_df['EXT7 & EXT8'] + \\\n",
    "                    big5_df['CSN7 & CSN8'] + \\\n",
    "                    big5_df['AGR8 & AGR7'] + \\\n",
    "                    big5_df['EXT9 & EXT10']\n",
    "\n",
    "\n",
    "\n",
    "##############################################################################\n",
    "# Remove invalid survey responses\n",
    "\n",
    "# There are a total of 18 validity checks in the form of reversal questions.\n",
    "\n",
    "# If a respondent answers with identical scores for more than half of those\n",
    "# questions (9 or more), then than respondents submission will be considered \n",
    "# invalid and they will be dropped from the analysis\n",
    "\n",
    "\n",
    "# Check number of invalid responses\n",
    "#len(big5_df.loc[big5_df['FLAG_SUM'] > 8, :])\n",
    "\n",
    "\n",
    "# Drop invalid responses (5 in total) & flags\n",
    "#big5_df = big5_df.loc[big5_df['FLAG_SUM'] < 9, :'OPN10']"
   ]
  },
  {
   "cell_type": "code",
   "execution_count": 8,
   "metadata": {
    "ExecuteTime": {
     "end_time": "2021-02-18T17:11:54.695658Z",
     "start_time": "2021-02-18T17:11:54.671484Z"
    },
    "code_folding": [
     0
    ]
   },
   "outputs": [],
   "source": [
    "# Big 5 score system adjustment, aggreggation, & scaling\n",
    "\n",
    "\n",
    "\n",
    "##############################################################################\n",
    "# Change scoring system from 1 through 5 to -2 through 2 depending on whether\n",
    "# the question adds or substracts from each trait\n",
    "\n",
    "# Positive scores\n",
    "positive_scores = {1 : -2,\n",
    "                   2 : -1,\n",
    "                   3 :  0, \n",
    "                   4 :  1,\n",
    "                   5 :  2}\n",
    "\n",
    "# Negative scores\n",
    "negative_scores = {1 :  2,\n",
    "                   2 :  1,\n",
    "                   3 :  0,\n",
    "                   4 : -1,\n",
    "                   5 : -2}\n",
    "\n",
    "# Replace values in positive questions\n",
    "big5_df[positive_questions] = \\\n",
    "    big5_df[positive_questions].replace(positive_scores)\n",
    "\n",
    "# Replace values in negative questions\n",
    "big5_df[negative_questions] = \\\n",
    "    big5_df[negative_questions].replace(negative_scores)\n",
    "\n",
    "\n",
    "\n",
    "##############################################################################\n",
    "# Aggreggate Big Five Scores\n",
    "\n",
    "# Instantiate list of traits\n",
    "traits = ['EXT', 'EST', 'AGR', 'CSN', 'OPN']\n",
    "\n",
    "# Loop through each trait in the list of traits\n",
    "for trait in traits:\n",
    "    \n",
    "    # Loop over the list of column names with the variable col\n",
    "    # and add it to a new list if col containts one of the traits\n",
    "    trait_cols = sorted([col for col in big5_df.columns if trait in col])\n",
    "    \n",
    "    # Sum each of the scores for each trait\n",
    "    big5_df[trait] = big5_df[trait_cols].sum(axis=1)\n",
    "    \n",
    "    # Place aggreggated score for each trait in DF\n",
    "    big5_df[trait]\n",
    "\n",
    "    \n",
    "    # Code for looping over column names is adapted from:\n",
    "    # https://stackoverflow.com/questions/21285380/find-column-whose-name-contains-a-specific-string    \n",
    "    \n",
    "# Extract aggregated data into separate DF\n",
    "big5_agg = big5_df.iloc[:, -5:]\n",
    "\n",
    "\n",
    "\n",
    "##############################################################################\n",
    "# Scale Big Five Scores\n",
    "\n",
    "# INSTANTIATING a StandardScaler() object\n",
    "scaler = StandardScaler()\n",
    "\n",
    "\n",
    "# FITTING the scaler with the data\n",
    "scaler.fit(big5_agg)\n",
    "\n",
    "\n",
    "# TRANSFORMING our data after fit\n",
    "X_scaled = scaler.transform(big5_agg)\n",
    "\n",
    "\n",
    "# converting scaled data into a DataFrame\n",
    "big5_agg_scaled = pd.DataFrame(X_scaled)\n",
    "\n",
    "\n",
    "# reattaching column names\n",
    "big5_agg_scaled.columns = big5_agg.columns"
   ]
  },
  {
   "cell_type": "code",
   "execution_count": 9,
   "metadata": {
    "ExecuteTime": {
     "end_time": "2021-02-18T17:11:55.427293Z",
     "start_time": "2021-02-18T17:11:54.699732Z"
    },
    "code_folding": [
     0
    ],
    "scrolled": false
   },
   "outputs": [
    {
     "data": {
      "image/png": "[encoded data removed]",
      "text/plain": [
       "<Figure size 864x576 with 5 Axes>"
      ]
     },
     "metadata": {
      "needs_background": "light"
     },
     "output_type": "display_data"
    }
   ],
   "source": [
    "# Plot distributions of Big 5 results\n",
    "\n",
    "# Rename columns for aesthetics\n",
    "big5_abbreviations = {\n",
    "    'EXT' : 'Extroversion',\n",
    "    'EST' : 'Neuroticism',\n",
    "    'AGR' : 'Agreeableness',\n",
    "    'CSN' : 'Conscientiousness',\n",
    "    'OPN' : 'Openness to Experience'\n",
    "}\n",
    "\n",
    "big5_agg_scaled.rename(columns = big5_abbreviations, inplace = True)\n",
    "\n",
    "# Set figure size\n",
    "fig, ax = plt.subplots(figsize = (12, 8))\n",
    "\n",
    "\n",
    "# Initialize a counter\n",
    "count = 0\n",
    "\n",
    "\n",
    "# Loop to create visualizations\n",
    "for col in big5_agg_scaled:\n",
    "\n",
    "    # condition to break\n",
    "    if count == 5:\n",
    "        break\n",
    "    \n",
    "    # increase count\n",
    "    count += 1\n",
    "    \n",
    "    # Prepare histograms\n",
    "    plt.subplot(2, 3, count)\n",
    "    sns.histplot(x = big5_agg_scaled[col], color = 'steelblue')\n",
    "    \n",
    "plt.tight_layout()\n",
    "plt.savefig('./_images/analysis/big5_scaled_histograms.png')\n",
    "plt.show()"
   ]
  },
  {
   "cell_type": "code",
   "execution_count": 10,
   "metadata": {
    "ExecuteTime": {
     "end_time": "2021-02-18T17:11:55.662506Z",
     "start_time": "2021-02-18T17:11:55.429135Z"
    },
    "code_folding": [
     0
    ],
    "scrolled": false
   },
   "outputs": [
    {
     "data": {
      "image/png": "[encoded data removed]",
      "text/plain": [
       "<Figure size 576x576 with 2 Axes>"
      ]
     },
     "metadata": {
      "needs_background": "light"
     },
     "output_type": "display_data"
    }
   ],
   "source": [
    "# Plot correlation heatmap of aggregated Big 5 results\n",
    "\n",
    "# setting plot size\n",
    "fig, ax = plt.subplots(figsize = (8, 8))\n",
    "\n",
    "\n",
    "# developing a correlation matrix object\n",
    "df_corr = big5_agg_scaled.corr(method = 'pearson').round(2)\n",
    "\n",
    "# define the mask to set the values in the upper triangle to True\n",
    "mask = np.triu(np.ones_like(df_corr, dtype=np.bool))\n",
    "\n",
    "# creating a correlation heatmap\n",
    "sns.heatmap(df_corr,\n",
    "            cmap   = 'coolwarm',\n",
    "            square = True,\n",
    "            annot  = True,\n",
    "            mask   = mask)\n",
    "\n",
    "\n",
    "# saving and displaying the heatmap\n",
    "plt.savefig('./_images/analysis/big5_heatmap.png')\n",
    "plt.show()"
   ]
  },
  {
   "cell_type": "markdown",
   "metadata": {},
   "source": [
    "<br><br>\n",
    "\n",
    "## Hult DNA Data"
   ]
  },
  {
   "cell_type": "code",
   "execution_count": 11,
   "metadata": {
    "ExecuteTime": {
     "end_time": "2021-02-18T17:11:55.667808Z",
     "start_time": "2021-02-18T17:11:55.664382Z"
    },
    "code_folding": [
     0
    ]
   },
   "outputs": [],
   "source": [
    "# Drop duplicate columns\n",
    "\n",
    "hult_df = hult_df[hult_df.columns.drop(list(hult_df.filter(regex='.1')))]"
   ]
  },
  {
   "cell_type": "code",
   "execution_count": 12,
   "metadata": {
    "ExecuteTime": {
     "end_time": "2021-02-18T17:11:55.672987Z",
     "start_time": "2021-02-18T17:11:55.669184Z"
    },
    "code_folding": [
     0
    ]
   },
   "outputs": [],
   "source": [
    "# Match questions with traits & rename columns\n",
    "\n",
    "#############################\n",
    "# Personality abbreviations\n",
    "#############################\n",
    "# TH - Questions to measure Thinking\n",
    "# CM - Questions to measure Communicating\n",
    "# TB - Questions to measure Team Building\n",
    "\n",
    "\n",
    "# Create dictionary of questions to personality\n",
    "questions_traits = {\n",
    "\"See underlying patterns in complex situations\"                              : 'TH1',\n",
    "\"Don't  generate ideas that are new and different\"                           : 'TH2',\n",
    "\"Demonstrate an awareness of personal strengths and limitations\"             : 'TH3',\n",
    "\"Display a growth mindset\"                                                   : 'TH4',\n",
    "\"Respond effectively to multiple priorities\"                                 : 'CM1',\n",
    "\"Take initiative even when circumstances, objectives, or rules aren't clear\" : 'CM2', # Not sure\n",
    "\"Encourage direct and open discussions\"                                      : 'TB1',\n",
    "\"Listen carefully to others\"                                                 : 'CM3',\n",
    "\"Don't persuasively sell a vision or idea\"                                   : 'CM4',\n",
    "\"Build cooperative relationships\"                                            : 'TB2',\n",
    "\"Work well with people from diverse cultural backgrounds\"                    : 'TB3',\n",
    "\"Effectively negotiate interests, resources, and roles\"                      : 'CM5',\n",
    "\"Can't rally people on the team around a common goal\"                        : 'TB4',\n",
    "\"Translate ideas into plans that are organized and realistic\"                : 'TH5',\n",
    "\"Resolve conflicts constructively\"                                           : 'TB5',\n",
    "\"Seek and use feedback from teammates\"                                       : 'TB6',\n",
    "\"Coach teammates for performance and growth\"                                 : 'TB7',\n",
    "\"Drive for results\"                                                          : 'CM6'  # Not sure\n",
    "}\n",
    "\n",
    "\n",
    "# positive questions that add to the trait\n",
    "positive_questions = [ \n",
    "    'TH1', 'TH3', 'TH4', 'TH5',               # TH 4\n",
    "    'CM1', 'CM2', 'CM3', 'CM5', 'CM6',         # CM 5\n",
    "    'TB1', 'TB2', 'TB3', 'TB5', 'TB6', 'TB7'  # TB 6\n",
    "]\n",
    "\n",
    "# negative questions that substract from the trait\n",
    "negative_questions = [ \n",
    "    'TH2',                                    # TH 1\n",
    "    'CM4',                                    # CM 1\n",
    "    'TB4',                                    # TB 1\n",
    "]\n",
    "\n",
    "\n",
    "\n",
    "# Rename columns\n",
    "hult_df.rename(columns = questions_traits, inplace = True)\n",
    "\n",
    "# Check cleaned data\n",
    "# hult_df"
   ]
  },
  {
   "cell_type": "code",
   "execution_count": 13,
   "metadata": {
    "ExecuteTime": {
     "end_time": "2021-02-18T17:11:55.691960Z",
     "start_time": "2021-02-18T17:11:55.674304Z"
    },
    "code_folding": [
     0
    ]
   },
   "outputs": [],
   "source": [
    "# Hult DNA score system adjustment, aggreggation, & scaling\n",
    "\n",
    "\n",
    "##############################################################################\n",
    "# Change scoring system from 1 through 5 to -2 through 2 depending on whether\n",
    "# the question adds or substracts from each trait\n",
    "\n",
    "# Positive scores\n",
    "positive_scores = {1 : -2,\n",
    "                   2 : -1,\n",
    "                   3 :  0, \n",
    "                   4 :  1,\n",
    "                   5 :  2}\n",
    "\n",
    "# Negative scores\n",
    "negative_scores = {1 :  2,\n",
    "                   2 :  1,\n",
    "                   3 :  0,\n",
    "                   4 : -1,\n",
    "                   5 : -2}\n",
    "\n",
    "# Replace values in positive questions\n",
    "hult_df[positive_questions] = \\\n",
    "    hult_df[positive_questions].replace(positive_scores)\n",
    "\n",
    "# Replace values in negative questions\n",
    "hult_df[negative_questions] = \\\n",
    "    hult_df[negative_questions].replace(negative_scores)\n",
    "\n",
    "##############################################################################\n",
    "# Aggreggate Hult DNA Scores\n",
    "\n",
    "# Instantiate list of traits\n",
    "traits = ['TH', 'CM', 'TB']\n",
    "\n",
    "# Loop through each trait in the list of traits\n",
    "for trait in traits:\n",
    "    \n",
    "    # Loop over the list of column names with the variable col\n",
    "    # and add it to a new list if col containts one of the traits\n",
    "    trait_cols = sorted([col for col in hult_df.columns if trait in col])\n",
    "    \n",
    "    # Sum each of the scores for each trait\n",
    "    hult_df[trait] = hult_df[trait_cols].sum(axis=1)\n",
    "    \n",
    "    # Place aggreggated score for each trait in DF\n",
    "    hult_df[trait]\n",
    "\n",
    "    \n",
    "    # Code for looping over column names is adapted from:\n",
    "    # https://stackoverflow.com/questions/21285380/find-column-whose-name-contains-a-specific-string    \n",
    "    \n",
    "# Extract aggregated data into separate DF\n",
    "hult_agg = hult_df.iloc[:, -3:]\n",
    "\n",
    "##############################################################################\n",
    "# Scale Hult DNA Scores\n",
    "\n",
    "# INSTANTIATING a StandardScaler() object\n",
    "scaler = StandardScaler()\n",
    "\n",
    "\n",
    "# FITTING the scaler with the data\n",
    "scaler.fit(hult_agg)\n",
    "\n",
    "\n",
    "# TRANSFORMING our data after fit\n",
    "X_scaled = scaler.transform(hult_agg)\n",
    "\n",
    "\n",
    "# converting scaled data into a DataFrame\n",
    "hult_agg_scaled = pd.DataFrame(X_scaled)\n",
    "\n",
    "\n",
    "# reattaching column names\n",
    "hult_agg_scaled.columns = hult_agg.columns"
   ]
  },
  {
   "cell_type": "code",
   "execution_count": 14,
   "metadata": {
    "ExecuteTime": {
     "end_time": "2021-02-18T17:11:56.134588Z",
     "start_time": "2021-02-18T17:11:55.693403Z"
    },
    "code_folding": [
     0
    ]
   },
   "outputs": [
    {
     "data": {
      "image/png": "[encoded data removed]",
      "text/plain": [
       "<Figure size 864x576 with 3 Axes>"
      ]
     },
     "metadata": {
      "needs_background": "light"
     },
     "output_type": "display_data"
    }
   ],
   "source": [
    "# Plot distributions of Hult DNA results\n",
    "\n",
    "# Rename columns for aesthetics\n",
    "hult_dna_abbreviations = {\n",
    "    'TH' : 'Thinking',\n",
    "    'CM' : 'Communicating',\n",
    "    'TB' : 'Team Building'\n",
    "}\n",
    "\n",
    "hult_agg_scaled.rename(columns = hult_dna_abbreviations, inplace = True)\n",
    "\n",
    "# Set figure size\n",
    "fig, ax = plt.subplots(figsize = (12, 8))\n",
    "\n",
    "\n",
    "# Initialize a counter\n",
    "count = 0\n",
    "\n",
    "\n",
    "# Loop to create visualizations\n",
    "for col in hult_agg_scaled:\n",
    "\n",
    "    # condition to break\n",
    "    if count == 5:\n",
    "        break\n",
    "    \n",
    "    # increase count\n",
    "    count += 1\n",
    "    \n",
    "    # Prepare histograms\n",
    "    plt.subplot(2, 3, count)\n",
    "    sns.histplot(x = hult_agg_scaled[col], color = 'steelblue')\n",
    "    \n",
    "plt.tight_layout()\n",
    "plt.savefig('./_images/analysis/hult_dna_scaled_histograms.png')\n",
    "plt.show()"
   ]
  },
  {
   "cell_type": "code",
   "execution_count": 15,
   "metadata": {
    "ExecuteTime": {
     "end_time": "2021-02-18T17:11:56.312230Z",
     "start_time": "2021-02-18T17:11:56.136027Z"
    },
    "code_folding": [
     0
    ],
    "scrolled": false
   },
   "outputs": [
    {
     "data": {
      "image/png": "[encoded data removed]",
      "text/plain": [
       "<Figure size 576x576 with 2 Axes>"
      ]
     },
     "metadata": {
      "needs_background": "light"
     },
     "output_type": "display_data"
    }
   ],
   "source": [
    "# Plot correlation heatmap of aggregated Hult DNA results\n",
    "\n",
    "# setting plot size\n",
    "fig, ax = plt.subplots(figsize = (8, 8))\n",
    "\n",
    "\n",
    "# developing a correlation matrix object\n",
    "df_corr = hult_agg_scaled.corr(method = 'pearson').round(2)\n",
    "\n",
    "# define the mask to set the values in the upper triangle to True\n",
    "mask = np.triu(np.ones_like(df_corr, dtype=np.bool))\n",
    "\n",
    "# creating a correlation heatmap\n",
    "sns.heatmap(df_corr,\n",
    "            cmap   = 'coolwarm',\n",
    "            square = True,\n",
    "            annot  = True,\n",
    "            mask   = mask)\n",
    "\n",
    "\n",
    "# saving and displaying the heatmap\n",
    "plt.savefig('./_images/analysis/hult_dna_heatmap.png')\n",
    "plt.show()"
   ]
  },
  {
   "cell_type": "markdown",
   "metadata": {},
   "source": [
    "<br><br>\n",
    "\n",
    "## Merged Data"
   ]
  },
  {
   "cell_type": "code",
   "execution_count": 29,
   "metadata": {
    "ExecuteTime": {
     "end_time": "2021-02-18T17:19:35.254010Z",
     "start_time": "2021-02-18T17:19:35.248466Z"
    },
    "code_folding": [
     0
    ]
   },
   "outputs": [],
   "source": [
    "# Merge & export aggregated & scaled data from two surveys\n",
    "\n",
    "# Merge\n",
    "agg_scaled_df = pd.concat([big5_agg_scaled, hult_agg_scaled], axis = 1)\n",
    "\n",
    "# Export as CSV\n",
    "agg_scaled_df.to_csv('./_data/aggreggated_scaled_results.csv')"
   ]
  },
  {
   "cell_type": "code",
   "execution_count": 17,
   "metadata": {
    "ExecuteTime": {
     "end_time": "2021-02-18T17:11:56.645851Z",
     "start_time": "2021-02-18T17:11:56.317053Z"
    },
    "code_folding": [
     0
    ]
   },
   "outputs": [
    {
     "data": {
      "image/png": "[encoded data removed]",
      "text/plain": [
       "<Figure size 576x576 with 2 Axes>"
      ]
     },
     "metadata": {
      "needs_background": "light"
     },
     "output_type": "display_data"
    }
   ],
   "source": [
    "# Plot correlation heatmap of merged aggregated results\n",
    "\n",
    "\n",
    "# setting plot size\n",
    "fig, ax = plt.subplots(figsize = (8, 8))\n",
    "\n",
    "\n",
    "# developing a correlation matrix object\n",
    "df_corr = agg_scaled_df.corr(method = 'pearson').round(2)\n",
    "\n",
    "\n",
    "# define the mask to set the values in the upper triangle to True\n",
    "mask = np.triu(np.ones_like(df_corr, dtype=np.bool))\n",
    "\n",
    "\n",
    "# creating a correlation heatmap\n",
    "sns.heatmap(df_corr,\n",
    "            cmap = 'coolwarm',\n",
    "            square = True,\n",
    "            annot = True,\n",
    "            mask = mask)\n",
    "\n",
    "\n",
    "# saving and displaying the heatmap\n",
    "plt.savefig('./_images/analysis/final_heatmap.png')\n",
    "plt.show()"
   ]
  },
  {
   "cell_type": "markdown",
   "metadata": {},
   "source": [
    "<br><br>\n",
    "<hr style=\"height:.9px;border:none;color:#333;background-color:#333;\" />\n",
    "<br>\n",
    "\n",
    "# Modeling"
   ]
  },
  {
   "cell_type": "code",
   "execution_count": 18,
   "metadata": {
    "ExecuteTime": {
     "end_time": "2021-02-18T17:11:56.777492Z",
     "start_time": "2021-02-18T17:11:56.647903Z"
    },
    "code_folding": [
     0
    ]
   },
   "outputs": [
    {
     "name": "stdout",
     "output_type": "stream",
     "text": [
      "PC 1 : 0.455\n",
      "PC 2 : 0.126\n",
      "PC 3 : 0.12\n",
      "PC 4 : 0.097\n",
      "PC 5 : 0.08\n",
      "PC 6 : 0.056\n",
      "PC 7 : 0.041\n",
      "PC 8 : 0.025\n"
     ]
    },
    {
     "data": {
      "image/png": "[encoded data removed]",
      "text/plain": [
       "<Figure size 720x576 with 1 Axes>"
      ]
     },
     "metadata": {
      "needs_background": "light"
     },
     "output_type": "display_data"
    }
   ],
   "source": [
    "# Determine the number of Principal Components\n",
    "\n",
    "# INSTANTIATING a PCA object with no limit to principal components\n",
    "pca = PCA(n_components = None,\n",
    "          random_state = 219)\n",
    "\n",
    "\n",
    "# FITTING and TRANSFORMING the scaled data\n",
    "customer_pca = pca.fit(agg_scaled_df)\n",
    "\n",
    "\n",
    "\n",
    "\n",
    "# component number counter\n",
    "component_number = 0\n",
    "\n",
    "# looping over each principal component\n",
    "for variance in pca.explained_variance_ratio_:\n",
    "    component_number += 1\n",
    "    \n",
    "    print(f\"PC {component_number} : {variance.round(3)}\")\n",
    "\n",
    "\n",
    "    \n",
    "    \n",
    "# calling the scree_plot function\n",
    "scree_plot(pca_object = pca)"
   ]
  },
  {
   "cell_type": "code",
   "execution_count": 24,
   "metadata": {
    "ExecuteTime": {
     "end_time": "2021-02-18T17:14:34.701187Z",
     "start_time": "2021-02-18T17:14:33.960045Z"
    },
    "code_folding": [
     0
    ],
    "scrolled": false
   },
   "outputs": [
    {
     "data": {
      "image/png": "[encoded data removed]",
      "text/plain": [
       "<Figure size 864x864 with 2 Axes>"
      ]
     },
     "metadata": {
      "needs_background": "light"
     },
     "output_type": "display_data"
    }
   ],
   "source": [
    "# Plot factor loadings\n",
    "\n",
    "# setting plot size\n",
    "fig, ax = plt.subplots(figsize = (12, 12))\n",
    "\n",
    "\n",
    "# developing a PC to feature heatmap\n",
    "sns.heatmap(pca.components_, \n",
    "            cmap = 'coolwarm',\n",
    "            square = True,\n",
    "            annot = True,\n",
    "            linewidths = 0.1,\n",
    "            linecolor = 'black')\n",
    "\n",
    "\n",
    "# setting more plot options\n",
    "plt.yticks([0, 1, 2, 3, 4, 5, 6, 7],\n",
    "           [\"PC 1\", \"PC 2\", \"PC 3\", \"PC 4\", \"PC 5\", \"PC 6\", \"PC 7\", \"PC 8\"])\n",
    "\n",
    "plt.xticks(range(0, 8),\n",
    "           agg_scaled_df.columns,\n",
    "           rotation=60,\n",
    "           ha='left')\n",
    "\n",
    "plt.xlabel(xlabel = \"Feature\")\n",
    "plt.ylabel(ylabel = \"Principal Component\")\n",
    "\n",
    "# saving the plot\n",
    "plt.savefig('./_images/analysis/factor_loadings.png')\n",
    "\n",
    "# displaying the plot\n",
    "plt.show()\n",
    "\n"
   ]
  },
  {
   "cell_type": "code",
   "execution_count": 28,
   "metadata": {
    "ExecuteTime": {
     "end_time": "2021-02-18T17:16:01.809183Z",
     "start_time": "2021-02-18T17:16:01.797249Z"
    },
    "code_folding": [
     0
    ]
   },
   "outputs": [
    {
     "name": "stdout",
     "output_type": "stream",
     "text": [
      "                               0         1         2         3         4\n",
      "Extroversion            0.188212  0.263933 -0.867138 -0.061628 -0.273272\n",
      "Neuroticism            -0.111239  0.887152  0.355161  0.031601 -0.206503\n",
      "Agreeableness           0.326212  0.070608 -0.022959  0.706930  0.496242\n",
      "Conscientiousness       0.343619 -0.327526  0.297266  0.095993 -0.633434\n",
      "Openness to Experience  0.352928  0.070504  0.067761 -0.637130  0.450904\n",
      "Thinking                0.437081  0.028878  0.166687 -0.228586  0.036442\n",
      "Communicating           0.466753  0.099417 -0.000121  0.005376 -0.173305\n",
      "Team Building           0.440748  0.123912  0.025735  0.167403 -0.022536\n"
     ]
    }
   ],
   "source": [
    "# Export PC Factor Loadings as Exce;\n",
    "\n",
    "# transposing pca components\n",
    "factor_loadings_df = pd.DataFrame(np.transpose(pca.components_))\n",
    "\n",
    "\n",
    "# naming rows as original features\n",
    "factor_loadings_df = factor_loadings_df.set_index(agg_scaled_df.columns)\n",
    "\n",
    "\n",
    "# checking the result\n",
    "print(factor_loadings_df.iloc[:, :5])\n",
    "\n",
    "\n",
    "# saving to Excel\n",
    "factor_loadings_df.to_excel('./_data/factor_loadings.xlsx')"
   ]
  },
  {
   "cell_type": "code",
   "execution_count": null,
   "metadata": {
    "ExecuteTime": {
     "end_time": "2021-02-18T17:07:52.451409Z",
     "start_time": "2021-02-18T17:07:52.308247Z"
    },
    "code_folding": [
     0
    ]
   },
   "outputs": [],
   "source": [
    "# Apply labels to Principal Components\n",
    "\n",
    "# naming each principal component\n",
    "# factor_loadings_df.columns = ['Carnivores',                 # No Vegan, No Vege, No Indian\n",
    "#                               'Veggie Inclusives',          # No Med, No ME, No Wine\n",
    "#                               'Mediterranean Non-Drinkers', # Med, No Wine\n",
    "#                               'Traditionalists',            # ME, No Wine\n",
    "#                               'Vegans',                     # Vegan\n",
    "#                               'Health Specialists']\n",
    "\n",
    "\n",
    "# checking the result\n",
    "# factor_loadings_df"
   ]
  },
  {
   "cell_type": "code",
   "execution_count": null,
   "metadata": {
    "ExecuteTime": {
     "end_time": "2021-02-18T17:07:52.463326Z",
     "start_time": "2021-02-18T17:07:48.733Z"
    },
    "code_folding": [
     0
    ]
   },
   "outputs": [],
   "source": [
    "# # Customer-Level Personas\n",
    "\n",
    "# # converting into a DataFrame \n",
    "# customer_pca = pd.DataFrame(customer_pca)\n",
    "\n",
    "\n",
    "# # renaming columns\n",
    "# customer_pca.columns = factor_loadings_df.columns\n",
    "\n",
    "\n",
    "# # checking results\n",
    "# customer_pca.iloc[:, :]"
   ]
  },
  {
   "cell_type": "markdown",
   "metadata": {},
   "source": [
    "<br><br>\n",
    "<hr style=\"height:.9px;border:none;color:#333;background-color:#333;\" />\n",
    "<br>\n",
    "\n",
    "# References\n",
    "\n",
    "> Rothmann, S., & Coetzer, E. P. (2003). The big five personality dimensions and job performance. Sa Journal of Industrial Psychology, 29(1), 68–74.\n",
    "\n",
    "> Hult (2018-19). Hult DNA Development Guide. Hult International. Business School."
   ]
  }
 ],
 "metadata": {
  "kernelspec": {
   "display_name": "Python 3",
   "language": "python",
   "name": "python3"
  },
  "language_info": {
   "codemirror_mode": {
    "name": "ipython",
    "version": 3
   },
   "file_extension": ".py",
   "mimetype": "text/x-python",
   "name": "python",
   "nbconvert_exporter": "python",
   "pygments_lexer": "ipython3",
   "version": "3.8.5"
  },
  "toc": {
   "base_numbering": 1,
   "nav_menu": {},
   "number_sections": false,
   "sideBar": true,
   "skip_h1_title": false,
   "title_cell": "Table of Contents",
   "title_sidebar": "Contents",
   "toc_cell": false,
   "toc_position": {
    "height": "calc(100% - 180px)",
    "left": "10px",
    "top": "150px",
    "width": "200px"
   },
   "toc_section_display": true,
   "toc_window_display": true
  },
  "varInspector": {
   "cols": {
    "lenName": 16,
    "lenType": 16,
    "lenVar": 40
   },
   "kernels_config": {
    "python": {
     "delete_cmd_postfix": "",
     "delete_cmd_prefix": "del ",
     "library": "var_list.py",
     "varRefreshCmd": "print(var_dic_list())"
    },
    "r": {
     "delete_cmd_postfix": ") ",
     "delete_cmd_prefix": "rm(",
     "library": "var_list.r",
     "varRefreshCmd": "cat(var_dic_list()) "
    }
   },
   "types_to_exclude": [
    "module",
    "function",
    "builtin_function_or_method",
    "instance",
    "_Feature"
   ],
   "window_display": false
  }
 },
 "nbformat": 4,
 "nbformat_minor": 5
}
